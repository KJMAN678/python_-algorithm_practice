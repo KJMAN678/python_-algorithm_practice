{
 "cells": [
  {
   "cell_type": "code",
   "execution_count": 1,
   "id": "related-schema",
   "metadata": {},
   "outputs": [],
   "source": [
    "# N 街の数\n",
    "# M 道の数"
   ]
  },
  {
   "cell_type": "code",
   "execution_count": 2,
   "id": "awful-antibody",
   "metadata": {},
   "outputs": [],
   "source": [
    "# 無限大を表す定数として、非常に大きい数を用意しておく\n",
    "INF = 1000000000000000000000"
   ]
  },
  {
   "cell_type": "code",
   "execution_count": 3,
   "id": "fabulous-coffee",
   "metadata": {},
   "outputs": [
    {
     "name": "stdin",
     "output_type": "stream",
     "text": [
      " 3 4\n"
     ]
    }
   ],
   "source": [
    "N, M = map(int, input().split())"
   ]
  },
  {
   "cell_type": "code",
   "execution_count": 4,
   "id": "antique-engagement",
   "metadata": {},
   "outputs": [],
   "source": [
    "# 全ての頂点の組についての最短距離を保存する2次元配列 dist を作る\n",
    "dist = []"
   ]
  },
  {
   "cell_type": "code",
   "execution_count": 5,
   "id": "funded-thomson",
   "metadata": {},
   "outputs": [],
   "source": [
    "# 最初は辺が1本も張られていないため、無限大の辺が貼られているとして\n",
    "# N x N 個のINF で埋めておく\n",
    "for i in range(0, N):\n",
    "    dist.append([])\n",
    "    for j in range(0, N):\n",
    "        dist[i].append(INF)"
   ]
  },
  {
   "cell_type": "code",
   "execution_count": 6,
   "id": "based-mixer",
   "metadata": {},
   "outputs": [
    {
     "data": {
      "text/plain": [
       "[[1000000000000000000000, 1000000000000000000000, 1000000000000000000000],\n",
       " [1000000000000000000000, 1000000000000000000000, 1000000000000000000000],\n",
       " [1000000000000000000000, 1000000000000000000000, 1000000000000000000000]]"
      ]
     },
     "execution_count": 6,
     "metadata": {},
     "output_type": "execute_result"
    }
   ],
   "source": [
    "dist"
   ]
  },
  {
   "cell_type": "code",
   "execution_count": 7,
   "id": "impressed-aluminum",
   "metadata": {},
   "outputs": [
    {
     "name": "stdin",
     "output_type": "stream",
     "text": [
      " 0 1 1\n",
      " 1 0 2\n",
      " 1 2 3\n",
      " 2 0 4\n"
     ]
    }
   ],
   "source": [
    "# グラフの辺を受け取り、dist に直接書き込む\n",
    "for _ in range(0, M):\n",
    "    u, v, c = map(int, input().split())\n",
    "    dist[u][v] = c"
   ]
  },
  {
   "cell_type": "code",
   "execution_count": 8,
   "id": "banned-advertiser",
   "metadata": {},
   "outputs": [
    {
     "data": {
      "text/plain": [
       "[[1000000000000000000000, 1, 1000000000000000000000],\n",
       " [2, 1000000000000000000000, 3],\n",
       " [4, 1000000000000000000000, 1000000000000000000000]]"
      ]
     },
     "execution_count": 8,
     "metadata": {},
     "output_type": "execute_result"
    }
   ],
   "source": [
    "dist"
   ]
  },
  {
   "cell_type": "code",
   "execution_count": 9,
   "id": "romance-bulgarian",
   "metadata": {},
   "outputs": [],
   "source": [
    "# i から i への同じ頂点同士の距離は 0 としておく\n",
    "for i in range(0, N):\n",
    "    dist[i][i] = 0"
   ]
  },
  {
   "cell_type": "code",
   "execution_count": 10,
   "id": "efficient-thought",
   "metadata": {},
   "outputs": [
    {
     "data": {
      "text/plain": [
       "[[0, 1, 1000000000000000000000], [2, 0, 3], [4, 1000000000000000000000, 0]]"
      ]
     },
     "execution_count": 10,
     "metadata": {},
     "output_type": "execute_result"
    }
   ],
   "source": [
    "dist"
   ]
  },
  {
   "cell_type": "code",
   "execution_count": 16,
   "id": "mysterious-occasions",
   "metadata": {},
   "outputs": [
    {
     "name": "stdout",
     "output_type": "stream",
     "text": [
      "k x y:(0, 0, 0) dist[x][y]:0 , dist[x][k]:0, dist[k][y]:0\n",
      "k x y:(0, 0, 1) dist[x][y]:1 , dist[x][k]:0, dist[k][y]:1\n",
      "k x y:(0, 0, 2) dist[x][y]:4 , dist[x][k]:0, dist[k][y]:4\n",
      "k x y:(0, 1, 0) dist[x][y]:2 , dist[x][k]:2, dist[k][y]:0\n",
      "k x y:(0, 1, 1) dist[x][y]:0 , dist[x][k]:2, dist[k][y]:1\n",
      "k x y:(0, 1, 2) dist[x][y]:3 , dist[x][k]:2, dist[k][y]:4\n",
      "k x y:(0, 2, 0) dist[x][y]:4 , dist[x][k]:4, dist[k][y]:0\n",
      "k x y:(0, 2, 1) dist[x][y]:5 , dist[x][k]:4, dist[k][y]:1\n",
      "k x y:(0, 2, 2) dist[x][y]:0 , dist[x][k]:4, dist[k][y]:4\n",
      "k x y:(1, 0, 0) dist[x][y]:0 , dist[x][k]:1, dist[k][y]:2\n",
      "k x y:(1, 0, 1) dist[x][y]:1 , dist[x][k]:1, dist[k][y]:0\n",
      "k x y:(1, 0, 2) dist[x][y]:4 , dist[x][k]:1, dist[k][y]:3\n",
      "k x y:(1, 1, 0) dist[x][y]:2 , dist[x][k]:0, dist[k][y]:2\n",
      "k x y:(1, 1, 1) dist[x][y]:0 , dist[x][k]:0, dist[k][y]:0\n",
      "k x y:(1, 1, 2) dist[x][y]:3 , dist[x][k]:0, dist[k][y]:3\n",
      "k x y:(1, 2, 0) dist[x][y]:4 , dist[x][k]:5, dist[k][y]:2\n",
      "k x y:(1, 2, 1) dist[x][y]:5 , dist[x][k]:5, dist[k][y]:0\n",
      "k x y:(1, 2, 2) dist[x][y]:0 , dist[x][k]:5, dist[k][y]:3\n",
      "k x y:(2, 0, 0) dist[x][y]:0 , dist[x][k]:4, dist[k][y]:4\n",
      "k x y:(2, 0, 1) dist[x][y]:1 , dist[x][k]:4, dist[k][y]:5\n",
      "k x y:(2, 0, 2) dist[x][y]:4 , dist[x][k]:4, dist[k][y]:0\n",
      "k x y:(2, 1, 0) dist[x][y]:2 , dist[x][k]:3, dist[k][y]:4\n",
      "k x y:(2, 1, 1) dist[x][y]:0 , dist[x][k]:3, dist[k][y]:5\n",
      "k x y:(2, 1, 2) dist[x][y]:3 , dist[x][k]:3, dist[k][y]:0\n",
      "k x y:(2, 2, 0) dist[x][y]:4 , dist[x][k]:0, dist[k][y]:4\n",
      "k x y:(2, 2, 1) dist[x][y]:5 , dist[x][k]:0, dist[k][y]:5\n",
      "k x y:(2, 2, 2) dist[x][y]:0 , dist[x][k]:0, dist[k][y]:0\n"
     ]
    }
   ],
   "source": [
    "# ワーシャル・フロイド法\n",
    "for k in range(0, N):\n",
    "    for x in range(0, N):\n",
    "        for y in range(0, N):\n",
    "            dist[x][y] = min(dist[x][y], dist[x][k] + dist[k][y])\n",
    "            print(f\"k x y:{k,x,y} dist[x][y]:{dist[x][y]} , dist[x][k]:{dist[x][k]}, dist[k][y]:{dist[k][y]}\")"
   ]
  },
  {
   "cell_type": "code",
   "execution_count": 12,
   "id": "scheduled-arnold",
   "metadata": {},
   "outputs": [
    {
     "data": {
      "text/plain": [
       "[[0, 1, 4], [2, 0, 3], [4, 5, 0]]"
      ]
     },
     "execution_count": 12,
     "metadata": {},
     "output_type": "execute_result"
    }
   ],
   "source": [
    "dist"
   ]
  },
  {
   "cell_type": "code",
   "execution_count": 17,
   "id": "mysterious-intervention",
   "metadata": {},
   "outputs": [],
   "source": [
    "# 無限大を表す定数として、非常に大きい数を用意しておく\n",
    "INF = 1000000000000000"
   ]
  },
  {
   "cell_type": "code",
   "execution_count": 18,
   "id": "fancy-israeli",
   "metadata": {},
   "outputs": [
    {
     "name": "stdin",
     "output_type": "stream",
     "text": [
      " 3 4\n"
     ]
    }
   ],
   "source": [
    "N, M = map(int, input().split())"
   ]
  },
  {
   "cell_type": "code",
   "execution_count": 19,
   "id": "coastal-jamaica",
   "metadata": {},
   "outputs": [],
   "source": [
    "# 全ての頂点の組についての最短距離を保存する2次元配列 dist を作る\n",
    "dist = []"
   ]
  },
  {
   "cell_type": "code",
   "execution_count": 20,
   "id": "strategic-peeing",
   "metadata": {},
   "outputs": [],
   "source": [
    "# 最初は辺が1本も張られていないため、無限大の辺が貼られているとして\n",
    "# N x N 個の INF で埋めておく\n",
    "for i in range(0, N):\n",
    "    dist.append([])\n",
    "    for j in range(0, N):\n",
    "        dist[i].append(INF)"
   ]
  },
  {
   "cell_type": "code",
   "execution_count": 21,
   "id": "periodic-static",
   "metadata": {},
   "outputs": [
    {
     "data": {
      "text/plain": [
       "[[1000000000000000, 1000000000000000, 1000000000000000],\n",
       " [1000000000000000, 1000000000000000, 1000000000000000],\n",
       " [1000000000000000, 1000000000000000, 1000000000000000]]"
      ]
     },
     "execution_count": 21,
     "metadata": {},
     "output_type": "execute_result"
    }
   ],
   "source": [
    "dist"
   ]
  },
  {
   "cell_type": "code",
   "execution_count": 22,
   "id": "terminal-military",
   "metadata": {},
   "outputs": [
    {
     "name": "stdin",
     "output_type": "stream",
     "text": [
      " 0 1 1\n",
      " 1 0 2\n",
      " 1 2 3\n",
      " 2 0 4\n"
     ]
    }
   ],
   "source": [
    "# グラフの辺を受け取り、dist に直接書き込む\n",
    "for _ in range(0, M):\n",
    "    u, v, c = map(int, input().split())\n",
    "    dist[u][v] = c"
   ]
  },
  {
   "cell_type": "code",
   "execution_count": 23,
   "id": "hydraulic-playback",
   "metadata": {},
   "outputs": [],
   "source": [
    "# i から i への同じ頂点同士の距離は 0 としておく\n",
    "for i in range(0, N):\n",
    "    dist[i][i] = 0"
   ]
  },
  {
   "cell_type": "code",
   "execution_count": 26,
   "id": "round-product",
   "metadata": {},
   "outputs": [
    {
     "data": {
      "text/plain": [
       "[[0, 1, 1000000000000000], [2, 0, 3], [4, 1000000000000000, 0]]"
      ]
     },
     "execution_count": 26,
     "metadata": {},
     "output_type": "execute_result"
    }
   ],
   "source": [
    "dist"
   ]
  },
  {
   "cell_type": "code",
   "execution_count": 27,
   "id": "acoustic-abraham",
   "metadata": {},
   "outputs": [],
   "source": [
    "# ワーシャル・フロイド法\n",
    "for k in range(0, N):\n",
    "    for x in range(0, N):\n",
    "        for y in range(0, N):\n",
    "            dist[x][y] = min(dist[x][y], dist[x][k] + dist[k][y])"
   ]
  },
  {
   "cell_type": "code",
   "execution_count": 28,
   "id": "guilty-beauty",
   "metadata": {},
   "outputs": [
    {
     "data": {
      "text/plain": [
       "[[0, 1, 4], [2, 0, 3], [4, 5, 0]]"
      ]
     },
     "execution_count": 28,
     "metadata": {},
     "output_type": "execute_result"
    }
   ],
   "source": [
    "dist"
   ]
  },
  {
   "cell_type": "code",
   "execution_count": 29,
   "id": "received-surface",
   "metadata": {},
   "outputs": [],
   "source": [
    "# 全ての頂点の組について最短距離を合計する\n",
    "ans = 0\n",
    "for i in range(0, N):\n",
    "    for j in range(0, N):\n",
    "        ans += dist[i][j]"
   ]
  },
  {
   "cell_type": "code",
   "execution_count": 30,
   "id": "noticed-escape",
   "metadata": {},
   "outputs": [
    {
     "name": "stdout",
     "output_type": "stream",
     "text": [
      "19\n"
     ]
    }
   ],
   "source": [
    "print(ans)"
   ]
  },
  {
   "cell_type": "code",
   "execution_count": null,
   "id": "lightweight-spread",
   "metadata": {},
   "outputs": [],
   "source": []
  }
 ],
 "metadata": {
  "kernelspec": {
   "display_name": "Python 3",
   "language": "python",
   "name": "python3"
  },
  "language_info": {
   "codemirror_mode": {
    "name": "ipython",
    "version": 3
   },
   "file_extension": ".py",
   "mimetype": "text/x-python",
   "name": "python",
   "nbconvert_exporter": "python",
   "pygments_lexer": "ipython3",
   "version": "3.8.5"
  }
 },
 "nbformat": 4,
 "nbformat_minor": 5
}
