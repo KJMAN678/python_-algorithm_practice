{
 "cells": [
  {
   "cell_type": "code",
   "execution_count": 1,
   "id": "collected-berry",
   "metadata": {},
   "outputs": [
    {
     "name": "stdin",
     "output_type": "stream",
     "text": [
      " 4\n"
     ]
    }
   ],
   "source": [
    "N = int(input())"
   ]
  },
  {
   "cell_type": "code",
   "execution_count": 2,
   "id": "billion-equality",
   "metadata": {},
   "outputs": [
    {
     "name": "stdin",
     "output_type": "stream",
     "text": [
      " 5 3 3 5\n"
     ]
    }
   ],
   "source": [
    "C = list(map(int, input().split()))"
   ]
  },
  {
   "cell_type": "code",
   "execution_count": 3,
   "id": "experimental-british",
   "metadata": {},
   "outputs": [
    {
     "name": "stdin",
     "output_type": "stream",
     "text": [
      " 6\n"
     ]
    }
   ],
   "source": [
    "Q = int(input())"
   ]
  },
  {
   "cell_type": "code",
   "execution_count": 4,
   "id": "directed-egyptian",
   "metadata": {},
   "outputs": [],
   "source": [
    "# 合計販売枚数を記録する変数\n",
    "sell = 0"
   ]
  },
  {
   "cell_type": "code",
   "execution_count": 5,
   "id": "noted-basis",
   "metadata": {},
   "outputs": [
    {
     "name": "stdin",
     "output_type": "stream",
     "text": [
      " 1 2 1\n",
      " 2 2\n",
      " 2 2\n",
      " 3 100\n",
      " 3 1\n",
      " 1 1 3\n"
     ]
    },
    {
     "name": "stdout",
     "output_type": "stream",
     "text": [
      "9\n"
     ]
    }
   ],
   "source": [
    "for _ in range(0, Q):\n",
    "    query = list(map(int, input().split()))\n",
    "    \n",
    "    if query[0] == 1:\n",
    "        # 単品販売の場合\n",
    "        x = query[1] - 1\n",
    "        \n",
    "        a = query[2]\n",
    "        \n",
    "        # カード x が a 枚以上残っていれば a 枚売る\n",
    "        if C[x] >= a:\n",
    "            C[x] -= a\n",
    "            sell += a\n",
    "            \n",
    "    elif query[0] == 2:\n",
    "        # セット販売の場合\n",
    "        a = query[1]\n",
    "        \n",
    "        # 販売可能かどうかを記録する変数\n",
    "        judge = True\n",
    "        \n",
    "        # i % 2 == 0 となる全ての i について、カード i が a 以上あるかどうか調べる\n",
    "        # a 枚未満のカードがある場合、販売不可能とする\n",
    "        for i in range(0, N):\n",
    "            if i % 2 == 0:\n",
    "                if C[i] < 0:\n",
    "                    judge = False\n",
    "                    \n",
    "        # 販売可能だった場合、a 枚ずつ売る\n",
    "        if judge:\n",
    "            for i in range(0, N):\n",
    "                if i % 2 == 0:\n",
    "                    C[i] -= a\n",
    "                    sell += a\n",
    "                    \n",
    "    elif query[0] == 3:\n",
    "        # 全種類販売の場合\n",
    "        a = query[1]\n",
    "        \n",
    "        # 販売可能かどうかを記録する変数\n",
    "        judge = True\n",
    "        \n",
    "        # すべての i について、カード i が a 枚以上あるかどうか調べる\n",
    "        # a 枚未満のカードがある場合、販売不可能とする\n",
    "\n",
    "        for i in range(0, N):\n",
    "            if C[i] < a:\n",
    "                judge = False\n",
    "                \n",
    "        # 販売可能だった場合、a 枚ずつ売る\n",
    "        if judge:\n",
    "            for i in range(0, N):\n",
    "                C[i] -= a\n",
    "                sell += a\n",
    "                \n",
    "print(sell)"
   ]
  },
  {
   "cell_type": "markdown",
   "id": "comprehensive-scope",
   "metadata": {},
   "source": [
    "### 単品販売の操作"
   ]
  },
  {
   "cell_type": "code",
   "execution_count": 6,
   "id": "undefined-gauge",
   "metadata": {},
   "outputs": [],
   "source": [
    "# カード x が a 枚以上残っていれば a 枚売る\n",
    "if C[x] >= a:\n",
    "    C[x] -= a\n",
    "    sell += a"
   ]
  },
  {
   "cell_type": "code",
   "execution_count": 7,
   "id": "uniform-force",
   "metadata": {},
   "outputs": [
    {
     "ename": "NameError",
     "evalue": "name 's' is not defined",
     "output_type": "error",
     "traceback": [
      "\u001b[1;31m---------------------------------------------------------------------------\u001b[0m",
      "\u001b[1;31mNameError\u001b[0m                                 Traceback (most recent call last)",
      "\u001b[1;32m<ipython-input-7-5262ce89c678>\u001b[0m in \u001b[0;36m<module>\u001b[1;34m\u001b[0m\n\u001b[0;32m      2\u001b[0m \u001b[1;32mif\u001b[0m \u001b[0mx\u001b[0m \u001b[1;33m%\u001b[0m \u001b[1;36m2\u001b[0m \u001b[1;33m==\u001b[0m \u001b[1;36m0\u001b[0m\u001b[1;33m:\u001b[0m\u001b[1;33m\u001b[0m\u001b[1;33m\u001b[0m\u001b[0m\n\u001b[0;32m      3\u001b[0m     \u001b[1;31m# セット販売対象のカードの場合\u001b[0m\u001b[1;33m\u001b[0m\u001b[1;33m\u001b[0m\u001b[1;33m\u001b[0m\u001b[0m\n\u001b[1;32m----> 4\u001b[1;33m     \u001b[0mcard_x\u001b[0m \u001b[1;33m=\u001b[0m \u001b[0mC\u001b[0m\u001b[1;33m[\u001b[0m\u001b[0mx\u001b[0m\u001b[1;33m]\u001b[0m \u001b[1;33m-\u001b[0m \u001b[0ms\u001b[0m\u001b[1;33m\u001b[0m\u001b[1;33m\u001b[0m\u001b[0m\n\u001b[0m\u001b[0;32m      5\u001b[0m \u001b[1;32melse\u001b[0m\u001b[1;33m:\u001b[0m\u001b[1;33m\u001b[0m\u001b[1;33m\u001b[0m\u001b[0m\n\u001b[0;32m      6\u001b[0m     \u001b[1;31m# セット販売対象のカードではない場合\u001b[0m\u001b[1;33m\u001b[0m\u001b[1;33m\u001b[0m\u001b[1;33m\u001b[0m\u001b[0m\n",
      "\u001b[1;31mNameError\u001b[0m: name 's' is not defined"
     ]
    }
   ],
   "source": [
    "### セット販売を行った 1 カードあたりの枚数を s とおく解法\n",
    "if x % 2 == 0:\n",
    "    # セット販売対象のカードの場合\n",
    "    card_x = C[x] - s\n",
    "else:\n",
    "    # セット販売対象のカードではない場合\n",
    "    card_x = C[x]\n",
    "    \n",
    "# カード x が a 枚以上残っていれば a 枚売る\n",
    "if card_x >= a:\n",
    "    C[x] -= a\n",
    "    sell += a"
   ]
  },
  {
   "cell_type": "markdown",
   "id": "forward-wrapping",
   "metadata": {},
   "source": [
    "### セット販売の操作"
   ]
  },
  {
   "cell_type": "code",
   "execution_count": 8,
   "id": "representative-redhead",
   "metadata": {},
   "outputs": [],
   "source": [
    "# 愚直な解法\n",
    "judge = True\n",
    "\n",
    "# すべての i について、カード i が a 枚以上あるかどうか調べる\n",
    "# a 枚未満のカードがある場合、販売不可能とする\n",
    "for i in range(0, N):\n",
    "    if C[i] < a:\n",
    "        judge = False\n",
    "        \n",
    "# 販売可能だった場合、a 枚ずつ売る\n",
    "if judge:\n",
    "    for i in range(0, N):\n",
    "        C[i] -= a\n",
    "        sell += a"
   ]
  },
  {
   "cell_type": "markdown",
   "id": "global-macro",
   "metadata": {},
   "source": [
    "### セット販売を行った1カードあたりの枚数を s 遠く解法"
   ]
  },
  {
   "cell_type": "code",
   "execution_count": 9,
   "id": "prompt-humor",
   "metadata": {},
   "outputs": [],
   "source": [
    "judge = True\n",
    "\n",
    "# i % 2 == 0 となる全ての i について、カード i が a 枚以上あるかどうか調べる\n",
    "# a 枚未満のカードがある場合、販売不可能とする\n",
    "for i in range(0, N):\n",
    "    if i % 2 == 0:\n",
    "        if C[i] < a:\n",
    "            judge = False"
   ]
  },
  {
   "cell_type": "code",
   "execution_count": 10,
   "id": "ecological-retention",
   "metadata": {},
   "outputs": [],
   "source": [
    "# 販売可能だった場合、a 枚ずつ売る\n",
    "if judge:\n",
    "    s += a"
   ]
  },
  {
   "cell_type": "markdown",
   "id": "binding-intention",
   "metadata": {},
   "source": [
    "### 単品販売の操作"
   ]
  },
  {
   "cell_type": "code",
   "execution_count": 11,
   "id": "varied-radiation",
   "metadata": {},
   "outputs": [
    {
     "ename": "NameError",
     "evalue": "name 's' is not defined",
     "output_type": "error",
     "traceback": [
      "\u001b[1;31m---------------------------------------------------------------------------\u001b[0m",
      "\u001b[1;31mNameError\u001b[0m                                 Traceback (most recent call last)",
      "\u001b[1;32m<ipython-input-11-89dbea067341>\u001b[0m in \u001b[0;36m<module>\u001b[1;34m\u001b[0m\n\u001b[0;32m      2\u001b[0m \u001b[1;32mif\u001b[0m \u001b[0mx\u001b[0m \u001b[1;33m%\u001b[0m \u001b[1;36m2\u001b[0m \u001b[1;33m==\u001b[0m \u001b[1;36m0\u001b[0m\u001b[1;33m:\u001b[0m\u001b[1;33m\u001b[0m\u001b[1;33m\u001b[0m\u001b[0m\n\u001b[0;32m      3\u001b[0m     \u001b[1;31m# セット販売対象のカードの場合\u001b[0m\u001b[1;33m\u001b[0m\u001b[1;33m\u001b[0m\u001b[1;33m\u001b[0m\u001b[0m\n\u001b[1;32m----> 4\u001b[1;33m     \u001b[0mcard_x\u001b[0m \u001b[1;33m=\u001b[0m \u001b[0mC\u001b[0m\u001b[1;33m[\u001b[0m\u001b[0mx\u001b[0m\u001b[1;33m]\u001b[0m \u001b[1;33m-\u001b[0m \u001b[0ms\u001b[0m\u001b[1;33m\u001b[0m\u001b[1;33m\u001b[0m\u001b[0m\n\u001b[0m\u001b[0;32m      5\u001b[0m \u001b[1;32melse\u001b[0m\u001b[1;33m:\u001b[0m\u001b[1;33m\u001b[0m\u001b[1;33m\u001b[0m\u001b[0m\n\u001b[0;32m      6\u001b[0m     \u001b[1;31m# セット販売対象のカードではない場合\u001b[0m\u001b[1;33m\u001b[0m\u001b[1;33m\u001b[0m\u001b[1;33m\u001b[0m\u001b[0m\n",
      "\u001b[1;31mNameError\u001b[0m: name 's' is not defined"
     ]
    }
   ],
   "source": [
    "# カード x の残っている枚数を計算する\n",
    "if x % 2 == 0:\n",
    "    # セット販売対象のカードの場合\n",
    "    card_x = C[x] - s\n",
    "else:\n",
    "    # セット販売対象のカードではない場合\n",
    "    card_x = C[x]\n",
    "    \n",
    "# カード x が a 枚以上残っていれば a 枚売る\n",
    "if card_x >= a:\n",
    "    C[x] -= a\n",
    "    sell += a\n",
    "    # セット販売対象だった場合 min_s_C を更新する\n",
    "    if x % 2 == 0:\n",
    "        min_s_C = min(C[x], min_s_C)"
   ]
  },
  {
   "cell_type": "markdown",
   "id": "unnecessary-cursor",
   "metadata": {},
   "source": [
    "### セット販売の操作"
   ]
  },
  {
   "cell_type": "code",
   "execution_count": 12,
   "id": "authentic-leader",
   "metadata": {},
   "outputs": [
    {
     "ename": "NameError",
     "evalue": "name 'min_s_C' is not defined",
     "output_type": "error",
     "traceback": [
      "\u001b[1;31m---------------------------------------------------------------------------\u001b[0m",
      "\u001b[1;31mNameError\u001b[0m                                 Traceback (most recent call last)",
      "\u001b[1;32m<ipython-input-12-861ad4b50099>\u001b[0m in \u001b[0;36m<module>\u001b[1;34m\u001b[0m\n\u001b[0;32m      4\u001b[0m \u001b[1;31m# i % 2 == 0 となる C[i] の最小値について、そのカードが a 枚以上あるかどうか調べる\u001b[0m\u001b[1;33m\u001b[0m\u001b[1;33m\u001b[0m\u001b[1;33m\u001b[0m\u001b[0m\n\u001b[0;32m      5\u001b[0m \u001b[1;31m# a 枚未満の場合、販売不可能とする\u001b[0m\u001b[1;33m\u001b[0m\u001b[1;33m\u001b[0m\u001b[1;33m\u001b[0m\u001b[0m\n\u001b[1;32m----> 6\u001b[1;33m \u001b[1;32mif\u001b[0m \u001b[0mmin_s_C\u001b[0m \u001b[1;33m-\u001b[0m \u001b[0ms\u001b[0m \u001b[1;33m<\u001b[0m \u001b[0ma\u001b[0m\u001b[1;33m:\u001b[0m\u001b[1;33m\u001b[0m\u001b[1;33m\u001b[0m\u001b[0m\n\u001b[0m\u001b[0;32m      7\u001b[0m     \u001b[0mjudge\u001b[0m \u001b[1;33m=\u001b[0m \u001b[1;32mFalse\u001b[0m\u001b[1;33m\u001b[0m\u001b[1;33m\u001b[0m\u001b[0m\n\u001b[0;32m      8\u001b[0m \u001b[1;33m\u001b[0m\u001b[0m\n",
      "\u001b[1;31mNameError\u001b[0m: name 'min_s_C' is not defined"
     ]
    }
   ],
   "source": [
    "# 販売可能かどうかを記録する変数\n",
    "judge = True\n",
    "\n",
    "# i % 2 == 0 となる C[i] の最小値について、そのカードが a 枚以上あるかどうか調べる\n",
    "# a 枚未満の場合、販売不可能とする\n",
    "if min_s_C - s < a:\n",
    "    judge = False\n",
    "    \n",
    "# 販売可能だった場合、a 枚ずつ売る\n",
    "if judge:\n",
    "    s += a"
   ]
  },
  {
   "cell_type": "code",
   "execution_count": 13,
   "id": "behavioral-parameter",
   "metadata": {},
   "outputs": [
    {
     "ename": "NameError",
     "evalue": "name 'min_s_C' is not defined",
     "output_type": "error",
     "traceback": [
      "\u001b[1;31m---------------------------------------------------------------------------\u001b[0m",
      "\u001b[1;31mNameError\u001b[0m                                 Traceback (most recent call last)",
      "\u001b[1;32m<ipython-input-13-f226ae64d6bd>\u001b[0m in \u001b[0;36m<module>\u001b[1;34m\u001b[0m\n\u001b[0;32m      1\u001b[0m \u001b[1;31m# i % 2 == 0 となる C[i] の最小値 について、そのカードが a 枚以上あるかどうか調べる\u001b[0m\u001b[1;33m\u001b[0m\u001b[1;33m\u001b[0m\u001b[1;33m\u001b[0m\u001b[0m\n\u001b[0;32m      2\u001b[0m \u001b[1;31m# a 枚以上の場合、a 枚ずつ売る\u001b[0m\u001b[1;33m\u001b[0m\u001b[1;33m\u001b[0m\u001b[1;33m\u001b[0m\u001b[0m\n\u001b[1;32m----> 3\u001b[1;33m \u001b[1;32mif\u001b[0m \u001b[0mmin_s_C\u001b[0m \u001b[1;33m-\u001b[0m \u001b[0ms\u001b[0m \u001b[1;33m>=\u001b[0m \u001b[0ma\u001b[0m\u001b[1;33m:\u001b[0m\u001b[1;33m\u001b[0m\u001b[1;33m\u001b[0m\u001b[0m\n\u001b[0m\u001b[0;32m      4\u001b[0m     \u001b[0ms\u001b[0m \u001b[1;33m+=\u001b[0m \u001b[0ma\u001b[0m\u001b[1;33m\u001b[0m\u001b[1;33m\u001b[0m\u001b[0m\n",
      "\u001b[1;31mNameError\u001b[0m: name 'min_s_C' is not defined"
     ]
    }
   ],
   "source": [
    "# i % 2 == 0 となる C[i] の最小値 について、そのカードが a 枚以上あるかどうか調べる\n",
    "# a 枚以上の場合、a 枚ずつ売る\n",
    "if min_s_C - s >= a:\n",
    "    s += a"
   ]
  },
  {
   "cell_type": "markdown",
   "id": "public-sequence",
   "metadata": {},
   "source": [
    "### 単品販売の処理"
   ]
  },
  {
   "cell_type": "code",
   "execution_count": 14,
   "id": "cloudy-battle",
   "metadata": {},
   "outputs": [
    {
     "ename": "NameError",
     "evalue": "name 'z' is not defined",
     "output_type": "error",
     "traceback": [
      "\u001b[1;31m---------------------------------------------------------------------------\u001b[0m",
      "\u001b[1;31mNameError\u001b[0m                                 Traceback (most recent call last)",
      "\u001b[1;32m<ipython-input-14-cedced71548d>\u001b[0m in \u001b[0;36m<module>\u001b[1;34m\u001b[0m\n\u001b[0;32m      2\u001b[0m \u001b[1;32mif\u001b[0m \u001b[0mx\u001b[0m \u001b[1;33m%\u001b[0m \u001b[1;36m2\u001b[0m \u001b[1;33m==\u001b[0m \u001b[1;36m0\u001b[0m\u001b[1;33m:\u001b[0m\u001b[1;33m\u001b[0m\u001b[1;33m\u001b[0m\u001b[0m\n\u001b[0;32m      3\u001b[0m     \u001b[1;31m# セット販売対象のカードの場合\u001b[0m\u001b[1;33m\u001b[0m\u001b[1;33m\u001b[0m\u001b[1;33m\u001b[0m\u001b[0m\n\u001b[1;32m----> 4\u001b[1;33m     \u001b[0mcard_x\u001b[0m \u001b[1;33m=\u001b[0m \u001b[0mC\u001b[0m\u001b[1;33m[\u001b[0m\u001b[0mx\u001b[0m\u001b[1;33m]\u001b[0m \u001b[1;33m-\u001b[0m \u001b[0mz\u001b[0m  \u001b[1;33m-\u001b[0m \u001b[0ms\u001b[0m\u001b[1;33m\u001b[0m\u001b[1;33m\u001b[0m\u001b[0m\n\u001b[0m\u001b[0;32m      5\u001b[0m \u001b[1;32melse\u001b[0m\u001b[1;33m:\u001b[0m\u001b[1;33m\u001b[0m\u001b[1;33m\u001b[0m\u001b[0m\n\u001b[0;32m      6\u001b[0m     \u001b[1;31m# セット販売対象のカードではない場合\u001b[0m\u001b[1;33m\u001b[0m\u001b[1;33m\u001b[0m\u001b[1;33m\u001b[0m\u001b[0m\n",
      "\u001b[1;31mNameError\u001b[0m: name 'z' is not defined"
     ]
    }
   ],
   "source": [
    "# カード x の残っている枚数を計算する\n",
    "if x % 2 == 0:\n",
    "    # セット販売対象のカードの場合\n",
    "    card_x = C[x] - z  - s\n",
    "else:\n",
    "    # セット販売対象のカードではない場合\n",
    "    card_x = C[x] - z\n",
    "    \n",
    "# カード x が a 枚以上残っていれば a 枚売る\n",
    "if card_x >= a:\n",
    "    C[x] -= a\n",
    "    sell += a\n",
    "    \n",
    "    if x % 2 == 0:\n",
    "        min_s_C = min(C[x], min_s_C)\n",
    "    else:\n",
    "        min_z_C = min(C[x], min_z_C)"
   ]
  },
  {
   "cell_type": "code",
   "execution_count": 15,
   "id": "impossible-cloud",
   "metadata": {},
   "outputs": [
    {
     "ename": "NameError",
     "evalue": "name 'min_s_C' is not defined",
     "output_type": "error",
     "traceback": [
      "\u001b[1;31m---------------------------------------------------------------------------\u001b[0m",
      "\u001b[1;31mNameError\u001b[0m                                 Traceback (most recent call last)",
      "\u001b[1;32m<ipython-input-15-188f2e0d458c>\u001b[0m in \u001b[0;36m<module>\u001b[1;34m\u001b[0m\n\u001b[0;32m      2\u001b[0m \u001b[1;31m# i % 2 == 0 となる C[i] の最小値について、そのカードが a 枚以上あるかどうか調べる\u001b[0m\u001b[1;33m\u001b[0m\u001b[1;33m\u001b[0m\u001b[1;33m\u001b[0m\u001b[0m\n\u001b[0;32m      3\u001b[0m \u001b[1;31m# a 枚以上の場合、a 枚ずつ売る\u001b[0m\u001b[1;33m\u001b[0m\u001b[1;33m\u001b[0m\u001b[1;33m\u001b[0m\u001b[0m\n\u001b[1;32m----> 4\u001b[1;33m \u001b[1;32mif\u001b[0m \u001b[0mmin_s_C\u001b[0m \u001b[1;33m-\u001b[0m \u001b[0ms\u001b[0m \u001b[1;33m-\u001b[0m \u001b[0mz\u001b[0m \u001b[1;33m>=\u001b[0m \u001b[0ma\u001b[0m\u001b[1;33m:\u001b[0m\u001b[1;33m\u001b[0m\u001b[1;33m\u001b[0m\u001b[0m\n\u001b[0m\u001b[0;32m      5\u001b[0m     \u001b[0ms\u001b[0m \u001b[1;33m+=\u001b[0m \u001b[0ma\u001b[0m\u001b[1;33m\u001b[0m\u001b[1;33m\u001b[0m\u001b[0m\n",
      "\u001b[1;31mNameError\u001b[0m: name 'min_s_C' is not defined"
     ]
    }
   ],
   "source": [
    "### セット販売の処理\n",
    "# i % 2 == 0 となる C[i] の最小値について、そのカードが a 枚以上あるかどうか調べる\n",
    "# a 枚以上の場合、a 枚ずつ売る\n",
    "if min_s_C - s - z >= a:\n",
    "    s += a"
   ]
  },
  {
   "cell_type": "markdown",
   "id": "recent-organic",
   "metadata": {},
   "source": [
    "### 実装"
   ]
  },
  {
   "cell_type": "code",
   "execution_count": 18,
   "id": "afraid-debut",
   "metadata": {},
   "outputs": [
    {
     "name": "stdin",
     "output_type": "stream",
     "text": [
      " 10\n",
      " 241 310 105 738 405 490 158 92 68 20\n",
      " 20\n",
      " 2 252\n",
      " 1 4 36\n",
      " 2 69\n",
      " 1 5 406\n",
      " 3 252\n",
      " 1 3 8\n",
      " 1 10 10\n",
      " 3 11\n",
      " 1 4 703\n",
      " 3 1\n",
      " 2 350\n",
      " 3 10\n",
      " 2 62\n",
      " 2 3\n",
      " 2 274\n",
      " 1 2 1\n",
      " 3 126\n",
      " 1 4 702\n",
      " 3 6\n",
      " 2 174\n"
     ]
    },
    {
     "name": "stdout",
     "output_type": "stream",
     "text": [
      "85\n"
     ]
    }
   ],
   "source": [
    "N = int(input()) # カードの種類\n",
    "C = list(map(int, input().split())) # カードの在庫数\n",
    "Q = int(input()) # クエリの件数\n",
    "\n",
    "# 合計販売数を記録する変数\n",
    "sell = 0\n",
    "\n",
    "# 単品販売 カード x を α 枚販売する\n",
    "\n",
    "# 全種類販売で販売した1種類あたりの枚数\n",
    "z = 0\n",
    "\n",
    "# セット販売　番号が奇数のカードをそれぞれ α 枚ずつ販売する\n",
    "# セット販売で販売した1種類当たりの枚数\n",
    "s = 0\n",
    "\n",
    "# カードを全種類 a 枚ずつ販売する\n",
    "# セット販売対象の C の最小値を記録する変数\n",
    "min_s_C = 100000000\n",
    "\n",
    "# セット販売対象でない C の最小値を記録する変数\n",
    "min_z_C = 100000000\n",
    "\n",
    "for i in range(0, N):\n",
    "    if i % 2 == 0:\n",
    "        min_s_C = min(C[i], min_s_C)\n",
    "    else:\n",
    "        min_z_C = min(C[i], min_z_C)\n",
    "        \n",
    "for i in range(0, N):\n",
    "    if i % 2 == 0:\n",
    "        min_s_C = min(C[i], min_s_C)\n",
    "    else:\n",
    "        min_z_C = min(C[i], min_z_C)\n",
    "        \n",
    "for _ in range(0, Q):\n",
    "    query = list(map(int, input().split()))\n",
    "    \n",
    "    if query[0] == 1:\n",
    "        # 単品販売の場合\n",
    "        \n",
    "        x = query[1] - 1\n",
    "        a = query[2]\n",
    "        \n",
    "        # カード x の残っている枚数を計算する\n",
    "        if x % 2 == 0:\n",
    "            # セット販売対象のカードの場合\n",
    "            card_x = C[x] - s\n",
    "        else:\n",
    "            # セット販売対象のカードではない場合\n",
    "            card_x = C[x] - z\n",
    "            \n",
    "        # カード x が a 枚以上残っていれば a 枚売る\n",
    "        if card_x >= a:\n",
    "            C[x] -= a\n",
    "            sell += a\n",
    "            \n",
    "            if x % 2 == 0:\n",
    "                min_s_C = min(C[x], min_s_C)\n",
    "            else:\n",
    "                min_z_C = min(C[x], min_z_C)\n",
    "                \n",
    "    elif query[0] == 2:\n",
    "        # セット販売の場合\n",
    "        a = query[1]\n",
    "        \n",
    "        # C の最小値について、そのカードが a 枚以上あるかどうか調べる\n",
    "        # a 枚以上の場合、a 枚ずつ売る\n",
    "        if min(min_s_C - s -z, min_z_C - z) >= a:\n",
    "            z += a\n",
    "            \n",
    "# セット販売した枚数を合算する\n",
    "for i in range(0, N):\n",
    "    if i % 2 == 0:\n",
    "        sell += s\n",
    "        \n",
    "# 全種類販売した枚数を合算する\n",
    "sell += z * N\n",
    "\n",
    "print(sell)"
   ]
  },
  {
   "cell_type": "code",
   "execution_count": null,
   "id": "scientific-yesterday",
   "metadata": {},
   "outputs": [],
   "source": []
  }
 ],
 "metadata": {
  "kernelspec": {
   "display_name": "Python 3",
   "language": "python",
   "name": "python3"
  },
  "language_info": {
   "codemirror_mode": {
    "name": "ipython",
    "version": 3
   },
   "file_extension": ".py",
   "mimetype": "text/x-python",
   "name": "python",
   "nbconvert_exporter": "python",
   "pygments_lexer": "ipython3",
   "version": "3.8.5"
  }
 },
 "nbformat": 4,
 "nbformat_minor": 5
}
