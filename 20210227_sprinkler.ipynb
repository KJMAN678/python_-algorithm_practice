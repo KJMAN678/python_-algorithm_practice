{
 "cells": [
  {
   "cell_type": "code",
   "execution_count": 12,
   "id": "adjusted-withdrawal",
   "metadata": {},
   "outputs": [
    {
     "name": "stdin",
     "output_type": "stream",
     "text": [
      " 3 4 5\n"
     ]
    }
   ],
   "source": [
    "N, M, Q = map(int, input().split())"
   ]
  },
  {
   "cell_type": "code",
   "execution_count": 13,
   "id": "trained-graduation",
   "metadata": {},
   "outputs": [
    {
     "name": "stdout",
     "output_type": "stream",
     "text": [
      "3 4 5\n"
     ]
    }
   ],
   "source": [
    "print(N, M, Q)"
   ]
  },
  {
   "cell_type": "code",
   "execution_count": 14,
   "id": "initial-surfing",
   "metadata": {},
   "outputs": [],
   "source": [
    "graph = []"
   ]
  },
  {
   "cell_type": "markdown",
   "id": "ambient-bloom",
   "metadata": {},
   "source": [
    "### N × N の False の2次元配列を作成"
   ]
  },
  {
   "cell_type": "code",
   "execution_count": 15,
   "id": "adjusted-soviet",
   "metadata": {},
   "outputs": [],
   "source": [
    "for i in range(0, N):\n",
    "    \n",
    "    # 長さ N の False の1次元配列を作る\n",
    "    row = []\n",
    "    for j in range(0, N):\n",
    "        row.append(False)\n",
    "        \n",
    "    # 長さ N の False の1次元配列を graph に追加する\n",
    "    graph.append(row)"
   ]
  },
  {
   "cell_type": "code",
   "execution_count": 16,
   "id": "mexican-network",
   "metadata": {},
   "outputs": [
    {
     "data": {
      "text/plain": [
       "[[False, False, False], [False, False, False], [False, False, False]]"
      ]
     },
     "execution_count": 16,
     "metadata": {},
     "output_type": "execute_result"
    }
   ],
   "source": [
    "graph"
   ]
  },
  {
   "cell_type": "markdown",
   "id": "adjustable-release",
   "metadata": {},
   "source": [
    "### 頂点 x と 頂点 y に辺があればgraph[x][y]がTrueに、辺がなければFalseになる隣接行列を作成"
   ]
  },
  {
   "cell_type": "code",
   "execution_count": 26,
   "id": "funky-longitude",
   "metadata": {},
   "outputs": [
    {
     "name": "stdin",
     "output_type": "stream",
     "text": [
      " 3 3\n",
      " 3 3\n",
      " 3 3\n",
      " 3 3\n"
     ]
    }
   ],
   "source": [
    "# M 本の辺を受け取る\n",
    "for i in range(0, M):\n",
    "    u, v = map(int, input().split()) # 一度に複数の変数に入力が可能\n",
    "    \n",
    "    # 頂点番号はすべて-1する\n",
    "    u -= 1\n",
    "    v -= 1\n",
    "    \n",
    "    # u と v の間には片があるため True にする\n",
    "    graph[u][v] = True\n",
    "    graph[v][u] = True"
   ]
  },
  {
   "cell_type": "markdown",
   "id": "manual-preference",
   "metadata": {},
   "source": [
    "全ての頂点を順番に見る。  \n",
    "見ている頂点をiとする。  \n",
    "graph[x][i]がTrueであれば、頂点xと頂点iの間には辺がある。  \n",
    "つまり頂点はiは頂点xに隣接している。  "
   ]
  },
  {
   "cell_type": "markdown",
   "id": "standing-blond",
   "metadata": {},
   "source": [
    "##### すべての頂点を順番に見る\n",
    "for i in range(0, N):  \n",
    "    if graph[x][i]:  \n",
    "        ##### graph[x][i] = True のとき、頂点 i は 頂点 x に隣接している。  "
   ]
  },
  {
   "cell_type": "code",
   "execution_count": null,
   "id": "geological-trinidad",
   "metadata": {},
   "outputs": [],
   "source": []
  }
 ],
 "metadata": {
  "kernelspec": {
   "display_name": "Python 3",
   "language": "python",
   "name": "python3"
  },
  "language_info": {
   "codemirror_mode": {
    "name": "ipython",
    "version": 3
   },
   "file_extension": ".py",
   "mimetype": "text/x-python",
   "name": "python",
   "nbconvert_exporter": "python",
   "pygments_lexer": "ipython3",
   "version": "3.8.5"
  }
 },
 "nbformat": 4,
 "nbformat_minor": 5
}
