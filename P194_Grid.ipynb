{
 "cells": [
  {
   "cell_type": "code",
   "execution_count": 1,
   "id": "generous-compensation",
   "metadata": {},
   "outputs": [],
   "source": [
    "# 縦 N マス、横 M マス\n",
    "# 各マスには S スタート、G ゴール、 1-9までの数字\n",
    "# 書かれた文字 A\n",
    "# 1-9 の順に踏んでいく最小の回数"
   ]
  },
  {
   "cell_type": "code",
   "execution_count": 23,
   "id": "amended-million",
   "metadata": {},
   "outputs": [
    {
     "name": "stdin",
     "output_type": "stream",
     "text": [
      " 3 4\n"
     ]
    }
   ],
   "source": [
    "N, M = list(map(int, input().split()))"
   ]
  },
  {
   "cell_type": "code",
   "execution_count": 26,
   "id": "portuguese-style",
   "metadata": {},
   "outputs": [],
   "source": [
    "A = []"
   ]
  },
  {
   "cell_type": "code",
   "execution_count": 27,
   "id": "transparent-layout",
   "metadata": {},
   "outputs": [
    {
     "name": "stdin",
     "output_type": "stream",
     "text": [
      " 1S23\n",
      " 4567\n",
      " 89G1\n"
     ]
    }
   ],
   "source": [
    "for i in range(N):\n",
    "    s = input()\n",
    "    A.append(s)"
   ]
  },
  {
   "cell_type": "code",
   "execution_count": 28,
   "id": "matched-grass",
   "metadata": {},
   "outputs": [
    {
     "data": {
      "text/plain": [
       "['1S23', '4567', '89G1']"
      ]
     },
     "execution_count": 28,
     "metadata": {},
     "output_type": "execute_result"
    }
   ],
   "source": [
    "A"
   ]
  },
  {
   "cell_type": "code",
   "execution_count": 29,
   "id": "substantial-techno",
   "metadata": {},
   "outputs": [],
   "source": [
    "# 番号ごとに座標を分類、スタートは0、ゴールは10とする\n",
    "group = []"
   ]
  },
  {
   "cell_type": "code",
   "execution_count": 30,
   "id": "narrative-oregon",
   "metadata": {},
   "outputs": [],
   "source": [
    "for i in range(11):\n",
    "    group.append([])"
   ]
  },
  {
   "cell_type": "code",
   "execution_count": 31,
   "id": "social-crisis",
   "metadata": {},
   "outputs": [
    {
     "data": {
      "text/plain": [
       "[[], [], [], [], [], [], [], [], [], [], []]"
      ]
     },
     "execution_count": 31,
     "metadata": {},
     "output_type": "execute_result"
    }
   ],
   "source": [
    "group"
   ]
  },
  {
   "cell_type": "code",
   "execution_count": 32,
   "id": "hearing-murder",
   "metadata": {},
   "outputs": [],
   "source": [
    "for i in range(N):\n",
    "    for j in range(M):\n",
    "        if A[i][j] == 'S':\n",
    "            n = 0\n",
    "        elif A[i][j] == 'G':\n",
    "            n = 10\n",
    "        else:\n",
    "            n = int(A[i][j])\n",
    "        group[n].append([i, j])"
   ]
  },
  {
   "cell_type": "code",
   "execution_count": 33,
   "id": "fallen-stamp",
   "metadata": {},
   "outputs": [
    {
     "data": {
      "text/plain": [
       "[[[0, 1]],\n",
       " [[0, 0], [2, 3]],\n",
       " [[0, 2]],\n",
       " [[0, 3]],\n",
       " [[1, 0]],\n",
       " [[1, 1]],\n",
       " [[1, 2]],\n",
       " [[1, 3]],\n",
       " [[2, 0]],\n",
       " [[2, 1]],\n",
       " [[2, 2]]]"
      ]
     },
     "execution_count": 33,
     "metadata": {},
     "output_type": "execute_result"
    }
   ],
   "source": [
    "group"
   ]
  },
  {
   "cell_type": "code",
   "execution_count": 34,
   "id": "fatty-funeral",
   "metadata": {},
   "outputs": [],
   "source": [
    "# cost[i][j]: 数字を正しく通ってマス(i, j)に辿り着く最小移動回数\n",
    "# 非常に大きい値で初期化しておく\n",
    "cost = []"
   ]
  },
  {
   "cell_type": "code",
   "execution_count": 35,
   "id": "written-mayor",
   "metadata": {},
   "outputs": [],
   "source": [
    "INF = 10**100"
   ]
  },
  {
   "cell_type": "code",
   "execution_count": 36,
   "id": "administrative-briefs",
   "metadata": {},
   "outputs": [],
   "source": [
    "for i in range(N):\n",
    "    cost.append([INF]*M)"
   ]
  },
  {
   "cell_type": "code",
   "execution_count": 37,
   "id": "handmade-facing",
   "metadata": {},
   "outputs": [
    {
     "data": {
      "text/plain": [
       "[[10000000000000000000000000000000000000000000000000000000000000000000000000000000000000000000000000000,\n",
       "  10000000000000000000000000000000000000000000000000000000000000000000000000000000000000000000000000000,\n",
       "  10000000000000000000000000000000000000000000000000000000000000000000000000000000000000000000000000000,\n",
       "  10000000000000000000000000000000000000000000000000000000000000000000000000000000000000000000000000000],\n",
       " [10000000000000000000000000000000000000000000000000000000000000000000000000000000000000000000000000000,\n",
       "  10000000000000000000000000000000000000000000000000000000000000000000000000000000000000000000000000000,\n",
       "  10000000000000000000000000000000000000000000000000000000000000000000000000000000000000000000000000000,\n",
       "  10000000000000000000000000000000000000000000000000000000000000000000000000000000000000000000000000000],\n",
       " [10000000000000000000000000000000000000000000000000000000000000000000000000000000000000000000000000000,\n",
       "  10000000000000000000000000000000000000000000000000000000000000000000000000000000000000000000000000000,\n",
       "  10000000000000000000000000000000000000000000000000000000000000000000000000000000000000000000000000000,\n",
       "  10000000000000000000000000000000000000000000000000000000000000000000000000000000000000000000000000000]]"
      ]
     },
     "execution_count": 37,
     "metadata": {},
     "output_type": "execute_result"
    }
   ],
   "source": [
    "cost"
   ]
  },
  {
   "cell_type": "code",
   "execution_count": 39,
   "id": "anonymous-skating",
   "metadata": {},
   "outputs": [],
   "source": [
    "# 初期条件、スタート地点の座標は group[0][0]\n",
    "si, sj = group[0][0]"
   ]
  },
  {
   "cell_type": "code",
   "execution_count": 40,
   "id": "greatest-division",
   "metadata": {},
   "outputs": [
    {
     "name": "stdout",
     "output_type": "stream",
     "text": [
      "0 1\n"
     ]
    }
   ],
   "source": [
    "print(si, sj)"
   ]
  },
  {
   "cell_type": "code",
   "execution_count": 41,
   "id": "solar-comedy",
   "metadata": {},
   "outputs": [],
   "source": [
    "cost[si][sj] = 0"
   ]
  },
  {
   "cell_type": "code",
   "execution_count": 42,
   "id": "ruled-fight",
   "metadata": {},
   "outputs": [
    {
     "data": {
      "text/plain": [
       "[[10000000000000000000000000000000000000000000000000000000000000000000000000000000000000000000000000000,\n",
       "  0,\n",
       "  10000000000000000000000000000000000000000000000000000000000000000000000000000000000000000000000000000,\n",
       "  10000000000000000000000000000000000000000000000000000000000000000000000000000000000000000000000000000],\n",
       " [10000000000000000000000000000000000000000000000000000000000000000000000000000000000000000000000000000,\n",
       "  10000000000000000000000000000000000000000000000000000000000000000000000000000000000000000000000000000,\n",
       "  10000000000000000000000000000000000000000000000000000000000000000000000000000000000000000000000000000,\n",
       "  10000000000000000000000000000000000000000000000000000000000000000000000000000000000000000000000000000],\n",
       " [10000000000000000000000000000000000000000000000000000000000000000000000000000000000000000000000000000,\n",
       "  10000000000000000000000000000000000000000000000000000000000000000000000000000000000000000000000000000,\n",
       "  10000000000000000000000000000000000000000000000000000000000000000000000000000000000000000000000000000,\n",
       "  10000000000000000000000000000000000000000000000000000000000000000000000000000000000000000000000000000]]"
      ]
     },
     "execution_count": 42,
     "metadata": {},
     "output_type": "execute_result"
    }
   ],
   "source": [
    "cost"
   ]
  },
  {
   "cell_type": "code",
   "execution_count": 43,
   "id": "pointed-wildlife",
   "metadata": {},
   "outputs": [],
   "source": [
    "# n が小さい方から順番に求めていく\n",
    "for n in range(1, 11):\n",
    "    # 更新したいマスそれぞれについてループ\n",
    "    for i, j in group[n]:\n",
    "        # 数字が n-1 であるマスをすべて試す\n",
    "        for i2, j2 in group[n-1]:\n",
    "            cost[i][j] = min(cost[i][j], cost[i2][j2] + abs(i-i2) + abs(j-j2))"
   ]
  },
  {
   "cell_type": "code",
   "execution_count": 45,
   "id": "metropolitan-strategy",
   "metadata": {},
   "outputs": [
    {
     "data": {
      "text/plain": [
       "[[1, 0, 3, 4], [8, 9, 10, 11], [15, 16, 17, 4]]"
      ]
     },
     "execution_count": 45,
     "metadata": {},
     "output_type": "execute_result"
    }
   ],
   "source": [
    "cost"
   ]
  },
  {
   "cell_type": "code",
   "execution_count": 46,
   "id": "directed-court",
   "metadata": {},
   "outputs": [],
   "source": [
    "# ゴール地点の座標は group[10][0]\n",
    "# ただしゴール地点の cost がINF であれば、到達不可能なため -1 を答えとする\n",
    "gi, gj = group[10][0]\n",
    "ans = cost[gi][gj]"
   ]
  },
  {
   "cell_type": "code",
   "execution_count": 47,
   "id": "clean-zambia",
   "metadata": {},
   "outputs": [],
   "source": [
    "if ans == INF:\n",
    "    ans = -1"
   ]
  },
  {
   "cell_type": "code",
   "execution_count": 48,
   "id": "novel-devices",
   "metadata": {},
   "outputs": [
    {
     "name": "stdout",
     "output_type": "stream",
     "text": [
      "17\n"
     ]
    }
   ],
   "source": [
    "print(ans)"
   ]
  },
  {
   "cell_type": "code",
   "execution_count": null,
   "id": "documented-beginning",
   "metadata": {},
   "outputs": [],
   "source": []
  }
 ],
 "metadata": {
  "kernelspec": {
   "display_name": "Python 3",
   "language": "python",
   "name": "python3"
  },
  "language_info": {
   "codemirror_mode": {
    "name": "ipython",
    "version": 3
   },
   "file_extension": ".py",
   "mimetype": "text/x-python",
   "name": "python",
   "nbconvert_exporter": "python",
   "pygments_lexer": "ipython3",
   "version": "3.8.5"
  }
 },
 "nbformat": 4,
 "nbformat_minor": 5
}
