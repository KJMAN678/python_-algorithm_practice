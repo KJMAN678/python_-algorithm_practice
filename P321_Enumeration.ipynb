{
 "cells": [
  {
   "cell_type": "markdown",
   "id": "latest-windsor",
   "metadata": {},
   "source": [
    "### べき乗"
   ]
  },
  {
   "cell_type": "code",
   "execution_count": null,
   "id": "laden-surprise",
   "metadata": {},
   "outputs": [],
   "source": [
    "N = int(input())"
   ]
  },
  {
   "cell_type": "code",
   "execution_count": 3,
   "id": "vertical-professional",
   "metadata": {},
   "outputs": [],
   "source": [
    "MOD = 10**9+7"
   ]
  },
  {
   "cell_type": "code",
   "execution_count": 4,
   "id": "continental-insert",
   "metadata": {},
   "outputs": [
    {
     "data": {
      "text/plain": [
       "1000000007"
      ]
     },
     "execution_count": 4,
     "metadata": {},
     "output_type": "execute_result"
    }
   ],
   "source": [
    "MOD"
   ]
  },
  {
   "cell_type": "code",
   "execution_count": 5,
   "id": "incorporated-diary",
   "metadata": {},
   "outputs": [],
   "source": [
    "ans = pow(3, N, MOD)"
   ]
  },
  {
   "cell_type": "code",
   "execution_count": 6,
   "id": "shaped-citizen",
   "metadata": {},
   "outputs": [
    {
     "name": "stdout",
     "output_type": "stream",
     "text": [
      "949437513\n"
     ]
    }
   ],
   "source": [
    "print(ans)"
   ]
  },
  {
   "cell_type": "markdown",
   "id": "accompanied-dealing",
   "metadata": {},
   "source": [
    "### 階乗"
   ]
  },
  {
   "cell_type": "code",
   "execution_count": 7,
   "id": "located-cylinder",
   "metadata": {},
   "outputs": [
    {
     "name": "stdin",
     "output_type": "stream",
     "text": [
      " 10000\n"
     ]
    }
   ],
   "source": [
    "N = int(input())"
   ]
  },
  {
   "cell_type": "code",
   "execution_count": 8,
   "id": "promising-drive",
   "metadata": {},
   "outputs": [
    {
     "data": {
      "text/plain": [
       "1000000007"
      ]
     },
     "execution_count": 8,
     "metadata": {},
     "output_type": "execute_result"
    }
   ],
   "source": [
    "MOD = 10**9+7"
   ]
  },
  {
   "cell_type": "code",
   "execution_count": null,
   "id": "adjustable-mouse",
   "metadata": {},
   "outputs": [],
   "source": [
    "MOD"
   ]
  },
  {
   "cell_type": "code",
   "execution_count": 9,
   "id": "designed-tracy",
   "metadata": {},
   "outputs": [],
   "source": [
    "fact = [1] * (N + 1)"
   ]
  },
  {
   "cell_type": "code",
   "execution_count": 11,
   "id": "decimal-parts",
   "metadata": {},
   "outputs": [
    {
     "data": {
      "text/plain": [
       "10001"
      ]
     },
     "execution_count": 11,
     "metadata": {},
     "output_type": "execute_result"
    }
   ],
   "source": [
    "len(fact)"
   ]
  },
  {
   "cell_type": "code",
   "execution_count": 12,
   "id": "disabled-trout",
   "metadata": {},
   "outputs": [],
   "source": [
    "for i in range(1, N+1):\n",
    "    fact[i] = i * fact[i-1] % MOD"
   ]
  },
  {
   "cell_type": "code",
   "execution_count": 13,
   "id": "mysterious-freeware",
   "metadata": {},
   "outputs": [
    {
     "name": "stdout",
     "output_type": "stream",
     "text": [
      "531950728\n"
     ]
    }
   ],
   "source": [
    "print(fact[N])"
   ]
  },
  {
   "cell_type": "markdown",
   "id": "pregnant-peeing",
   "metadata": {},
   "source": [
    "### 二項係数"
   ]
  },
  {
   "cell_type": "code",
   "execution_count": 14,
   "id": "surface-hormone",
   "metadata": {},
   "outputs": [
    {
     "name": "stdin",
     "output_type": "stream",
     "text": [
      " 100\n"
     ]
    }
   ],
   "source": [
    "N = int(input())"
   ]
  },
  {
   "cell_type": "code",
   "execution_count": 15,
   "id": "connected-citizenship",
   "metadata": {},
   "outputs": [],
   "source": [
    "C = []"
   ]
  },
  {
   "cell_type": "code",
   "execution_count": 16,
   "id": "forced-engineering",
   "metadata": {},
   "outputs": [],
   "source": [
    "for i in range(N+1):\n",
    "    C.append([0]*(N+1))"
   ]
  },
  {
   "cell_type": "code",
   "execution_count": 18,
   "id": "functioning-wayne",
   "metadata": {},
   "outputs": [
    {
     "data": {
      "text/plain": [
       "101"
      ]
     },
     "execution_count": 18,
     "metadata": {},
     "output_type": "execute_result"
    }
   ],
   "source": [
    "len(C)"
   ]
  },
  {
   "cell_type": "code",
   "execution_count": 19,
   "id": "finite-processing",
   "metadata": {},
   "outputs": [],
   "source": [
    "C[0][0] = 1"
   ]
  },
  {
   "cell_type": "code",
   "execution_count": 21,
   "id": "altered-intent",
   "metadata": {},
   "outputs": [
    {
     "data": {
      "text/plain": [
       "101"
      ]
     },
     "execution_count": 21,
     "metadata": {},
     "output_type": "execute_result"
    }
   ],
   "source": [
    "len(C)"
   ]
  },
  {
   "cell_type": "code",
   "execution_count": 22,
   "id": "descending-buddy",
   "metadata": {},
   "outputs": [],
   "source": [
    "MOD = 10 ** 9 + 7"
   ]
  },
  {
   "cell_type": "code",
   "execution_count": 23,
   "id": "defensive-professional",
   "metadata": {},
   "outputs": [],
   "source": [
    "for i in range(1, N+1):\n",
    "    C[i][0] = 1\n",
    "    for j in range(1, i+1):\n",
    "        C[i][j] = C[i-1][j-1] + C[i-1][j]"
   ]
  },
  {
   "cell_type": "code",
   "execution_count": 25,
   "id": "occupational-bulletin",
   "metadata": {},
   "outputs": [
    {
     "data": {
      "text/plain": [
       "101"
      ]
     },
     "execution_count": 25,
     "metadata": {},
     "output_type": "execute_result"
    }
   ],
   "source": [
    "len(C)"
   ]
  },
  {
   "cell_type": "code",
   "execution_count": null,
   "id": "basic-wealth",
   "metadata": {},
   "outputs": [],
   "source": []
  }
 ],
 "metadata": {
  "kernelspec": {
   "display_name": "Python 3",
   "language": "python",
   "name": "python3"
  },
  "language_info": {
   "codemirror_mode": {
    "name": "ipython",
    "version": 3
   },
   "file_extension": ".py",
   "mimetype": "text/x-python",
   "name": "python",
   "nbconvert_exporter": "python",
   "pygments_lexer": "ipython3",
   "version": "3.8.5"
  }
 },
 "nbformat": 4,
 "nbformat_minor": 5
}
