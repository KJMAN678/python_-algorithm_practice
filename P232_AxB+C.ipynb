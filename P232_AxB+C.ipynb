{
 "cells": [
  {
   "cell_type": "code",
   "execution_count": 1,
   "id": "thorough-newark",
   "metadata": {},
   "outputs": [],
   "source": [
    "# 正の整数 N"
   ]
  },
  {
   "cell_type": "code",
   "execution_count": 2,
   "id": "broken-concentrate",
   "metadata": {},
   "outputs": [
    {
     "name": "stdin",
     "output_type": "stream",
     "text": [
      " 3\n"
     ]
    }
   ],
   "source": [
    "N = int(input())"
   ]
  },
  {
   "cell_type": "code",
   "execution_count": 3,
   "id": "super-perry",
   "metadata": {},
   "outputs": [],
   "source": [
    "ans = 0"
   ]
  },
  {
   "cell_type": "code",
   "execution_count": 4,
   "id": "gothic-active",
   "metadata": {},
   "outputs": [],
   "source": [
    "# A に 1 から N - 1 までの値を順番に代入して試す\n",
    "for A in range(1, N):\n",
    "    \n",
    "    # B に 1 から N-1 までの値を順番に代入して試す\n",
    "    for B in range(1, N):\n",
    "        \n",
    "        # C に 1 から N-1 までの値を順b何位代入して試す\n",
    "        for C in range(1, N):\n",
    "            if A * B + C == N:\n",
    "                ans += 1"
   ]
  },
  {
   "cell_type": "code",
   "execution_count": 5,
   "id": "heated-employment",
   "metadata": {},
   "outputs": [
    {
     "name": "stdout",
     "output_type": "stream",
     "text": [
      "3\n"
     ]
    }
   ],
   "source": [
    "print(ans)"
   ]
  },
  {
   "cell_type": "markdown",
   "id": "static-astrology",
   "metadata": {},
   "source": [
    "### ループを減らす考察"
   ]
  },
  {
   "cell_type": "code",
   "execution_count": 13,
   "id": "beneficial-collar",
   "metadata": {},
   "outputs": [
    {
     "name": "stdin",
     "output_type": "stream",
     "text": [
      " 3\n"
     ]
    }
   ],
   "source": [
    "N = int(input())"
   ]
  },
  {
   "cell_type": "code",
   "execution_count": 14,
   "id": "guilty-eagle",
   "metadata": {},
   "outputs": [],
   "source": [
    "ans = 0"
   ]
  },
  {
   "cell_type": "code",
   "execution_count": 15,
   "id": "surprising-decrease",
   "metadata": {},
   "outputs": [],
   "source": [
    "# A に 1 から N-1 までの値を順b何位代入して試す\n",
    "for A in range(1, N):\n",
    "    \n",
    "    # B に 1 から N-1 までの値を順番に代入して試す\n",
    "    for B in range(1, N):\n",
    "        \n",
    "        # A と B を固定したとき、C としてあり得る数は N - A + B の1つしかない\n",
    "        C = N - A * B\n",
    "        \n",
    "        # B に 1 から N-1 までの値を順番に代入して試す\n",
    "        if C > 0:\n",
    "            ans += 1"
   ]
  },
  {
   "cell_type": "code",
   "execution_count": 16,
   "id": "chemical-coast",
   "metadata": {},
   "outputs": [
    {
     "name": "stdout",
     "output_type": "stream",
     "text": [
      "3\n"
     ]
    }
   ],
   "source": [
    "print(ans)"
   ]
  },
  {
   "cell_type": "markdown",
   "id": "private-preparation",
   "metadata": {},
   "source": [
    "### 計算を省略する考察"
   ]
  },
  {
   "cell_type": "code",
   "execution_count": 17,
   "id": "determined-ferry",
   "metadata": {},
   "outputs": [],
   "source": [
    "# A と B を固定した時、C としてあり得る数は N - A + B の1つしかない\n",
    "C = N - A + B\n",
    "\n",
    "# C の候補が正の整数であるかどうか調べる\n",
    "if C > 0:\n",
    "    ans += 1"
   ]
  },
  {
   "cell_type": "code",
   "execution_count": 18,
   "id": "recreational-satisfaction",
   "metadata": {},
   "outputs": [],
   "source": [
    "if N > A * B:\n",
    "    ans += 1"
   ]
  },
  {
   "cell_type": "code",
   "execution_count": 19,
   "id": "tired-holiday",
   "metadata": {},
   "outputs": [
    {
     "name": "stdin",
     "output_type": "stream",
     "text": [
      " 3\n"
     ]
    }
   ],
   "source": [
    "N = int(input())\n",
    "\n",
    "ans = 0\n",
    "\n",
    "# A に 1 から N - 1 までの値を順番に代入して試す\n",
    "for A in range(1, N):\n",
    "    \n",
    "    # B に 1 から N--1 までの値を順番に代入して試す\n",
    "    for B in range(1, N):\n",
    "        if N > A * B:\n",
    "            ans += 1"
   ]
  },
  {
   "cell_type": "code",
   "execution_count": 20,
   "id": "given-bronze",
   "metadata": {},
   "outputs": [
    {
     "name": "stdout",
     "output_type": "stream",
     "text": [
      "3\n"
     ]
    }
   ],
   "source": [
    "print(ans)"
   ]
  },
  {
   "cell_type": "code",
   "execution_count": 21,
   "id": "devoted-intervention",
   "metadata": {},
   "outputs": [],
   "source": [
    "# B に 1 から N-1 までの 値 を順番に代入して試す\n",
    "for B in range(1, N):\n",
    "    if N > A * B:\n",
    "        ans += 1"
   ]
  },
  {
   "cell_type": "markdown",
   "id": "infrared-director",
   "metadata": {},
   "source": [
    "### 一部カット"
   ]
  },
  {
   "cell_type": "code",
   "execution_count": 22,
   "id": "timely-azerbaijan",
   "metadata": {},
   "outputs": [
    {
     "name": "stdin",
     "output_type": "stream",
     "text": [
      " 3\n"
     ]
    }
   ],
   "source": [
    "N = int(input())"
   ]
  },
  {
   "cell_type": "code",
   "execution_count": 23,
   "id": "electronic-spare",
   "metadata": {},
   "outputs": [],
   "source": [
    "ans = 0"
   ]
  },
  {
   "cell_type": "code",
   "execution_count": 24,
   "id": "heated-blocking",
   "metadata": {},
   "outputs": [],
   "source": [
    "# A に 1 から N-1 までの値を順番に代入して試す\n",
    "for A in range(1, N):\n",
    "    \n",
    "    # B に 1 から N-1 までの値を順番に代入して試す\n",
    "    for B in range(1, N):\n",
    "        if N <= A * B:\n",
    "            # N > A * B が成り立たなかった場合\n",
    "            # ループを終了させ、それ以上大きい B では試さない\n",
    "            break\n",
    "        \n",
    "        ans += 1"
   ]
  },
  {
   "cell_type": "code",
   "execution_count": 25,
   "id": "loving-samba",
   "metadata": {},
   "outputs": [
    {
     "name": "stdout",
     "output_type": "stream",
     "text": [
      "3\n"
     ]
    }
   ],
   "source": [
    "print(ans)"
   ]
  },
  {
   "cell_type": "markdown",
   "id": "conventional-maria",
   "metadata": {},
   "source": [
    "### ループを減らす考察２"
   ]
  },
  {
   "cell_type": "code",
   "execution_count": 26,
   "id": "wired-healthcare",
   "metadata": {},
   "outputs": [
    {
     "name": "stdin",
     "output_type": "stream",
     "text": [
      " 3\n"
     ]
    }
   ],
   "source": [
    "N = int(input())"
   ]
  },
  {
   "cell_type": "code",
   "execution_count": 27,
   "id": "sudden-moore",
   "metadata": {},
   "outputs": [],
   "source": [
    "ans = 0"
   ]
  },
  {
   "cell_type": "code",
   "execution_count": 28,
   "id": "former-experience",
   "metadata": {},
   "outputs": [],
   "source": [
    "# A に 1 から N-1 までの値を順番に代入して試す\n",
    "for A in range(1, N):\n",
    "    \n",
    "    # A を固定したときに N > A * B を満たす正の整数 B の数\n",
    "    b_count = (N - 1) // A\n",
    "    ans += b_count"
   ]
  },
  {
   "cell_type": "code",
   "execution_count": 29,
   "id": "warming-aviation",
   "metadata": {},
   "outputs": [
    {
     "name": "stdout",
     "output_type": "stream",
     "text": [
      "3\n"
     ]
    }
   ],
   "source": [
    "print(ans)"
   ]
  },
  {
   "cell_type": "code",
   "execution_count": null,
   "id": "august-differential",
   "metadata": {},
   "outputs": [],
   "source": []
  }
 ],
 "metadata": {
  "kernelspec": {
   "display_name": "Python 3",
   "language": "python",
   "name": "python3"
  },
  "language_info": {
   "codemirror_mode": {
    "name": "ipython",
    "version": 3
   },
   "file_extension": ".py",
   "mimetype": "text/x-python",
   "name": "python",
   "nbconvert_exporter": "python",
   "pygments_lexer": "ipython3",
   "version": "3.8.5"
  }
 },
 "nbformat": 4,
 "nbformat_minor": 5
}
