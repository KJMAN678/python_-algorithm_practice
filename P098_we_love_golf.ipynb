{
 "cells": [
  {
   "cell_type": "markdown",
   "id": "reflected-lexington",
   "metadata": {},
   "source": [
    "### 全探索する方法"
   ]
  },
  {
   "cell_type": "code",
   "execution_count": 1,
   "id": "romantic-invalid",
   "metadata": {},
   "outputs": [
    {
     "name": "stdin",
     "output_type": "stream",
     "text": [
      " 20\n"
     ]
    }
   ],
   "source": [
    "K = int(input())"
   ]
  },
  {
   "cell_type": "code",
   "execution_count": 2,
   "id": "monetary-cycle",
   "metadata": {},
   "outputs": [
    {
     "name": "stdin",
     "output_type": "stream",
     "text": [
      " 500 600\n"
     ]
    }
   ],
   "source": [
    "A, B = map(int, input().split())"
   ]
  },
  {
   "cell_type": "code",
   "execution_count": 3,
   "id": "talented-hypothetical",
   "metadata": {},
   "outputs": [],
   "source": [
    "# K の倍数が A 以上 B 以下の範囲の中にあるかどうかを記録する変数\n",
    "judge = False"
   ]
  },
  {
   "cell_type": "code",
   "execution_count": 4,
   "id": "fresh-syndicate",
   "metadata": {},
   "outputs": [
    {
     "name": "stdout",
     "output_type": "stream",
     "text": [
      "OK\n"
     ]
    }
   ],
   "source": [
    "# A から B まで順番に調べる。調べている数を x とする\n",
    "for x in range(A, B + 1):\n",
    "    \n",
    "    # 調べている数 x が K で割り切れるかどうか調べる\n",
    "    if x % K == 0:\n",
    "        judge = True\n",
    "        \n",
    "# K で割り切れる数があれば OK を出力する\n",
    "if judge:\n",
    "    print(\"OK\")\n",
    "else:\n",
    "    print(\"NG\")"
   ]
  },
  {
   "cell_type": "markdown",
   "id": "ranking-scope",
   "metadata": {},
   "source": [
    "### K の倍数を全探索する方法"
   ]
  },
  {
   "cell_type": "code",
   "execution_count": 5,
   "id": "bottom-marine",
   "metadata": {},
   "outputs": [
    {
     "name": "stdin",
     "output_type": "stream",
     "text": [
      " 20\n"
     ]
    }
   ],
   "source": [
    "K = int(input())"
   ]
  },
  {
   "cell_type": "code",
   "execution_count": 6,
   "id": "baking-cambodia",
   "metadata": {},
   "outputs": [
    {
     "name": "stdin",
     "output_type": "stream",
     "text": [
      " 150 200\n"
     ]
    }
   ],
   "source": [
    "A, B = map(int, input().split())"
   ]
  },
  {
   "cell_type": "code",
   "execution_count": 7,
   "id": "limiting-lemon",
   "metadata": {},
   "outputs": [],
   "source": [
    "# K の倍数が A 以上 B 以下の範囲の中にあるかどうかを記録する変数\n",
    "judge = False"
   ]
  },
  {
   "cell_type": "code",
   "execution_count": 8,
   "id": "loved-enhancement",
   "metadata": {},
   "outputs": [],
   "source": [
    "import tqdm"
   ]
  },
  {
   "cell_type": "code",
   "execution_count": 9,
   "id": "straight-latitude",
   "metadata": {},
   "outputs": [
    {
     "data": {
      "application/vnd.jupyter.widget-view+json": {
       "model_id": "2f363ba5c4e74c0aa0897ae5afc77774",
       "version_major": 2,
       "version_minor": 0
      },
      "text/plain": [
       "  0%|          | 0/1000000000000 [00:00<?, ?it/s]"
      ]
     },
     "metadata": {},
     "output_type": "display_data"
    },
    {
     "name": "stdout",
     "output_type": "stream",
     "text": [
      "OK\n"
     ]
    }
   ],
   "source": [
    "# K の倍数が A 以上 B 以下の範囲の中にあるかどうかを記録する変数\n",
    "# i を整数として、 i * K がA 以上 B 以下の範囲に入っているかを調べる\n",
    "for i in tqdm.notebook.tqdm(range(0, 1000000000000)):\n",
    "    # 調べたいKの倍数が B より大きかったら、そこでループを狩猟する\n",
    "    if i * K > B:\n",
    "        break\n",
    "        \n",
    "    # 調べている K の倍数 i * K が A 以上 B 以下の範囲に入っているかを調べる\n",
    "    if A <= i * K <= B:\n",
    "        judge = True\n",
    "        \n",
    "# K で割り切れる数があれば OK を出力する\n",
    "if judge:\n",
    "    print(\"OK\")\n",
    "else:\n",
    "    print(\"NG\")"
   ]
  },
  {
   "cell_type": "markdown",
   "id": "annual-communist",
   "metadata": {},
   "source": [
    "### 数学的な解法"
   ]
  },
  {
   "cell_type": "code",
   "execution_count": 10,
   "id": "preceding-renewal",
   "metadata": {},
   "outputs": [
    {
     "name": "stdin",
     "output_type": "stream",
     "text": [
      " 20\n"
     ]
    }
   ],
   "source": [
    "K = int(input())"
   ]
  },
  {
   "cell_type": "code",
   "execution_count": 11,
   "id": "legal-anthropology",
   "metadata": {},
   "outputs": [
    {
     "name": "stdin",
     "output_type": "stream",
     "text": [
      " 150 200\n"
     ]
    }
   ],
   "source": [
    "A, B = map(int, input().split())"
   ]
  },
  {
   "cell_type": "code",
   "execution_count": 12,
   "id": "distinguished-falls",
   "metadata": {},
   "outputs": [],
   "source": [
    "# K の倍数が A 以上 B 以下の中にあるかどうかを記録する変数\n",
    "judge = False"
   ]
  },
  {
   "cell_type": "code",
   "execution_count": 14,
   "id": "certified-christopher",
   "metadata": {},
   "outputs": [],
   "source": [
    "x = A // K\n",
    "u = B // K"
   ]
  },
  {
   "cell_type": "code",
   "execution_count": 15,
   "id": "knowing-ethics",
   "metadata": {},
   "outputs": [],
   "source": [
    "# x < u ならば K の倍数が A 以上 B 以下の範囲の中にある\n",
    "if x < u:\n",
    "    judge = True"
   ]
  },
  {
   "cell_type": "code",
   "execution_count": 16,
   "id": "individual-payment",
   "metadata": {},
   "outputs": [],
   "source": [
    "if A % K == 0:\n",
    "    judge = True"
   ]
  },
  {
   "cell_type": "code",
   "execution_count": 18,
   "id": "backed-principle",
   "metadata": {},
   "outputs": [
    {
     "name": "stdout",
     "output_type": "stream",
     "text": [
      "OK\n"
     ]
    }
   ],
   "source": [
    "# K で割り切れる数があれば OK を出力する\n",
    "if judge:\n",
    "    print(\"OK\")\n",
    "else:\n",
    "    print(\"NG\")"
   ]
  },
  {
   "cell_type": "code",
   "execution_count": null,
   "id": "hollywood-payday",
   "metadata": {},
   "outputs": [],
   "source": []
  }
 ],
 "metadata": {
  "kernelspec": {
   "display_name": "Python 3",
   "language": "python",
   "name": "python3"
  },
  "language_info": {
   "codemirror_mode": {
    "name": "ipython",
    "version": 3
   },
   "file_extension": ".py",
   "mimetype": "text/x-python",
   "name": "python",
   "nbconvert_exporter": "python",
   "pygments_lexer": "ipython3",
   "version": "3.8.5"
  }
 },
 "nbformat": 4,
 "nbformat_minor": 5
}
