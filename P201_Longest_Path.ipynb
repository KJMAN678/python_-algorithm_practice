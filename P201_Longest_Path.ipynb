{
 "cells": [
  {
   "cell_type": "code",
   "execution_count": 1,
   "id": "jewish-sense",
   "metadata": {},
   "outputs": [],
   "source": [
    "# N 頂点の数\n",
    "# M 辺の数\n",
    "# 閉路がないのでトポロジカルソートを使える"
   ]
  },
  {
   "cell_type": "code",
   "execution_count": 3,
   "id": "representative-bathroom",
   "metadata": {},
   "outputs": [],
   "source": [
    "# 再帰上限を増やす\n",
    "import sys\n",
    "sys.setrecursionlimit(1000000)"
   ]
  },
  {
   "cell_type": "code",
   "execution_count": 4,
   "id": "legislative-marks",
   "metadata": {},
   "outputs": [
    {
     "name": "stdin",
     "output_type": "stream",
     "text": [
      " 4 5\n"
     ]
    }
   ],
   "source": [
    "N, M = list(map(int, input().split()))"
   ]
  },
  {
   "cell_type": "code",
   "execution_count": 5,
   "id": "faced-cleveland",
   "metadata": {},
   "outputs": [],
   "source": [
    "# edges[i]: 頂点 i から辺が伸びている頂点たち（隣接リスト）\n",
    "edges = []"
   ]
  },
  {
   "cell_type": "code",
   "execution_count": 6,
   "id": "general-setup",
   "metadata": {},
   "outputs": [],
   "source": [
    "for i in range(N):\n",
    "    edges.append([])"
   ]
  },
  {
   "cell_type": "code",
   "execution_count": 7,
   "id": "union-mainland",
   "metadata": {},
   "outputs": [
    {
     "data": {
      "text/plain": [
       "[[], [], [], []]"
      ]
     },
     "execution_count": 7,
     "metadata": {},
     "output_type": "execute_result"
    }
   ],
   "source": [
    "edges"
   ]
  },
  {
   "cell_type": "code",
   "execution_count": 8,
   "id": "sunrise-volleyball",
   "metadata": {},
   "outputs": [],
   "source": [
    "# 入次数。地点の判定に使う\n",
    "# 有向グラフでは、頂点に入ってくる辺数を入次数 (indegree)、頂点から出て行く辺数を出次数 (outdegree) と呼ぶ。\n",
    "indeg = [0] * N"
   ]
  },
  {
   "cell_type": "code",
   "execution_count": 9,
   "id": "neither-chick",
   "metadata": {},
   "outputs": [
    {
     "data": {
      "text/plain": [
       "[0, 0, 0, 0]"
      ]
     },
     "execution_count": 9,
     "metadata": {},
     "output_type": "execute_result"
    }
   ],
   "source": [
    "indeg"
   ]
  },
  {
   "cell_type": "code",
   "execution_count": 11,
   "id": "demographic-fiction",
   "metadata": {},
   "outputs": [
    {
     "name": "stdin",
     "output_type": "stream",
     "text": [
      " 1 2\n",
      " 1 3\n",
      " 3 2\n",
      " 2 4\n",
      " 3 4\n"
     ]
    }
   ],
   "source": [
    "# 辺の入力を受け取り、隣接リストを作る\n",
    "for i in range(M):\n",
    "    x, y = list(map(int, input().split()))\n",
    "    edges[x-1].append(y-1)\n",
    "    indeg[y-1] += 1"
   ]
  },
  {
   "cell_type": "code",
   "execution_count": 12,
   "id": "tested-swimming",
   "metadata": {},
   "outputs": [
    {
     "data": {
      "text/plain": [
       "[[1, 2, 1, 2], [3, 3], [1, 1, 3], []]"
      ]
     },
     "execution_count": 12,
     "metadata": {},
     "output_type": "execute_result"
    }
   ],
   "source": [
    "edges"
   ]
  },
  {
   "cell_type": "code",
   "execution_count": 13,
   "id": "consecutive-enterprise",
   "metadata": {},
   "outputs": [
    {
     "data": {
      "text/plain": [
       "[0, 4, 2, 3]"
      ]
     },
     "execution_count": 13,
     "metadata": {},
     "output_type": "execute_result"
    }
   ],
   "source": [
    "indeg"
   ]
  },
  {
   "cell_type": "code",
   "execution_count": 14,
   "id": "enormous-velvet",
   "metadata": {},
   "outputs": [],
   "source": [
    "# length[i]: 頂点 i から始まるパスの最大値\n",
    "length = [0] * N"
   ]
  },
  {
   "cell_type": "code",
   "execution_count": 15,
   "id": "advanced-designation",
   "metadata": {},
   "outputs": [],
   "source": [
    "# done[i]: cost[i] がすでに計算済みであることを示すフラグ\n",
    "done = [False] * N"
   ]
  },
  {
   "cell_type": "code",
   "execution_count": 16,
   "id": "binary-foster",
   "metadata": {},
   "outputs": [],
   "source": [
    "# メモ最適化の実装\n",
    "def rec(i):\n",
    "    # 計算済みであれば、即座に値を返す\n",
    "    if done[i]:\n",
    "        return length[i]\n",
    "    \n",
    "    # そうでなければ値を計算する\n",
    "    length[i] = 0\n",
    "    for j in edges[i]:\n",
    "        length[i] = max(length[i], rec(j) + 1)\n",
    "        \n",
    "    # 計算済みフラグをたてて値を返す\n",
    "    done[i] = True\n",
    "    return length[i]"
   ]
  },
  {
   "cell_type": "code",
   "execution_count": 17,
   "id": "historic-economics",
   "metadata": {},
   "outputs": [],
   "source": [
    "# 地点すべてについて rec を呼び出す\n",
    "for i in range(N):\n",
    "    if indeg[i] == 0:\n",
    "        rec(i)"
   ]
  },
  {
   "cell_type": "code",
   "execution_count": 18,
   "id": "toxic-edinburgh",
   "metadata": {},
   "outputs": [
    {
     "name": "stdout",
     "output_type": "stream",
     "text": [
      "3\n"
     ]
    }
   ],
   "source": [
    "# 答えは length の最大値\n",
    "print(max(length))"
   ]
  },
  {
   "cell_type": "code",
   "execution_count": null,
   "id": "several-independence",
   "metadata": {},
   "outputs": [],
   "source": []
  }
 ],
 "metadata": {
  "kernelspec": {
   "display_name": "Python 3",
   "language": "python",
   "name": "python3"
  },
  "language_info": {
   "codemirror_mode": {
    "name": "ipython",
    "version": 3
   },
   "file_extension": ".py",
   "mimetype": "text/x-python",
   "name": "python",
   "nbconvert_exporter": "python",
   "pygments_lexer": "ipython3",
   "version": "3.8.5"
  }
 },
 "nbformat": 4,
 "nbformat_minor": 5
}
