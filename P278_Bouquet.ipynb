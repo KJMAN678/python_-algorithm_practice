{
 "cells": [
  {
   "cell_type": "code",
   "execution_count": 1,
   "id": "senior-contemporary",
   "metadata": {},
   "outputs": [],
   "source": [
    "# R 赤い花の本数\n",
    "# B 青い花の本数\n",
    "# 花束は、赤い花 x本、青い花 1本。　または赤い花 1本、青い花 y本　からなる。\n",
    "# ok 今作れるとわかっている花束の個数 X のうち、最大の値\n",
    "# ng 今作れるとわかっている花束の個数 X のうち、最小の値"
   ]
  },
  {
   "cell_type": "code",
   "execution_count": 2,
   "id": "induced-measure",
   "metadata": {},
   "outputs": [
    {
     "name": "stdin",
     "output_type": "stream",
     "text": [
      " 5 5\n"
     ]
    }
   ],
   "source": [
    "R, B = list(map(int, input().split()))"
   ]
  },
  {
   "cell_type": "code",
   "execution_count": 3,
   "id": "needed-portable",
   "metadata": {},
   "outputs": [
    {
     "name": "stdin",
     "output_type": "stream",
     "text": [
      " 3 4\n"
     ]
    }
   ],
   "source": [
    "x, y = list(map(int, input().split()))"
   ]
  },
  {
   "cell_type": "code",
   "execution_count": 4,
   "id": "cross-anxiety",
   "metadata": {},
   "outputs": [],
   "source": [
    "def check(X):\n",
    "    r = R - X\n",
    "    b = B - X\n",
    "    if r < 0 or b < 0:\n",
    "        return False\n",
    "    num = r // (x-1) + b // (y-1)\n",
    "    return (num >= X)"
   ]
  },
  {
   "cell_type": "code",
   "execution_count": 5,
   "id": "acknowledged-scope",
   "metadata": {},
   "outputs": [],
   "source": [
    "ok = 0\n",
    "ng = 10**18+1"
   ]
  },
  {
   "cell_type": "code",
   "execution_count": 6,
   "id": "powerful-november",
   "metadata": {},
   "outputs": [],
   "source": [
    "while abs(ok - ng) > 1:\n",
    "    mid = (ok + ng) // 2\n",
    "    if check(mid):\n",
    "        ok = mid\n",
    "    else:\n",
    "        ng = mid"
   ]
  },
  {
   "cell_type": "code",
   "execution_count": 7,
   "id": "thousand-chester",
   "metadata": {},
   "outputs": [
    {
     "name": "stdout",
     "output_type": "stream",
     "text": [
      "2\n"
     ]
    }
   ],
   "source": [
    "print(ok)"
   ]
  },
  {
   "cell_type": "code",
   "execution_count": null,
   "id": "judicial-association",
   "metadata": {},
   "outputs": [],
   "source": []
  }
 ],
 "metadata": {
  "kernelspec": {
   "display_name": "Python 3",
   "language": "python",
   "name": "python3"
  },
  "language_info": {
   "codemirror_mode": {
    "name": "ipython",
    "version": 3
   },
   "file_extension": ".py",
   "mimetype": "text/x-python",
   "name": "python",
   "nbconvert_exporter": "python",
   "pygments_lexer": "ipython3",
   "version": "3.8.5"
  }
 },
 "nbformat": 4,
 "nbformat_minor": 5
}
