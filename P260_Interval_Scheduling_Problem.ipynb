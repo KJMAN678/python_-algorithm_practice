{
 "cells": [
  {
   "cell_type": "code",
   "execution_count": 1,
   "id": "latter-grenada",
   "metadata": {},
   "outputs": [],
   "source": [
    "# N タスクの数\n",
    "# i 個目のタスクは Ai 日目の朝に始まり、Bi日目の夜に終わる"
   ]
  },
  {
   "cell_type": "code",
   "execution_count": 2,
   "id": "ecological-embassy",
   "metadata": {},
   "outputs": [
    {
     "name": "stdin",
     "output_type": "stream",
     "text": [
      " 3\n"
     ]
    }
   ],
   "source": [
    "N = int(input())"
   ]
  },
  {
   "cell_type": "code",
   "execution_count": 3,
   "id": "junior-perception",
   "metadata": {},
   "outputs": [],
   "source": [
    "# 終了日でソートするため、[終了日、開始日] の順に格納する\n",
    "BA = []"
   ]
  },
  {
   "cell_type": "code",
   "execution_count": 4,
   "id": "touched-myrtle",
   "metadata": {},
   "outputs": [
    {
     "name": "stdin",
     "output_type": "stream",
     "text": [
      " 1 5\n",
      " 4 6\n",
      " 6 8\n"
     ]
    }
   ],
   "source": [
    "for i in range(N):\n",
    "    a, b = list(map(int, input().split()))\n",
    "    BA.append([b, a])"
   ]
  },
  {
   "cell_type": "code",
   "execution_count": 5,
   "id": "universal-copying",
   "metadata": {},
   "outputs": [
    {
     "data": {
      "text/plain": [
       "[[5, 1], [6, 4], [8, 6]]"
      ]
     },
     "execution_count": 5,
     "metadata": {},
     "output_type": "execute_result"
    }
   ],
   "source": [
    "BA"
   ]
  },
  {
   "cell_type": "code",
   "execution_count": 6,
   "id": "falling-clothing",
   "metadata": {},
   "outputs": [],
   "source": [
    "ans = 0"
   ]
  },
  {
   "cell_type": "code",
   "execution_count": 7,
   "id": "signed-queens",
   "metadata": {},
   "outputs": [],
   "source": [
    "last = 0"
   ]
  },
  {
   "cell_type": "code",
   "execution_count": 8,
   "id": "written-interest",
   "metadata": {},
   "outputs": [
    {
     "name": "stdout",
     "output_type": "stream",
     "text": [
      "2\n"
     ]
    }
   ],
   "source": [
    "for b, a in BA:\n",
    "    if last < a:\n",
    "        ans += 1\n",
    "        last = b\n",
    "print(ans)"
   ]
  },
  {
   "cell_type": "code",
   "execution_count": null,
   "id": "needed-vacation",
   "metadata": {},
   "outputs": [],
   "source": []
  }
 ],
 "metadata": {
  "kernelspec": {
   "display_name": "Python 3",
   "language": "python",
   "name": "python3"
  },
  "language_info": {
   "codemirror_mode": {
    "name": "ipython",
    "version": 3
   },
   "file_extension": ".py",
   "mimetype": "text/x-python",
   "name": "python",
   "nbconvert_exporter": "python",
   "pygments_lexer": "ipython3",
   "version": "3.8.5"
  }
 },
 "nbformat": 4,
 "nbformat_minor": 5
}
