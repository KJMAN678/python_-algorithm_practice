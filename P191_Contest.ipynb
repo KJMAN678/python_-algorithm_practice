{
 "cells": [
  {
   "cell_type": "code",
   "execution_count": 2,
   "id": "reserved-bubble",
   "metadata": {},
   "outputs": [
    {
     "name": "stdin",
     "output_type": "stream",
     "text": [
      " 3\n"
     ]
    }
   ],
   "source": [
    "# N コンテストの問題数、pi i 問目の点数\n",
    "N = int(input())"
   ]
  },
  {
   "cell_type": "code",
   "execution_count": 3,
   "id": "secondary-apartment",
   "metadata": {},
   "outputs": [
    {
     "name": "stdin",
     "output_type": "stream",
     "text": [
      " 2 3 5\n"
     ]
    }
   ],
   "source": [
    "# 1 始まりにするために先頭にダミーを入れる\n",
    "ps = [0] + list(map(int, input().split()))"
   ]
  },
  {
   "cell_type": "code",
   "execution_count": 4,
   "id": "functional-thumbnail",
   "metadata": {},
   "outputs": [
    {
     "data": {
      "text/plain": [
       "[0, 2, 3, 5]"
      ]
     },
     "execution_count": 4,
     "metadata": {},
     "output_type": "execute_result"
    }
   ],
   "source": [
    "ps"
   ]
  },
  {
   "cell_type": "code",
   "execution_count": 9,
   "id": "reflected-excellence",
   "metadata": {},
   "outputs": [
    {
     "data": {
      "text/plain": [
       "10"
      ]
     },
     "execution_count": 9,
     "metadata": {},
     "output_type": "execute_result"
    }
   ],
   "source": [
    "P = sum(ps)\n",
    "P"
   ]
  },
  {
   "cell_type": "code",
   "execution_count": 10,
   "id": "sized-kidney",
   "metadata": {},
   "outputs": [],
   "source": [
    "# exist[i][s]: i までの問題で得点合計を s に出来る\n",
    "exist = []"
   ]
  },
  {
   "cell_type": "code",
   "execution_count": 11,
   "id": "strange-practice",
   "metadata": {},
   "outputs": [],
   "source": [
    "for i in range(N + 1):\n",
    "    exist.append([False] * (P + 1))"
   ]
  },
  {
   "cell_type": "code",
   "execution_count": 12,
   "id": "approved-scene",
   "metadata": {},
   "outputs": [
    {
     "data": {
      "text/plain": [
       "[[False, False, False, False, False, False, False, False, False, False, False],\n",
       " [False, False, False, False, False, False, False, False, False, False, False],\n",
       " [False, False, False, False, False, False, False, False, False, False, False],\n",
       " [False, False, False, False, False, False, False, False, False, False, False]]"
      ]
     },
     "execution_count": 12,
     "metadata": {},
     "output_type": "execute_result"
    }
   ],
   "source": [
    "exist "
   ]
  },
  {
   "cell_type": "code",
   "execution_count": 13,
   "id": "cordless-insulin",
   "metadata": {},
   "outputs": [],
   "source": [
    "# 初期条件\n",
    "exist[0][0] = True"
   ]
  },
  {
   "cell_type": "code",
   "execution_count": 14,
   "id": "certified-continent",
   "metadata": {},
   "outputs": [
    {
     "data": {
      "text/plain": [
       "[[True, False, False, False, False, False, False, False, False, False, False],\n",
       " [False, False, False, False, False, False, False, False, False, False, False],\n",
       " [False, False, False, False, False, False, False, False, False, False, False],\n",
       " [False, False, False, False, False, False, False, False, False, False, False]]"
      ]
     },
     "execution_count": 14,
     "metadata": {},
     "output_type": "execute_result"
    }
   ],
   "source": [
    "exist"
   ]
  },
  {
   "cell_type": "code",
   "execution_count": 15,
   "id": "every-resident",
   "metadata": {},
   "outputs": [],
   "source": [
    "# i が小さい順に exist の値を求めていく\n",
    "for i in range(1, N+1):\n",
    "    for s in range(P+1):\n",
    "        # 問題 i を解かない場合\n",
    "        if exist[i-1][s]:\n",
    "            exist[i][s] = True\n",
    "            \n",
    "        # 問題 i を解く場合\n",
    "        if s >= ps[i] and exist[i-1][s-ps[i]]:\n",
    "            exist[i][s] = True"
   ]
  },
  {
   "cell_type": "code",
   "execution_count": 16,
   "id": "improved-celebrity",
   "metadata": {},
   "outputs": [
    {
     "data": {
      "text/plain": [
       "[[True, False, False, False, False, False, False, False, False, False, False],\n",
       " [True, False, True, False, False, False, False, False, False, False, False],\n",
       " [True, False, True, True, False, True, False, False, False, False, False],\n",
       " [True, False, True, True, False, True, False, True, True, False, True]]"
      ]
     },
     "execution_count": 16,
     "metadata": {},
     "output_type": "execute_result"
    }
   ],
   "source": [
    "exist"
   ]
  },
  {
   "cell_type": "code",
   "execution_count": 17,
   "id": "typical-second",
   "metadata": {},
   "outputs": [],
   "source": [
    "# 答えは exist[N][s]の中で True になっている s の個数\n",
    "ans = 0"
   ]
  },
  {
   "cell_type": "code",
   "execution_count": 18,
   "id": "light-cleveland",
   "metadata": {},
   "outputs": [],
   "source": [
    "for s in range(P+1):\n",
    "    if exist[N][s]:\n",
    "        ans += 1"
   ]
  },
  {
   "cell_type": "code",
   "execution_count": 19,
   "id": "spectacular-nowhere",
   "metadata": {},
   "outputs": [
    {
     "name": "stdout",
     "output_type": "stream",
     "text": [
      "7\n"
     ]
    }
   ],
   "source": [
    "print(ans)"
   ]
  },
  {
   "cell_type": "code",
   "execution_count": null,
   "id": "purple-morrison",
   "metadata": {},
   "outputs": [],
   "source": []
  }
 ],
 "metadata": {
  "kernelspec": {
   "display_name": "Python 3",
   "language": "python",
   "name": "python3"
  },
  "language_info": {
   "codemirror_mode": {
    "name": "ipython",
    "version": 3
   },
   "file_extension": ".py",
   "mimetype": "text/x-python",
   "name": "python",
   "nbconvert_exporter": "python",
   "pygments_lexer": "ipython3",
   "version": "3.8.5"
  }
 },
 "nbformat": 4,
 "nbformat_minor": 5
}
