{
 "cells": [
  {
   "cell_type": "code",
   "execution_count": 2,
   "id": "agreed-spelling",
   "metadata": {},
   "outputs": [],
   "source": [
    "# 隣接行列 直感的だが頂点の数だけデータ量が増える\n",
    "\n",
    "graph = [\n",
    "    [False, True, True, False], # 頂点0からみた各頂点への辺があるか否か、以下同様\n",
    "    [True, False, True, False], # 頂点1\n",
    "    [True, True, False, True], # 頂点2\n",
    "    [False, False, True, False] # 頂点3\n",
    "]"
   ]
  },
  {
   "cell_type": "code",
   "execution_count": 3,
   "id": "uniform-cameroon",
   "metadata": {},
   "outputs": [],
   "source": [
    "# 隣接リスト 直感的でないがデータ量を少なくできる\n",
    "graph = [\n",
    "    [1, 2], # 頂点0とつながっている点(頂点1, 頂点2) 以下同様\n",
    "    [0, 2], # 頂点1\n",
    "    [0, 1, 3], # 頂点2\n",
    "    [2] # 頂点3\n",
    "]"
   ]
  },
  {
   "cell_type": "code",
   "execution_count": null,
   "id": "falling-fiction",
   "metadata": {},
   "outputs": [],
   "source": []
  }
 ],
 "metadata": {
  "kernelspec": {
   "display_name": "Python 3",
   "language": "python",
   "name": "python3"
  },
  "language_info": {
   "codemirror_mode": {
    "name": "ipython",
    "version": 3
   },
   "file_extension": ".py",
   "mimetype": "text/x-python",
   "name": "python",
   "nbconvert_exporter": "python",
   "pygments_lexer": "ipython3",
   "version": "3.8.5"
  }
 },
 "nbformat": 4,
 "nbformat_minor": 5
}
