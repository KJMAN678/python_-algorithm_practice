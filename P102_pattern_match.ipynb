{
 "cells": [
  {
   "cell_type": "code",
   "execution_count": 1,
   "id": "victorian-snake",
   "metadata": {},
   "outputs": [],
   "source": [
    "# 文字列 T が文字列 S にマッチするかどうかを判定する関数\n",
    "# マッチするときは True を、マッチしないときは False を返す\n",
    "def is_match(T, S):\n",
    "    \n",
    "    # 文字列 S の i 文字列目から始まる部分が文字列Tとマッチするかを調べる\n",
    "    for i in range(0, len(S) - len(T) + 1):\n",
    "    \n",
    "        # 文字列 S の i 文字列目から始まる部分が\n",
    "        # 文字列 T とマッチしているかどうかを保持する変数\n",
    "        judge = True\n",
    "    \n",
    "        # 文字列 T の j 文字列と、文字列 S の i*j 文字目を見比べる\n",
    "        for j in range(0, len(T)):\n",
    "            \n",
    "            # 文字列 T の j 文字目が文字列 S の i+j文字目と異なっていて、\n",
    "            # かつ、文字列 T の j 文字目が \".\" でもない場合、\n",
    "            # 文字列 S の i 文字目から始まる部分は文字列 T とはマッチしない\n",
    "            if S[i + j] != T[j] and T[j] != \".\":\n",
    "                judge = False\n",
    "                \n",
    "        # 文字列 S の i 文字目から始まる部分が文字列 T マッチしている場合\n",
    "        # True を返す\n",
    "        if judge:\n",
    "            return True\n",
    "        \n",
    "    # 文字列 S のすべての部分について文字列 T とマッチしなかった場合、Falseを返す\n",
    "    return False"
   ]
  },
  {
   "cell_type": "code",
   "execution_count": 3,
   "id": "exact-bones",
   "metadata": {},
   "outputs": [
    {
     "name": "stdin",
     "output_type": "stream",
     "text": [
      " ab\n"
     ]
    }
   ],
   "source": [
    "S = input()\n",
    "\n",
    "# 使える文字の一覧\n",
    "C = \"abcdefghijklmnopqrstuvwxyz.\"\n",
    "\n",
    "# 文字列 S とマッチする文字列を保持する配列\n",
    "M = []\n",
    "\n",
    "# 長さ l の文字列をすべて調べ、S とマッチするモノをMに入れる\n",
    "for T in C:\n",
    "    if is_match(T, S):\n",
    "        M.append(T)"
   ]
  },
  {
   "cell_type": "code",
   "execution_count": 4,
   "id": "curious-attempt",
   "metadata": {},
   "outputs": [
    {
     "data": {
      "text/plain": [
       "['a', 'b', '.']"
      ]
     },
     "execution_count": 4,
     "metadata": {},
     "output_type": "execute_result"
    }
   ],
   "source": [
    "M"
   ]
  },
  {
   "cell_type": "code",
   "execution_count": 11,
   "id": "instrumental-thursday",
   "metadata": {},
   "outputs": [],
   "source": [
    "# 文字列 T が文字列 S にマッチするかどうかを判定する関数\n",
    "# マッチするときは True を、マッチしないときは False を返す\n",
    "def is_match(T, S):\n",
    "    \n",
    "    # S の i 文字目から始まる部分が T とマッチするかどうか調べる\n",
    "    for i in range(0, len(S) - len(T) + 1):\n",
    "        \n",
    "        # S の i 文字目から始まる部分が\n",
    "        # T とマッチしているかどうかを保持する変数\n",
    "        judge = True\n",
    "        \n",
    "        # T の j 文字目と、S の i+j 文字目を見比べる\n",
    "        for j in range(0, len(T)):\n",
    "            \n",
    "            # T の j 文字目が S の i+j 文字目と異なっていて\n",
    "            # かつ、T の j 文字目が \".\" でもない場合、\n",
    "            # S の i 文字目から始まる部分は T とはマッチしない。\n",
    "            if S[i + j] != T[j] and T[j] != \".\":\n",
    "                judge = False\n",
    "                \n",
    "        # S の i 文字目から始まる部分が T マッチしている場合、True を返す\n",
    "        return False"
   ]
  },
  {
   "cell_type": "code",
   "execution_count": 12,
   "id": "revolutionary-context",
   "metadata": {},
   "outputs": [
    {
     "name": "stdin",
     "output_type": "stream",
     "text": [
      " ab\n"
     ]
    }
   ],
   "source": [
    "S = input()"
   ]
  },
  {
   "cell_type": "code",
   "execution_count": 13,
   "id": "optical-lodge",
   "metadata": {},
   "outputs": [],
   "source": [
    "# 使える文字の一覧\n",
    "C = \"abcdefghijklmnopqrstuvwxyz\""
   ]
  },
  {
   "cell_type": "code",
   "execution_count": 14,
   "id": "voluntary-sheffield",
   "metadata": {},
   "outputs": [],
   "source": [
    "# 文字列 S とマッチする文字列を保持する配列\n",
    "M = []"
   ]
  },
  {
   "cell_type": "code",
   "execution_count": 15,
   "id": "foster-reunion",
   "metadata": {},
   "outputs": [],
   "source": [
    "# 長さ l の文字列をすべて調べ、S とマッチするものを M に入れる\n",
    "for T in C:\n",
    "    if is_match(T, S):\n",
    "        M.append(T)"
   ]
  },
  {
   "cell_type": "code",
   "execution_count": 16,
   "id": "modified-decimal",
   "metadata": {},
   "outputs": [],
   "source": [
    "# 長さ 2 の文字列をすべて調べ、S とマッチするものを M に入れる\n",
    "for c1 in C:\n",
    "    for c2 in C:\n",
    "        T = c1 + c2\n",
    "        if is_match(T, S):\n",
    "            M.append(T)"
   ]
  },
  {
   "cell_type": "code",
   "execution_count": 17,
   "id": "pointed-throat",
   "metadata": {},
   "outputs": [
    {
     "name": "stdout",
     "output_type": "stream",
     "text": [
      "0\n"
     ]
    }
   ],
   "source": [
    "# 長さ 3 の文字列をすべて調べ、S と待ちするモノを M に入れる\n",
    "for c1 in C:\n",
    "    for c2 in C:\n",
    "        for c3 in C:\n",
    "            T = c1 + c2 + c3\n",
    "            if is_match(T, S):\n",
    "                M.append(T)\n",
    "                \n",
    "print(len(M))"
   ]
  },
  {
   "cell_type": "code",
   "execution_count": null,
   "id": "intense-argument",
   "metadata": {},
   "outputs": [],
   "source": []
  }
 ],
 "metadata": {
  "kernelspec": {
   "display_name": "Python 3",
   "language": "python",
   "name": "python3"
  },
  "language_info": {
   "codemirror_mode": {
    "name": "ipython",
    "version": 3
   },
   "file_extension": ".py",
   "mimetype": "text/x-python",
   "name": "python",
   "nbconvert_exporter": "python",
   "pygments_lexer": "ipython3",
   "version": "3.8.5"
  }
 },
 "nbformat": 4,
 "nbformat_minor": 5
}
