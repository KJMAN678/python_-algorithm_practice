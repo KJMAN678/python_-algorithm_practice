{
 "cells": [
  {
   "cell_type": "code",
   "execution_count": 2,
   "id": "graphic-fishing",
   "metadata": {},
   "outputs": [],
   "source": [
    "# 文字列 T が文字列 S にマッチするかどうかを判定する関数\n",
    "# マッチするときは True を、マッチしないときは False を返す\n",
    "def is_match(T, S):\n",
    "    \n",
    "    # 文字列 S の i 文字列目から始まる部分が文字列Tとマッチするかを調べる\n",
    "    for i in range(0, len(S) - len(T) + 1):\n",
    "    \n",
    "        # 文字列 S の i 文字列目から始まる部分が\n",
    "        # 文字列 T とマッチしているかどうかを保持する変数\n",
    "        judge = True\n",
    "    \n",
    "        # 文字列 T の j 文字列と、文字列 S の i*j 文字目を見比べる\n",
    "        for j in range(0, len(T)):\n",
    "            \n",
    "            # 文字列 T の j 文字目が文字列 S の i+j文字目と異なっていて、\n",
    "            # かつ、文字列 T の j 文字目が \".\" でもない場合、\n",
    "            # 文字列 S の i 文字目から始まる部分は文字列 T とはマッチしない\n",
    "            if S[i + j] != T[j] and T[j] != \".\":\n",
    "                judge = False\n",
    "                \n",
    "        # 文字列 S の i 文字目から始まる部分が文字列 T マッチしている場合\n",
    "        # True を返す\n",
    "        if judge:\n",
    "            return True\n",
    "        \n",
    "    # 文字列 S のすべての部分について文字列 T とマッチしなかった場合、Falseを返す\n",
    "    return False"
   ]
  },
  {
   "cell_type": "code",
   "execution_count": null,
   "id": "floating-charles",
   "metadata": {},
   "outputs": [],
   "source": []
  }
 ],
 "metadata": {
  "kernelspec": {
   "display_name": "Python 3",
   "language": "python",
   "name": "python3"
  },
  "language_info": {
   "codemirror_mode": {
    "name": "ipython",
    "version": 3
   },
   "file_extension": ".py",
   "mimetype": "text/x-python",
   "name": "python",
   "nbconvert_exporter": "python",
   "pygments_lexer": "ipython3",
   "version": "3.8.5"
  }
 },
 "nbformat": 4,
 "nbformat_minor": 5
}
