{
 "cells": [
  {
   "cell_type": "code",
   "execution_count": 2,
   "id": "future-circle",
   "metadata": {},
   "outputs": [
    {
     "ename": "NameError",
     "evalue": "name 'N' is not defined",
     "output_type": "error",
     "traceback": [
      "\u001b[1;31m---------------------------------------------------------------------------\u001b[0m",
      "\u001b[1;31mNameError\u001b[0m                                 Traceback (most recent call last)",
      "\u001b[1;32m<ipython-input-2-88a1dd4b6518>\u001b[0m in \u001b[0;36m<module>\u001b[1;34m\u001b[0m\n\u001b[0;32m      6\u001b[0m \u001b[1;31m# N 個の False で初期化した配列 visited を用意する\u001b[0m\u001b[1;33m\u001b[0m\u001b[1;33m\u001b[0m\u001b[1;33m\u001b[0m\u001b[0m\n\u001b[0;32m      7\u001b[0m \u001b[0mvisited\u001b[0m \u001b[1;33m=\u001b[0m \u001b[1;33m[\u001b[0m\u001b[1;33m]\u001b[0m\u001b[1;33m\u001b[0m\u001b[1;33m\u001b[0m\u001b[0m\n\u001b[1;32m----> 8\u001b[1;33m \u001b[1;32mfor\u001b[0m \u001b[0mi\u001b[0m \u001b[1;32min\u001b[0m \u001b[0mrange\u001b[0m\u001b[1;33m(\u001b[0m\u001b[0mN\u001b[0m\u001b[1;33m)\u001b[0m\u001b[1;33m:\u001b[0m\u001b[1;33m\u001b[0m\u001b[1;33m\u001b[0m\u001b[0m\n\u001b[0m\u001b[0;32m      9\u001b[0m     \u001b[0mvisited\u001b[0m\u001b[1;33m.\u001b[0m\u001b[0mappend\u001b[0m\u001b[1;33m(\u001b[0m\u001b[1;32mFalse\u001b[0m\u001b[1;33m)\u001b[0m\u001b[1;33m\u001b[0m\u001b[1;33m\u001b[0m\u001b[0m\n\u001b[0;32m     10\u001b[0m \u001b[1;33m\u001b[0m\u001b[0m\n",
      "\u001b[1;31mNameError\u001b[0m: name 'N' is not defined"
     ]
    }
   ],
   "source": [
    "# deque を使えるようにする\n",
    "from collections import deque\n",
    "\n",
    "# 頂点数 N、辺情報 E、始点 s は定義済みとする\n",
    "\n",
    "# N 個の False で初期化した配列 visited を用意する\n",
    "visited = []\n",
    "for i in range(N):\n",
    "    visited.append(False)\n",
    "    \n",
    "# キューを用意する\n",
    "Q = deque()\n",
    "Q.append(s)\n",
    "visited[s] = True\n",
    "\n",
    "# キューから取り出しながら探索する\n",
    "while len(Q) > 0:\n",
    "    i = Q.popleft()\n",
    "    for j in E[i]:\n",
    "        if not visited[j]:\n",
    "            visited[j] = True\n",
    "            Q.append(j)"
   ]
  },
  {
   "cell_type": "markdown",
   "id": "difficult-niger",
   "metadata": {},
   "source": [
    "### 幅有線探索"
   ]
  },
  {
   "cell_type": "code",
   "execution_count": 3,
   "id": "orange-repository",
   "metadata": {},
   "outputs": [
    {
     "name": "stdin",
     "output_type": "stream",
     "text": [
      " 7 8\n",
      " 2 2\n",
      " 4 5\n"
     ]
    }
   ],
   "source": [
    "from collections import deque\n",
    "\n",
    "R, C = list(map(int, input().split()))\n",
    "sy, sx = list(map(int, input().split()))\n",
    "gy, gx = list(map(int, input().split()))\n",
    "S = []"
   ]
  },
  {
   "cell_type": "code",
   "execution_count": 5,
   "id": "broad-endorsement",
   "metadata": {},
   "outputs": [
    {
     "name": "stdin",
     "output_type": "stream",
     "text": [
      " 4\n",
      " 4\n",
      " 4\n",
      " 4\n",
      " 4\n",
      " 4\n",
      " 4\n"
     ]
    }
   ],
   "source": [
    "for i in range(R):\n",
    "    s = input()\n",
    "    S.append(s)"
   ]
  },
  {
   "cell_type": "code",
   "execution_count": 6,
   "id": "welcome-washer",
   "metadata": {},
   "outputs": [],
   "source": [
    "# 1 始まりの入力を 0 始まりに直す\n",
    "sy -= 1\n",
    "sx -= 1\n",
    "gy -= 1\n",
    "gx -= 1"
   ]
  },
  {
   "cell_type": "code",
   "execution_count": 7,
   "id": "greater-fellow",
   "metadata": {},
   "outputs": [
    {
     "ename": "IndexError",
     "evalue": "string index out of range",
     "output_type": "error",
     "traceback": [
      "\u001b[1;31m---------------------------------------------------------------------------\u001b[0m",
      "\u001b[1;31mIndexError\u001b[0m                                Traceback (most recent call last)",
      "\u001b[1;32m<ipython-input-7-41901b64a851>\u001b[0m in \u001b[0;36m<module>\u001b[1;34m\u001b[0m\n\u001b[0;32m     18\u001b[0m             \u001b[1;32mcontinue\u001b[0m\u001b[1;33m\u001b[0m\u001b[1;33m\u001b[0m\u001b[0m\n\u001b[0;32m     19\u001b[0m         \u001b[1;31m# もし壁マスであれば無視する\u001b[0m\u001b[1;33m\u001b[0m\u001b[1;33m\u001b[0m\u001b[1;33m\u001b[0m\u001b[0m\n\u001b[1;32m---> 20\u001b[1;33m         \u001b[1;32mif\u001b[0m \u001b[0mS\u001b[0m\u001b[1;33m[\u001b[0m\u001b[0mi\u001b[0m\u001b[1;33m]\u001b[0m\u001b[1;33m[\u001b[0m\u001b[0mj\u001b[0m\u001b[1;33m]\u001b[0m \u001b[1;33m==\u001b[0m \u001b[1;34m'#'\u001b[0m\u001b[1;33m:\u001b[0m\u001b[1;33m\u001b[0m\u001b[1;33m\u001b[0m\u001b[0m\n\u001b[0m\u001b[0;32m     21\u001b[0m             \u001b[1;32mcontinue\u001b[0m\u001b[1;33m\u001b[0m\u001b[1;33m\u001b[0m\u001b[0m\n\u001b[0;32m     22\u001b[0m         \u001b[1;31m# もし未訪問（dist[i2][j2]が-1) であれば、距離を更新してキューに入れる\u001b[0m\u001b[1;33m\u001b[0m\u001b[1;33m\u001b[0m\u001b[1;33m\u001b[0m\u001b[0m\n",
      "\u001b[1;31mIndexError\u001b[0m: string index out of range"
     ]
    }
   ],
   "source": [
    "# 地点からの最小移動回数を管理する2次元配列。-1 であれば未訪問であることを表す\n",
    "dist = []\n",
    "for i in range(R):\n",
    "    dist.append([-1]*C)\n",
    "    \n",
    "# キューを用意して、始点を入れる\n",
    "Q = deque()\n",
    "Q.append([sy, sx])\n",
    "dist[sy][sx] = 0\n",
    "\n",
    "# キューから取り出しながら探索する\n",
    "while len(Q) > 0:\n",
    "    i, j = Q.popleft()\n",
    "    # 4つの隣マスを確認する\n",
    "    for i2, j2 in [[i+1, j], [i-1, j], [i, j+1], [i, j-1]]:\n",
    "        # もし盤面の範囲内でなければ無視する\n",
    "        if not (0 <= i2 < R and 0 <= j2 < C):\n",
    "            continue\n",
    "        # もし壁マスであれば無視する\n",
    "        if S[i][j] == '#':\n",
    "            continue\n",
    "        # もし未訪問（dist[i2][j2]が-1) であれば、距離を更新してキューに入れる\n",
    "        if dist[i2][j2] == -1:\n",
    "            dist[i2][j2] = dist[i][j] + 1\n",
    "            Q.append([i2, j2])\n",
    "            \n",
    "# 地点から終点までの最小移動回数を出力\n",
    "print(dist[gy][gx])"
   ]
  },
  {
   "cell_type": "code",
   "execution_count": null,
   "id": "crude-fluid",
   "metadata": {},
   "outputs": [],
   "source": []
  }
 ],
 "metadata": {
  "kernelspec": {
   "display_name": "Python 3",
   "language": "python",
   "name": "python3"
  },
  "language_info": {
   "codemirror_mode": {
    "name": "ipython",
    "version": 3
   },
   "file_extension": ".py",
   "mimetype": "text/x-python",
   "name": "python",
   "nbconvert_exporter": "python",
   "pygments_lexer": "ipython3",
   "version": "3.8.5"
  }
 },
 "nbformat": 4,
 "nbformat_minor": 5
}
