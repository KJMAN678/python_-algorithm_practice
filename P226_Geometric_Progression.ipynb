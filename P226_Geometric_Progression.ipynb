{
 "cells": [
  {
   "cell_type": "code",
   "execution_count": 1,
   "id": "clear-flight",
   "metadata": {},
   "outputs": [],
   "source": [
    "# 初稿 A\n",
    "# 公比 R\n",
    "# 第 N 項"
   ]
  },
  {
   "cell_type": "code",
   "execution_count": 5,
   "id": "designing-honduras",
   "metadata": {},
   "outputs": [
    {
     "name": "stdin",
     "output_type": "stream",
     "text": [
      " 2 3 4\n"
     ]
    }
   ],
   "source": [
    "A, R, N = map(int, input().split())"
   ]
  },
  {
   "cell_type": "code",
   "execution_count": 6,
   "id": "hairy-strength",
   "metadata": {},
   "outputs": [
    {
     "name": "stdout",
     "output_type": "stream",
     "text": [
      "2 3 4\n"
     ]
    }
   ],
   "source": [
    "print(A, R, N)"
   ]
  },
  {
   "cell_type": "code",
   "execution_count": 7,
   "id": "deadly-banana",
   "metadata": {},
   "outputs": [],
   "source": [
    "ans = A * (R ** (N -1))"
   ]
  },
  {
   "cell_type": "code",
   "execution_count": 8,
   "id": "patent-poetry",
   "metadata": {},
   "outputs": [
    {
     "data": {
      "text/plain": [
       "54"
      ]
     },
     "execution_count": 8,
     "metadata": {},
     "output_type": "execute_result"
    }
   ],
   "source": [
    "ans"
   ]
  },
  {
   "cell_type": "code",
   "execution_count": 9,
   "id": "studied-hometown",
   "metadata": {},
   "outputs": [
    {
     "name": "stdout",
     "output_type": "stream",
     "text": [
      "54\n"
     ]
    }
   ],
   "source": [
    "if ans > 10 ** 9:\n",
    "    print(\"large\")\n",
    "else:\n",
    "    print(ans)"
   ]
  },
  {
   "cell_type": "markdown",
   "id": "democratic-territory",
   "metadata": {},
   "source": [
    "### 巨大な数を扱うことを避ける解法"
   ]
  },
  {
   "cell_type": "code",
   "execution_count": 10,
   "id": "stopped-classics",
   "metadata": {},
   "outputs": [],
   "source": [
    "def solve(A, R, N):\n",
    "    \n",
    "    # A に R に N-1 回かける\n",
    "    for _ in range(0, N - 1):\n",
    "        A *= R\n",
    "        \n",
    "        # 10**9を超えることがわかったら途中でも終了して \"large\"と返す\n",
    "        if A > 10 ** 9:\n",
    "            return \"large\"\n",
    "    \n",
    "    return A"
   ]
  },
  {
   "cell_type": "code",
   "execution_count": 11,
   "id": "entire-fence",
   "metadata": {},
   "outputs": [
    {
     "name": "stdin",
     "output_type": "stream",
     "text": [
      " 2 3 4\n"
     ]
    }
   ],
   "source": [
    "A, R, N = map(int, input().split())"
   ]
  },
  {
   "cell_type": "code",
   "execution_count": 12,
   "id": "spiritual-alberta",
   "metadata": {},
   "outputs": [
    {
     "name": "stdout",
     "output_type": "stream",
     "text": [
      "54\n"
     ]
    }
   ],
   "source": [
    "ans = solve(A, R, N)\n",
    "print(ans)"
   ]
  },
  {
   "cell_type": "code",
   "execution_count": 13,
   "id": "skilled-george",
   "metadata": {},
   "outputs": [],
   "source": [
    "def solve(A, R, N):\n",
    "    \n",
    "    # R=1 のとき、N の値を無視して A を返す\n",
    "    if R == 1:\n",
    "        return A\n",
    "    \n",
    "    # A に R を N-1 回かける\n",
    "    for _ in range(0, N-1):\n",
    "        A *= R\n",
    "        \n",
    "        # 10**9 を超えることがわかったら途中でも終了して \"large\"を返す\n",
    "        if A > 10 ** 9:\n",
    "            return \"large\"\n",
    "        \n",
    "    return A"
   ]
  },
  {
   "cell_type": "code",
   "execution_count": 14,
   "id": "median-international",
   "metadata": {},
   "outputs": [
    {
     "name": "stdin",
     "output_type": "stream",
     "text": [
      " 2 3 4\n"
     ]
    }
   ],
   "source": [
    "A, R, N = map(int, input().split())"
   ]
  },
  {
   "cell_type": "code",
   "execution_count": 15,
   "id": "medium-thickness",
   "metadata": {},
   "outputs": [
    {
     "name": "stdout",
     "output_type": "stream",
     "text": [
      "54\n"
     ]
    }
   ],
   "source": [
    "ans = solve(A, R, N)\n",
    "print(ans)"
   ]
  },
  {
   "cell_type": "code",
   "execution_count": null,
   "id": "french-tunnel",
   "metadata": {},
   "outputs": [],
   "source": []
  }
 ],
 "metadata": {
  "kernelspec": {
   "display_name": "Python 3",
   "language": "python",
   "name": "python3"
  },
  "language_info": {
   "codemirror_mode": {
    "name": "ipython",
    "version": 3
   },
   "file_extension": ".py",
   "mimetype": "text/x-python",
   "name": "python",
   "nbconvert_exporter": "python",
   "pygments_lexer": "ipython3",
   "version": "3.8.5"
  }
 },
 "nbformat": 4,
 "nbformat_minor": 5
}
