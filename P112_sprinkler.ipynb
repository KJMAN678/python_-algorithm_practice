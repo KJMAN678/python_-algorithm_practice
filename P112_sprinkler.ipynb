{
 "cells": [
  {
   "cell_type": "code",
   "execution_count": 1,
   "id": "satisfied-broadcasting",
   "metadata": {},
   "outputs": [
    {
     "name": "stdin",
     "output_type": "stream",
     "text": [
      " 3 4 5\n"
     ]
    }
   ],
   "source": [
    "N, M, Q = map(int, input().split())"
   ]
  },
  {
   "cell_type": "code",
   "execution_count": 2,
   "id": "premium-pattern",
   "metadata": {},
   "outputs": [
    {
     "name": "stdout",
     "output_type": "stream",
     "text": [
      "3 4 5\n"
     ]
    }
   ],
   "source": [
    "print(N, M, Q)"
   ]
  },
  {
   "cell_type": "code",
   "execution_count": 3,
   "id": "junior-finnish",
   "metadata": {},
   "outputs": [],
   "source": [
    "graph = []"
   ]
  },
  {
   "cell_type": "markdown",
   "id": "handy-aside",
   "metadata": {},
   "source": [
    "### N × N の False の2次元配列を作成"
   ]
  },
  {
   "cell_type": "code",
   "execution_count": 4,
   "id": "effective-ethiopia",
   "metadata": {},
   "outputs": [],
   "source": [
    "for i in range(0, N):\n",
    "    \n",
    "    # 長さ N の False の1次元配列を作る\n",
    "    row = []\n",
    "    for j in range(0, N):\n",
    "        row.append(False)\n",
    "        \n",
    "    # 長さ N の False の1次元配列を graph に追加する\n",
    "    graph.append(row)"
   ]
  },
  {
   "cell_type": "code",
   "execution_count": 5,
   "id": "restricted-patio",
   "metadata": {},
   "outputs": [
    {
     "data": {
      "text/plain": [
       "[[False, False, False], [False, False, False], [False, False, False]]"
      ]
     },
     "execution_count": 5,
     "metadata": {},
     "output_type": "execute_result"
    }
   ],
   "source": [
    "graph"
   ]
  },
  {
   "cell_type": "markdown",
   "id": "intellectual-applicant",
   "metadata": {},
   "source": [
    "### 頂点 x と 頂点 y に辺があればgraph[x][y]がTrueに、辺がなければFalseになる隣接行列を作成"
   ]
  },
  {
   "cell_type": "code",
   "execution_count": 7,
   "id": "enclosed-celebrity",
   "metadata": {},
   "outputs": [
    {
     "name": "stdin",
     "output_type": "stream",
     "text": [
      " 1 3\n",
      " 1 3\n",
      " 1 3\n",
      " 1 3\n"
     ]
    }
   ],
   "source": [
    "# M 本の辺を受け取る\n",
    "for i in range(0, M):\n",
    "    u, v = map(int, input().split()) # 一度に複数の変数に入力が可能\n",
    "    \n",
    "    # 頂点番号はすべて-1する\n",
    "    u -= 1\n",
    "    v -= 1\n",
    "    \n",
    "    # u と v の間には片があるため True にする\n",
    "    graph[u][v] = True\n",
    "    graph[v][u] = True"
   ]
  },
  {
   "cell_type": "markdown",
   "id": "collaborative-timer",
   "metadata": {},
   "source": [
    "全ての頂点を順番に見る。  \n",
    "見ている頂点をiとする。  \n",
    "graph[x][i]がTrueであれば、頂点xと頂点iの間には辺がある。  \n",
    "つまり頂点はiは頂点xに隣接している。  "
   ]
  },
  {
   "cell_type": "markdown",
   "id": "congressional-player",
   "metadata": {},
   "source": [
    "#### # すべての頂点を順番に見る\n",
    "for i in range(0, N):  \n",
    "    if graph[x][i]:  \n",
    "        # graph[x][i] = True のとき、頂点 i は 頂点 x に隣接している。  "
   ]
  },
  {
   "cell_type": "code",
   "execution_count": 9,
   "id": "fatal-benjamin",
   "metadata": {},
   "outputs": [
    {
     "name": "stdin",
     "output_type": "stream",
     "text": [
      " 5 4 3\n"
     ]
    }
   ],
   "source": [
    "# 頂点の色のリストを受け取る\n",
    "C = list(map(int, input().split()))"
   ]
  },
  {
   "cell_type": "code",
   "execution_count": 10,
   "id": "amino-pizza",
   "metadata": {},
   "outputs": [
    {
     "data": {
      "text/plain": [
       "[5, 4, 3]"
      ]
     },
     "execution_count": 10,
     "metadata": {},
     "output_type": "execute_result"
    }
   ],
   "source": [
    "C"
   ]
  },
  {
   "cell_type": "code",
   "execution_count": 13,
   "id": "simple-maintenance",
   "metadata": {},
   "outputs": [
    {
     "name": "stdin",
     "output_type": "stream",
     "text": [
      " 3 4\n",
      " 3 4\n",
      " 2 3\n"
     ]
    },
    {
     "ename": "IndexError",
     "evalue": "list index out of range",
     "output_type": "error",
     "traceback": [
      "\u001b[1;31m---------------------------------------------------------------------------\u001b[0m",
      "\u001b[1;31mIndexError\u001b[0m                                Traceback (most recent call last)",
      "\u001b[1;32m<ipython-input-13-0740b04e76f1>\u001b[0m in \u001b[0;36m<module>\u001b[1;34m\u001b[0m\n\u001b[0;32m     25\u001b[0m     \u001b[1;32mif\u001b[0m \u001b[0mquery\u001b[0m\u001b[1;33m[\u001b[0m\u001b[1;36m0\u001b[0m\u001b[1;33m]\u001b[0m \u001b[1;33m==\u001b[0m \u001b[1;36m2\u001b[0m\u001b[1;33m:\u001b[0m\u001b[1;33m\u001b[0m\u001b[1;33m\u001b[0m\u001b[0m\n\u001b[0;32m     26\u001b[0m         \u001b[0mx\u001b[0m \u001b[1;33m=\u001b[0m \u001b[0mquery\u001b[0m\u001b[1;33m[\u001b[0m\u001b[1;36m1\u001b[0m\u001b[1;33m]\u001b[0m\u001b[1;33m\u001b[0m\u001b[1;33m\u001b[0m\u001b[0m\n\u001b[1;32m---> 27\u001b[1;33m         \u001b[0my\u001b[0m \u001b[1;33m=\u001b[0m \u001b[0mquery\u001b[0m\u001b[1;33m[\u001b[0m\u001b[1;36m2\u001b[0m\u001b[1;33m]\u001b[0m\u001b[1;33m\u001b[0m\u001b[1;33m\u001b[0m\u001b[0m\n\u001b[0m\u001b[0;32m     28\u001b[0m \u001b[1;33m\u001b[0m\u001b[0m\n\u001b[0;32m     29\u001b[0m         \u001b[1;31m# 頂点番号はすべて -1 する\u001b[0m\u001b[1;33m\u001b[0m\u001b[1;33m\u001b[0m\u001b[1;33m\u001b[0m\u001b[0m\n",
      "\u001b[1;31mIndexError\u001b[0m: list index out of range"
     ]
    }
   ],
   "source": [
    "for i in range(0, Q):\n",
    "    query = list(map(int, input().split()))\n",
    "    \n",
    "    # スプリンクラーを起動するクエリの場合\n",
    "    if query[0] == 1:\n",
    "        x = query[1]\n",
    "        \n",
    "        # 頂点番号はすべて -1 する\n",
    "        x -= 1\n",
    "        \n",
    "        # 頂点 x の色を出力する\n",
    "        print(C[x])\n",
    "        \n",
    "        # すべての頂点を順番に見る\n",
    "        for i in range(0, N):\n",
    "            \n",
    "            # 頂点 i が頂点 x に隣接しているとき、\n",
    "            # すなわち頂点 x と頂点 i の間に辺があるとき\n",
    "            if graph[x][i]:\n",
    "                \n",
    "                # 頂点 i の色を C[x] に書き換える\n",
    "                C[i] = C[x]\n",
    "                \n",
    "    # スプリンクラーを起動しないクエリの場合\n",
    "    if query[0] == 2:\n",
    "        x = query[1]\n",
    "        y = query[2]\n",
    "        \n",
    "        # 頂点番号はすべて -1 する\n",
    "        x -= 1\n",
    "        \n",
    "        # 頂点 x の色を出力する\n",
    "        print(C[x])\n",
    "        \n",
    "        # 頂点 x の色を y に書き換える\n",
    "        C[x] = y"
   ]
  },
  {
   "cell_type": "markdown",
   "id": "comparable-drunk",
   "metadata": {},
   "source": [
    "### まとめ"
   ]
  },
  {
   "cell_type": "code",
   "execution_count": 21,
   "id": "requested-helping",
   "metadata": {},
   "outputs": [
    {
     "name": "stdin",
     "output_type": "stream",
     "text": [
      " 3 2 3\n"
     ]
    }
   ],
   "source": [
    "N, M, Q = map(int, input().split())\n",
    "\n",
    "# False の N x N の2次元配列を作る\n",
    "graph = []\n",
    "for i in range(0, N):\n",
    "    \n",
    "    # 長さ N の False の1次元配列を作る\n",
    "    row = []\n",
    "    for j in range(0, N):\n",
    "        row.append(False)\n",
    "        \n",
    "    # 長さ N の False の1次元配列を graph に追加する\n",
    "    graph.append(row)"
   ]
  },
  {
   "cell_type": "code",
   "execution_count": 22,
   "id": "active-norman",
   "metadata": {},
   "outputs": [
    {
     "name": "stdin",
     "output_type": "stream",
     "text": [
      " 1 2\n",
      " 2 3\n"
     ]
    }
   ],
   "source": [
    "# M 本の辺を受け取る\n",
    "for i in range(0, M):\n",
    "    \n",
    "    u, v = map(int, input().split())\n",
    "    \n",
    "    # 頂点番号はすべて-1する\n",
    "    u -= 1\n",
    "    v -= 1\n",
    "    \n",
    "    # u と v の間には辺があるため True にする\n",
    "    graph[u][v] = True\n",
    "    graph[v][u] = True"
   ]
  },
  {
   "cell_type": "code",
   "execution_count": 23,
   "id": "indie-width",
   "metadata": {},
   "outputs": [
    {
     "name": "stdin",
     "output_type": "stream",
     "text": [
      " 5 10 15\n"
     ]
    }
   ],
   "source": [
    "# 頂点の色のリストを受け取る\n",
    "C = list(map(int, input().split()))"
   ]
  },
  {
   "cell_type": "code",
   "execution_count": 24,
   "id": "contrary-exhaust",
   "metadata": {},
   "outputs": [
    {
     "name": "stdin",
     "output_type": "stream",
     "text": [
      " 1 2\n",
      " 2 1 20\n"
     ]
    },
    {
     "name": "stdout",
     "output_type": "stream",
     "text": [
      "10\n"
     ]
    },
    {
     "name": "stdin",
     "output_type": "stream",
     "text": [
      " 1 1\n"
     ]
    }
   ],
   "source": [
    "# Q 個のクエリを受け取る\n",
    "for i in range(0, Q):\n",
    "    query = list(map(int, input().split()))\n",
    "    \n",
    "    # スプリンクラーを起動するクエリの場合\n",
    "    if query[0] == 1:\n",
    "        x = query[1]\n",
    "        \n",
    "        # 頂点番号はすべて -1 する\n",
    "        x -= 1\n",
    "        \n",
    "        # 全ての頂点を順番に見る\n",
    "        for i in range(0, N):\n",
    "            \n",
    "            # 頂点 i が頂点 x に隣接しているとき、\n",
    "            # すなわち頂点 x と 頂点 i の間に辺があるとき\n",
    "            if graph[x][i]:\n",
    "                \n",
    "                # 頂点 i の色を C[x] に置き換える\n",
    "                C[i] = C[x]\n",
    "                \n",
    "    # スプリンクラーを起動しないクエリの場合\n",
    "    if query[0] == 2:\n",
    "        x = query[1]\n",
    "        y = query[2]\n",
    "        \n",
    "        # 頂点番号はすべて -1 する\n",
    "        x -= 1\n",
    "        \n",
    "        # 頂点 x の色を出力する\n",
    "        print(C[x])\n",
    "        \n",
    "        # 頂点 x の色を y に書き換える\n",
    "        C[x] = y"
   ]
  },
  {
   "cell_type": "code",
   "execution_count": 25,
   "id": "innocent-elder",
   "metadata": {},
   "outputs": [
    {
     "name": "stdout",
     "output_type": "stream",
     "text": [
      "[20, 20, 10]\n"
     ]
    }
   ],
   "source": [
    "print(C)"
   ]
  },
  {
   "cell_type": "markdown",
   "id": "eligible-reward",
   "metadata": {},
   "source": [
    "### 隣接リストを使った解法"
   ]
  },
  {
   "cell_type": "code",
   "execution_count": 26,
   "id": "productive-chapel",
   "metadata": {},
   "outputs": [],
   "source": [
    "# False の N x N の 2次元配列を作る\n",
    "graph = []\n",
    "for i in range(0, N):\n",
    "    \n",
    "    # 長さ N の False の 1次元配列を作る\n",
    "    row = []\n",
    "    for j in range(0, N):\n",
    "        row.append(False)\n",
    "        \n",
    "    # 長さ N の False の 1次元配列を graph に追加する\n",
    "    graph.append(row)"
   ]
  },
  {
   "cell_type": "code",
   "execution_count": 28,
   "id": "worthy-aurora",
   "metadata": {},
   "outputs": [
    {
     "name": "stdin",
     "output_type": "stream",
     "text": [
      " 4 4\n"
     ]
    },
    {
     "ename": "IndexError",
     "evalue": "list index out of range",
     "output_type": "error",
     "traceback": [
      "\u001b[1;31m---------------------------------------------------------------------------\u001b[0m",
      "\u001b[1;31mIndexError\u001b[0m                                Traceback (most recent call last)",
      "\u001b[1;32m<ipython-input-28-c8077e1e0b1f>\u001b[0m in \u001b[0;36m<module>\u001b[1;34m\u001b[0m\n\u001b[0;32m      8\u001b[0m \u001b[1;33m\u001b[0m\u001b[0m\n\u001b[0;32m      9\u001b[0m     \u001b[1;31m# u と v の間には辺があるため True にする\u001b[0m\u001b[1;33m\u001b[0m\u001b[1;33m\u001b[0m\u001b[1;33m\u001b[0m\u001b[0m\n\u001b[1;32m---> 10\u001b[1;33m     \u001b[0mgraph\u001b[0m\u001b[1;33m[\u001b[0m\u001b[0mu\u001b[0m\u001b[1;33m]\u001b[0m\u001b[1;33m[\u001b[0m\u001b[0mv\u001b[0m\u001b[1;33m]\u001b[0m \u001b[1;33m=\u001b[0m \u001b[1;32mTrue\u001b[0m\u001b[1;33m\u001b[0m\u001b[1;33m\u001b[0m\u001b[0m\n\u001b[0m\u001b[0;32m     11\u001b[0m     \u001b[0mgraph\u001b[0m\u001b[1;33m[\u001b[0m\u001b[0mv\u001b[0m\u001b[1;33m]\u001b[0m\u001b[1;33m[\u001b[0m\u001b[0mu\u001b[0m\u001b[1;33m]\u001b[0m \u001b[1;33m=\u001b[0m \u001b[1;32mTrue\u001b[0m\u001b[1;33m\u001b[0m\u001b[1;33m\u001b[0m\u001b[0m\n",
      "\u001b[1;31mIndexError\u001b[0m: list index out of range"
     ]
    }
   ],
   "source": [
    "# M 本の辺を受け取る\n",
    "for i in range(0, M):\n",
    "    u, v = map(int, input().split())\n",
    "    \n",
    "    # 頂点番号はすべて -1 する\n",
    "    u -= 1\n",
    "    v -= 1\n",
    "    \n",
    "    # u と v の間には辺があるため True にする\n",
    "    graph[u][v] = True\n",
    "    graph[v][u] = True"
   ]
  },
  {
   "cell_type": "code",
   "execution_count": 29,
   "id": "individual-fairy",
   "metadata": {},
   "outputs": [
    {
     "name": "stdin",
     "output_type": "stream",
     "text": [
      " 1 2 3\n"
     ]
    },
    {
     "ename": "ValueError",
     "evalue": "too many values to unpack (expected 2)",
     "output_type": "error",
     "traceback": [
      "\u001b[1;31m---------------------------------------------------------------------------\u001b[0m",
      "\u001b[1;31mValueError\u001b[0m                                Traceback (most recent call last)",
      "\u001b[1;32m<ipython-input-29-d64b2b59301b>\u001b[0m in \u001b[0;36m<module>\u001b[1;34m\u001b[0m\n\u001b[0;32m      9\u001b[0m \u001b[1;31m# M 本の辺を受け取る\u001b[0m\u001b[1;33m\u001b[0m\u001b[1;33m\u001b[0m\u001b[1;33m\u001b[0m\u001b[0m\n\u001b[0;32m     10\u001b[0m \u001b[1;32mfor\u001b[0m \u001b[0mi\u001b[0m \u001b[1;32min\u001b[0m \u001b[0mrange\u001b[0m\u001b[1;33m(\u001b[0m\u001b[1;36m0\u001b[0m\u001b[1;33m,\u001b[0m \u001b[0mM\u001b[0m\u001b[1;33m)\u001b[0m\u001b[1;33m:\u001b[0m\u001b[1;33m\u001b[0m\u001b[1;33m\u001b[0m\u001b[0m\n\u001b[1;32m---> 11\u001b[1;33m     \u001b[0mu\u001b[0m\u001b[1;33m,\u001b[0m \u001b[0mv\u001b[0m \u001b[1;33m=\u001b[0m \u001b[0mmap\u001b[0m\u001b[1;33m(\u001b[0m\u001b[0mint\u001b[0m\u001b[1;33m,\u001b[0m \u001b[0minput\u001b[0m\u001b[1;33m(\u001b[0m\u001b[1;33m)\u001b[0m\u001b[1;33m.\u001b[0m\u001b[0msplit\u001b[0m\u001b[1;33m(\u001b[0m\u001b[1;33m)\u001b[0m\u001b[1;33m)\u001b[0m\u001b[1;33m\u001b[0m\u001b[1;33m\u001b[0m\u001b[0m\n\u001b[0m\u001b[0;32m     12\u001b[0m \u001b[1;33m\u001b[0m\u001b[0m\n\u001b[0;32m     13\u001b[0m     \u001b[1;31m# 頂点番号は全て -1 する\u001b[0m\u001b[1;33m\u001b[0m\u001b[1;33m\u001b[0m\u001b[1;33m\u001b[0m\u001b[0m\n",
      "\u001b[1;31mValueError\u001b[0m: too many values to unpack (expected 2)"
     ]
    }
   ],
   "source": [
    "# N x 0 の 2次元配列を作る\n",
    "graph = []\n",
    "\n",
    "for i in range(0, N):\n",
    "    # 長さ 0 の 1次元配列をつくる\n",
    "    row = []\n",
    "    graph.append(row)\n",
    "    \n",
    "# M 本の辺を受け取る\n",
    "for i in range(0, M):\n",
    "    u, v = map(int, input().split())\n",
    "    \n",
    "    # 頂点番号は全て -1 する\n",
    "    u -= 1\n",
    "    v -= 1\n",
    "    \n",
    "    # 頂点 u から v へ辺がある\n",
    "    graph[u].append(v)\n",
    "    \n",
    "    # 頂点 v から u へ辺がある\n",
    "    graph[v].append(u)"
   ]
  },
  {
   "cell_type": "code",
   "execution_count": 30,
   "id": "crazy-hunger",
   "metadata": {},
   "outputs": [],
   "source": [
    "for i in graph[x]:\n",
    "    C[i] = C[x]"
   ]
  },
  {
   "cell_type": "markdown",
   "id": "industrial-sending",
   "metadata": {},
   "source": [
    "### まとめ"
   ]
  },
  {
   "cell_type": "code",
   "execution_count": 31,
   "id": "dense-upper",
   "metadata": {},
   "outputs": [
    {
     "name": "stdin",
     "output_type": "stream",
     "text": [
      " 3 2 5\n"
     ]
    }
   ],
   "source": [
    "N, M, Q = map(int, input().split())\n",
    "\n",
    "# N x 0 の 2次元配列を作る\n",
    "graph = []"
   ]
  },
  {
   "cell_type": "code",
   "execution_count": 32,
   "id": "compound-chest",
   "metadata": {},
   "outputs": [],
   "source": [
    "for i in range(0, N):\n",
    "    # 長さ 0 の 1次元配列を作る\n",
    "    row = []\n",
    "    graph.append(row)"
   ]
  },
  {
   "cell_type": "code",
   "execution_count": 33,
   "id": "measured-timeline",
   "metadata": {},
   "outputs": [
    {
     "name": "stdin",
     "output_type": "stream",
     "text": [
      " 2 2\n",
      " 2 2\n"
     ]
    }
   ],
   "source": [
    "# M 本の辺を受け取る\n",
    "for i in range(0, M):\n",
    "    u, v = map(int, input().split())\n",
    "    \n",
    "    # 頂点番号は全て -1 する\n",
    "    u -= 1\n",
    "    v -= 1\n",
    "    \n",
    "    # 頂点 u から v へ辺がある\n",
    "    graph[u].append(v)\n",
    "    \n",
    "    # 頂点 v から u へ辺がある\n",
    "    graph[v].append(u)"
   ]
  },
  {
   "cell_type": "code",
   "execution_count": 34,
   "id": "separate-reach",
   "metadata": {},
   "outputs": [
    {
     "name": "stdin",
     "output_type": "stream",
     "text": [
      " 3\n"
     ]
    }
   ],
   "source": [
    "# 頂点の色のリストを受け取る\n",
    "C = list(map(int, input().split()))"
   ]
  },
  {
   "cell_type": "code",
   "execution_count": 35,
   "id": "vital-operation",
   "metadata": {},
   "outputs": [
    {
     "data": {
      "text/plain": [
       "[3]"
      ]
     },
     "execution_count": 35,
     "metadata": {},
     "output_type": "execute_result"
    }
   ],
   "source": [
    "C"
   ]
  },
  {
   "cell_type": "code",
   "execution_count": 36,
   "id": "accessory-length",
   "metadata": {},
   "outputs": [
    {
     "name": "stdin",
     "output_type": "stream",
     "text": [
      " 3 4\n",
      " 3 4\n",
      " 3 4\n",
      " 3 4\n",
      " 3 4\n"
     ]
    }
   ],
   "source": [
    "# Q 個のクエリを受け取る\n",
    "for i in range(0, Q):\n",
    "    query = list(map(int, input().split()))\n",
    "    \n",
    "    # スプリンクラーを起動するクエリの場合\n",
    "    if query[0] == 1:\n",
    "        x = query[1]\n",
    "        \n",
    "        # 頂点番号は全て-1する\n",
    "        x -= 1\n",
    "        \n",
    "        # 頂点 x の色を出力する\n",
    "        print(C[x])\n",
    "        \n",
    "        # 頂点 x に隣接する頂点の色を頂点 x と同じ色にする\n",
    "        for i in graph[x]:\n",
    "            C[i] = C[x]\n",
    "            \n",
    "    # スプリンクラーを起動しないクエリの場合\n",
    "    if query[0] == 2:\n",
    "        x = query[1]\n",
    "        y = query[2]\n",
    "        \n",
    "        # 頂点番号はすべて-1する\n",
    "        x -= 1\n",
    "        \n",
    "        # 頂点 x の色を出力する\n",
    "        print(C[x])\n",
    "        \n",
    "        # 頂点 x の色を y に書き換える\n",
    "        C[x] = y"
   ]
  },
  {
   "cell_type": "code",
   "execution_count": null,
   "id": "heard-disease",
   "metadata": {},
   "outputs": [],
   "source": []
  }
 ],
 "metadata": {
  "kernelspec": {
   "display_name": "Python 3",
   "language": "python",
   "name": "python3"
  },
  "language_info": {
   "codemirror_mode": {
    "name": "ipython",
    "version": 3
   },
   "file_extension": ".py",
   "mimetype": "text/x-python",
   "name": "python",
   "nbconvert_exporter": "python",
   "pygments_lexer": "ipython3",
   "version": "3.8.5"
  }
 },
 "nbformat": 4,
 "nbformat_minor": 5
}
