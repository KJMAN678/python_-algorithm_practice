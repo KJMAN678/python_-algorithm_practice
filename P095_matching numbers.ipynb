{
 "cells": [
  {
   "cell_type": "markdown",
   "id": "embedded-estate",
   "metadata": {},
   "source": [
    "### 数学を使った解法"
   ]
  },
  {
   "cell_type": "code",
   "execution_count": null,
   "id": "composed-tours",
   "metadata": {},
   "outputs": [],
   "source": [
    "import math"
   ]
  },
  {
   "cell_type": "code",
   "execution_count": 2,
   "id": "extended-hunter",
   "metadata": {},
   "outputs": [
    {
     "name": "stdin",
     "output_type": "stream",
     "text": [
      " 15\n"
     ]
    }
   ],
   "source": [
    "N = int(input())"
   ]
  },
  {
   "cell_type": "code",
   "execution_count": 3,
   "id": "refined-legend",
   "metadata": {},
   "outputs": [],
   "source": [
    "# N番目のゾロ目数の行数\n",
    "x = math.ceil(N / 9)"
   ]
  },
  {
   "cell_type": "code",
   "execution_count": 4,
   "id": "democratic-newport",
   "metadata": {},
   "outputs": [],
   "source": [
    "# N番目のゾロ数の数字\n",
    "y = N % 9"
   ]
  },
  {
   "cell_type": "code",
   "execution_count": 5,
   "id": "advanced-extreme",
   "metadata": {},
   "outputs": [],
   "source": [
    "if y == 0:\n",
    "    y = 9"
   ]
  },
  {
   "cell_type": "code",
   "execution_count": 6,
   "id": "spiritual-surgeon",
   "metadata": {},
   "outputs": [],
   "source": [
    "# 答えの文字列\n",
    "ans = \"\""
   ]
  },
  {
   "cell_type": "code",
   "execution_count": 7,
   "id": "dominant-engine",
   "metadata": {},
   "outputs": [],
   "source": [
    "# 答えは y が x 桁並んだものとなる\n",
    "for _ in range(0, x):\n",
    "    ans += str(y)"
   ]
  },
  {
   "cell_type": "code",
   "execution_count": 8,
   "id": "piano-appraisal",
   "metadata": {},
   "outputs": [
    {
     "name": "stdout",
     "output_type": "stream",
     "text": [
      "66\n"
     ]
    }
   ],
   "source": [
    "print(ans)"
   ]
  },
  {
   "cell_type": "markdown",
   "id": "furnished-belize",
   "metadata": {},
   "source": [
    "### 全探索を使った解法"
   ]
  },
  {
   "cell_type": "code",
   "execution_count": 13,
   "id": "interesting-dover",
   "metadata": {},
   "outputs": [],
   "source": [
    "import time"
   ]
  },
  {
   "cell_type": "code",
   "execution_count": 18,
   "id": "national-flooring",
   "metadata": {},
   "outputs": [
    {
     "name": "stdin",
     "output_type": "stream",
     "text": [
      " 40\n"
     ]
    },
    {
     "name": "stdout",
     "output_type": "stream",
     "text": [
      "44444\n",
      "0.05\n"
     ]
    }
   ],
   "source": [
    "N = int(input())\n",
    "\n",
    "start = time.time()\n",
    "\n",
    "# 今まで出てきたゾロ目数の数\n",
    "count = 0\n",
    "\n",
    "# 1 から 555555 までの整数をすべて調べる。\n",
    "for i in range(1, 555555 + 1):\n",
    "    \n",
    "    # i がゾロ目数かどうか調べるために、iを文字列にした si を作る\n",
    "    si = str(i)\n",
    "    \n",
    "    # i がゾロ目数だったかどうかを保存する変数\n",
    "    judge = True\n",
    "    \n",
    "    # si のすべての文字が si の 0文字目と同じかどうかを調べる\n",
    "    # si の 0 文字目と同じ文字が含まれていたら、i はゾロ目ではない\n",
    "    for s in si:\n",
    "        if s != si[0]:\n",
    "            judge = False\n",
    "            \n",
    "    # i がゾロ目数の時、出てきたゾロ目数の数を1増やす\n",
    "    if judge:\n",
    "        count += 1\n",
    "        \n",
    "    # i がゾロ目で、N番目に出てきたゾロ目数なら、答えとして保存する\n",
    "    if judge and count == N:\n",
    "        ans = i\n",
    "        break\n",
    "        \n",
    "print(ans)\n",
    "\n",
    "print(round(time.time() - start, 2))"
   ]
  },
  {
   "cell_type": "code",
   "execution_count": null,
   "id": "palestinian-contribution",
   "metadata": {},
   "outputs": [],
   "source": []
  }
 ],
 "metadata": {
  "kernelspec": {
   "display_name": "Python 3",
   "language": "python",
   "name": "python3"
  },
  "language_info": {
   "codemirror_mode": {
    "name": "ipython",
    "version": 3
   },
   "file_extension": ".py",
   "mimetype": "text/x-python",
   "name": "python",
   "nbconvert_exporter": "python",
   "pygments_lexer": "ipython3",
   "version": "3.8.5"
  }
 },
 "nbformat": 4,
 "nbformat_minor": 5
}
