{
 "cells": [
  {
   "cell_type": "code",
   "execution_count": 1,
   "id": "subjective-january",
   "metadata": {},
   "outputs": [],
   "source": [
    "# N 街の数\n",
    "# M 道の数\n",
    "# 道i は 街ui から街vi への一方通行の道\n",
    "# 街 0 から 街 N-1 まで移動する時の必要な最小時間を求める"
   ]
  },
  {
   "cell_type": "code",
   "execution_count": 3,
   "id": "genuine-disorder",
   "metadata": {},
   "outputs": [],
   "source": [
    "import heapq"
   ]
  },
  {
   "cell_type": "code",
   "execution_count": 4,
   "id": "wanted-upgrade",
   "metadata": {},
   "outputs": [
    {
     "name": "stdin",
     "output_type": "stream",
     "text": [
      " 3 4\n"
     ]
    }
   ],
   "source": [
    "N, M = map(int, input().split())"
   ]
  },
  {
   "cell_type": "code",
   "execution_count": 5,
   "id": "abstract-battle",
   "metadata": {},
   "outputs": [],
   "source": [
    "# 隣接リストとしてグラフを作る\n",
    "G = []"
   ]
  },
  {
   "cell_type": "code",
   "execution_count": 6,
   "id": "martial-health",
   "metadata": {},
   "outputs": [],
   "source": [
    "for _ in range(0, N):\n",
    "    G.append([])"
   ]
  },
  {
   "cell_type": "code",
   "execution_count": 7,
   "id": "major-arctic",
   "metadata": {},
   "outputs": [
    {
     "data": {
      "text/plain": [
       "[[], [], []]"
      ]
     },
     "execution_count": 7,
     "metadata": {},
     "output_type": "execute_result"
    }
   ],
   "source": [
    "G"
   ]
  },
  {
   "cell_type": "code",
   "execution_count": 8,
   "id": "handed-courtesy",
   "metadata": {},
   "outputs": [
    {
     "name": "stdin",
     "output_type": "stream",
     "text": [
      " 0 1 1\n",
      " 1 0 2\n",
      " 1 2 3\n",
      " 2 0 4\n"
     ]
    }
   ],
   "source": [
    "for _ in range(0, M):\n",
    "    u, v, c = map(int, input().split())\n",
    "    \n",
    "    # u から v へと、重み c の辺が貼られているため\n",
    "    # 行き先の v だけでなく、重みの c も入れておく\n",
    "    G[u].append((v, c))"
   ]
  },
  {
   "cell_type": "code",
   "execution_count": 9,
   "id": "talented-mechanism",
   "metadata": {},
   "outputs": [
    {
     "data": {
      "text/plain": [
       "[[(1, 1)], [(0, 2), (2, 3)], [(0, 4)]]"
      ]
     },
     "execution_count": 9,
     "metadata": {},
     "output_type": "execute_result"
    }
   ],
   "source": [
    "G"
   ]
  },
  {
   "cell_type": "code",
   "execution_count": 10,
   "id": "engaging-professional",
   "metadata": {},
   "outputs": [],
   "source": [
    "# 頂点 0 から 各頂点への最短距離を保持する\n",
    "# N 個の -1 で満たしておく(-1 の場合は未訪問であることを表す)\n",
    "dist = []"
   ]
  },
  {
   "cell_type": "code",
   "execution_count": 11,
   "id": "civilian-geometry",
   "metadata": {},
   "outputs": [],
   "source": [
    "for _ in range(0, N):\n",
    "    dist.append(-1)"
   ]
  },
  {
   "cell_type": "code",
   "execution_count": 12,
   "id": "gentle-exclusive",
   "metadata": {},
   "outputs": [
    {
     "data": {
      "text/plain": [
       "[-1, -1, -1]"
      ]
     },
     "execution_count": 12,
     "metadata": {},
     "output_type": "execute_result"
    }
   ],
   "source": [
    "dist"
   ]
  },
  {
   "cell_type": "code",
   "execution_count": 13,
   "id": "complex-asbestos",
   "metadata": {},
   "outputs": [],
   "source": [
    "# ダイクストラ法で使うヒープ\n",
    "Q = []"
   ]
  },
  {
   "cell_type": "code",
   "execution_count": 14,
   "id": "protective-specification",
   "metadata": {},
   "outputs": [],
   "source": [
    "# 始点となる頂点 0 をヒープに追加しておく\n",
    "# （距離、頂点）として追加する\n",
    "heapq.heappush(Q, (0, 0))"
   ]
  },
  {
   "cell_type": "code",
   "execution_count": 15,
   "id": "hollywood-america",
   "metadata": {},
   "outputs": [
    {
     "data": {
      "text/plain": [
       "[(0, 0)]"
      ]
     },
     "execution_count": 15,
     "metadata": {},
     "output_type": "execute_result"
    }
   ],
   "source": [
    "Q"
   ]
  },
  {
   "cell_type": "code",
   "execution_count": 16,
   "id": "vital-portfolio",
   "metadata": {},
   "outputs": [],
   "source": [
    "# 始点となる頂点 0 への最短距離は 0 とする\n",
    "dist[0] = 0"
   ]
  },
  {
   "cell_type": "code",
   "execution_count": 17,
   "id": "reliable-breeding",
   "metadata": {},
   "outputs": [],
   "source": [
    "# ヒープから取り出したことがあるかを保存する配列\n",
    "# 最初は N 個のFalseで埋めておく\n",
    "done = []"
   ]
  },
  {
   "cell_type": "code",
   "execution_count": 18,
   "id": "covered-definition",
   "metadata": {},
   "outputs": [],
   "source": [
    "for _ in range(0, N):\n",
    "    done.append(False)"
   ]
  },
  {
   "cell_type": "code",
   "execution_count": 19,
   "id": "urban-system",
   "metadata": {},
   "outputs": [
    {
     "data": {
      "text/plain": [
       "[False, False, False]"
      ]
     },
     "execution_count": 19,
     "metadata": {},
     "output_type": "execute_result"
    }
   ],
   "source": [
    "done"
   ]
  },
  {
   "cell_type": "code",
   "execution_count": 20,
   "id": "thirty-wright",
   "metadata": {},
   "outputs": [],
   "source": [
    "# ダイクストラ法で各頂点への最短距離を求める\n",
    "while len(Q) > 0:\n",
    "    \n",
    "    # ヒープの先頭の頂点を取り出して i とする\n",
    "    d, i = heapq.heappop(Q)\n",
    "    \n",
    "    # もし前にヒープから取り出したことがあれば、\n",
    "    # 隣接する頂点を調べるのをスキップする\n",
    "    if done[i]:\n",
    "        continue\n",
    "        \n",
    "    # ヒープから頂点 i を取り出したことを記録する\n",
    "    done[i] = True\n",
    "    \n",
    "    # 頂点 i に隣接する頂点を順番に見る\n",
    "    # 見ていた頂点を j とする\n",
    "    # また、i から j へ移動するときに使う辺の重みを c とする\n",
    "    for (j, c) in G[i]:\n",
    "        \n",
    "        # j が未訪問だったとき、あるいは j への最短距離が更新可能だったとき、\n",
    "        # j への最短距離を更新して、ヒープの末尾に追加する\n",
    "        if dist[j] == -1 or dist[j] > dist[i] + c:\n",
    "            dist[j] = dist[i] + c\n",
    "            heapq.heappush(Q, (dist[j], j))"
   ]
  },
  {
   "cell_type": "code",
   "execution_count": 21,
   "id": "opening-string",
   "metadata": {},
   "outputs": [
    {
     "name": "stdout",
     "output_type": "stream",
     "text": [
      "4\n"
     ]
    }
   ],
   "source": [
    "print(dist[N - 1])"
   ]
  },
  {
   "cell_type": "code",
   "execution_count": null,
   "id": "harmful-machinery",
   "metadata": {},
   "outputs": [],
   "source": []
  }
 ],
 "metadata": {
  "kernelspec": {
   "display_name": "Python 3",
   "language": "python",
   "name": "python3"
  },
  "language_info": {
   "codemirror_mode": {
    "name": "ipython",
    "version": 3
   },
   "file_extension": ".py",
   "mimetype": "text/x-python",
   "name": "python",
   "nbconvert_exporter": "python",
   "pygments_lexer": "ipython3",
   "version": "3.8.5"
  }
 },
 "nbformat": 4,
 "nbformat_minor": 5
}
