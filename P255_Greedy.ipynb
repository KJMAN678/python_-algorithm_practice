{
 "cells": [
  {
   "cell_type": "code",
   "execution_count": 1,
   "id": "positive-couple",
   "metadata": {},
   "outputs": [],
   "source": [
    "# N タスクの数\n",
    "# 1日ごとにタスクを選んで消化する"
   ]
  },
  {
   "cell_type": "code",
   "execution_count": 13,
   "id": "blank-pasta",
   "metadata": {},
   "outputs": [
    {
     "name": "stdin",
     "output_type": "stream",
     "text": [
      " 3\n"
     ]
    }
   ],
   "source": [
    "N = int(input())"
   ]
  },
  {
   "cell_type": "code",
   "execution_count": 14,
   "id": "comparative-panic",
   "metadata": {},
   "outputs": [],
   "source": [
    "# X[d]: d日目から実行可能になるタスクのポイントを集めた配列\n",
    "X = []"
   ]
  },
  {
   "cell_type": "code",
   "execution_count": 15,
   "id": "active-marina",
   "metadata": {},
   "outputs": [],
   "source": [
    "for i in range(N):\n",
    "    X.append([])"
   ]
  },
  {
   "cell_type": "code",
   "execution_count": 16,
   "id": "pressed-constitution",
   "metadata": {},
   "outputs": [
    {
     "data": {
      "text/plain": [
       "[[], [], []]"
      ]
     },
     "execution_count": 16,
     "metadata": {},
     "output_type": "execute_result"
    }
   ],
   "source": [
    "X"
   ]
  },
  {
   "cell_type": "code",
   "execution_count": 22,
   "id": "charged-serial",
   "metadata": {},
   "outputs": [
    {
     "name": "stdin",
     "output_type": "stream",
     "text": [
      " 1 3\n",
      " 2 2\n",
      " 2 4\n"
     ]
    }
   ],
   "source": [
    "for i in range(N):\n",
    "    a, b = list(map(int, input().split()))\n",
    "    # print(a)\n",
    "    # print(b)\n",
    "    X[a-1].append(b)"
   ]
  },
  {
   "cell_type": "code",
   "execution_count": 23,
   "id": "virtual-glasgow",
   "metadata": {},
   "outputs": [
    {
     "data": {
      "text/plain": [
       "[[3], [2, 4], []]"
      ]
     },
     "execution_count": 23,
     "metadata": {},
     "output_type": "execute_result"
    }
   ],
   "source": [
    "X"
   ]
  },
  {
   "cell_type": "code",
   "execution_count": 27,
   "id": "dependent-chart",
   "metadata": {},
   "outputs": [],
   "source": [
    "cnt = [0]*101"
   ]
  },
  {
   "cell_type": "code",
   "execution_count": 28,
   "id": "early-lawsuit",
   "metadata": {},
   "outputs": [],
   "source": [
    "ans = 0"
   ]
  },
  {
   "cell_type": "code",
   "execution_count": 29,
   "id": "guided-ghana",
   "metadata": {},
   "outputs": [
    {
     "name": "stdout",
     "output_type": "stream",
     "text": [
      "1\n",
      "3\n",
      "1\n",
      "1\n",
      "7\n",
      "9\n"
     ]
    }
   ],
   "source": [
    "for d in range(N):\n",
    "    # d日目から実行可能になるタスクを cnt に追加する\n",
    "    for b in X[d]:\n",
    "        cnt[b] += 1\n",
    "        \n",
    "    # nt[b] > 0 である最大の b を探して加算する\n",
    "    for b in range(100, 0, -1):\n",
    "        if cnt[b] > 0:\n",
    "            ans += b\n",
    "            cnt[b] -= 1\n",
    "            break\n",
    "    print(ans)"
   ]
  },
  {
   "cell_type": "code",
   "execution_count": null,
   "id": "korean-paragraph",
   "metadata": {},
   "outputs": [],
   "source": []
  }
 ],
 "metadata": {
  "kernelspec": {
   "display_name": "Python 3",
   "language": "python",
   "name": "python3"
  },
  "language_info": {
   "codemirror_mode": {
    "name": "ipython",
    "version": 3
   },
   "file_extension": ".py",
   "mimetype": "text/x-python",
   "name": "python",
   "nbconvert_exporter": "python",
   "pygments_lexer": "ipython3",
   "version": "3.8.5"
  }
 },
 "nbformat": 4,
 "nbformat_minor": 5
}
