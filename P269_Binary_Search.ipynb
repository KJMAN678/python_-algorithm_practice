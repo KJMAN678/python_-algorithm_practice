{
 "cells": [
  {
   "cell_type": "code",
   "execution_count": 1,
   "id": "engaging-modern",
   "metadata": {},
   "outputs": [],
   "source": [
    "# 長さ N の整数列 A0, A1, ... An-1\n",
    "# K 整数。　Ai>=Kとなるようなインデックス i のうち最小のものを出力\n",
    "# なければ -1 を出力"
   ]
  },
  {
   "cell_type": "code",
   "execution_count": 3,
   "id": "little-employment",
   "metadata": {},
   "outputs": [
    {
     "name": "stdin",
     "output_type": "stream",
     "text": [
      " 8 4\n"
     ]
    }
   ],
   "source": [
    "N, K = list(map(int, input().split()))"
   ]
  },
  {
   "cell_type": "code",
   "execution_count": 4,
   "id": "public-coffee",
   "metadata": {},
   "outputs": [
    {
     "name": "stdin",
     "output_type": "stream",
     "text": [
      " 1 3 5 7 9 11 13 15\n"
     ]
    }
   ],
   "source": [
    "A = list(map(int, input().split()))"
   ]
  },
  {
   "cell_type": "code",
   "execution_count": 5,
   "id": "million-document",
   "metadata": {},
   "outputs": [],
   "source": [
    "ok = N"
   ]
  },
  {
   "cell_type": "code",
   "execution_count": 6,
   "id": "needed-nothing",
   "metadata": {},
   "outputs": [],
   "source": [
    "ng = -1"
   ]
  },
  {
   "cell_type": "code",
   "execution_count": 7,
   "id": "agreed-sigma",
   "metadata": {},
   "outputs": [],
   "source": [
    "while abs(ok - ng) > 1:\n",
    "    mid = (ok+ng) // 2\n",
    "    if A[mid] >= K:\n",
    "        ok = mid\n",
    "    else:\n",
    "        ng = mid"
   ]
  },
  {
   "cell_type": "code",
   "execution_count": 8,
   "id": "illegal-oxygen",
   "metadata": {},
   "outputs": [
    {
     "name": "stdout",
     "output_type": "stream",
     "text": [
      "2\n"
     ]
    }
   ],
   "source": [
    "# 条件を満たす要素が存在しない場合は ok が初期値のままとなるため、 -1 を出力\n",
    "if ok == N:\n",
    "    print(-1)\n",
    "else:\n",
    "    print(ok)"
   ]
  },
  {
   "cell_type": "markdown",
   "id": "attractive-transparency",
   "metadata": {},
   "source": [
    "### bisect"
   ]
  },
  {
   "cell_type": "code",
   "execution_count": 1,
   "id": "associate-venue",
   "metadata": {},
   "outputs": [],
   "source": [
    "import bisect"
   ]
  },
  {
   "cell_type": "code",
   "execution_count": 2,
   "id": "cognitive-popularity",
   "metadata": {},
   "outputs": [
    {
     "name": "stdin",
     "output_type": "stream",
     "text": [
      " 8 4\n"
     ]
    }
   ],
   "source": [
    "N, K = list(map(int, input().split()))"
   ]
  },
  {
   "cell_type": "code",
   "execution_count": 3,
   "id": "floating-quarter",
   "metadata": {},
   "outputs": [
    {
     "name": "stdin",
     "output_type": "stream",
     "text": [
      " 1 3 5 7 9 11 13 15\n"
     ]
    }
   ],
   "source": [
    "A = list(map(int, input().split()))"
   ]
  },
  {
   "cell_type": "code",
   "execution_count": 5,
   "id": "mysterious-level",
   "metadata": {},
   "outputs": [],
   "source": [
    "ok = bisect.bisect_left(A, K)"
   ]
  },
  {
   "cell_type": "code",
   "execution_count": 6,
   "id": "drawn-cache",
   "metadata": {},
   "outputs": [
    {
     "data": {
      "text/plain": [
       "2"
      ]
     },
     "execution_count": 6,
     "metadata": {},
     "output_type": "execute_result"
    }
   ],
   "source": [
    "ok"
   ]
  },
  {
   "cell_type": "code",
   "execution_count": 7,
   "id": "imported-democracy",
   "metadata": {},
   "outputs": [
    {
     "name": "stdout",
     "output_type": "stream",
     "text": [
      "2\n"
     ]
    }
   ],
   "source": [
    "if ok == N:\n",
    "    print(-1)\n",
    "else:\n",
    "    print(ok)"
   ]
  },
  {
   "cell_type": "code",
   "execution_count": null,
   "id": "fewer-caribbean",
   "metadata": {},
   "outputs": [],
   "source": []
  }
 ],
 "metadata": {
  "kernelspec": {
   "display_name": "Python 3",
   "language": "python",
   "name": "python3"
  },
  "language_info": {
   "codemirror_mode": {
    "name": "ipython",
    "version": 3
   },
   "file_extension": ".py",
   "mimetype": "text/x-python",
   "name": "python",
   "nbconvert_exporter": "python",
   "pygments_lexer": "ipython3",
   "version": "3.8.5"
  }
 },
 "nbformat": 4,
 "nbformat_minor": 5
}
