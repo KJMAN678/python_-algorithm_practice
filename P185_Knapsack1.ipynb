{
 "cells": [
  {
   "cell_type": "code",
   "execution_count": 3,
   "id": "adequate-baker",
   "metadata": {},
   "outputs": [
    {
     "name": "stdin",
     "output_type": "stream",
     "text": [
      " 5 10\n"
     ]
    }
   ],
   "source": [
    "# N 品物の個数、W ナップサックの容量\n",
    "N, W = list(map(int, input().split()))"
   ]
  },
  {
   "cell_type": "code",
   "execution_count": 6,
   "id": "mediterranean-essay",
   "metadata": {},
   "outputs": [],
   "source": [
    "# 1 始まりにするために先頭にダミーを入れる\n",
    "ws = [0]"
   ]
  },
  {
   "cell_type": "code",
   "execution_count": 8,
   "id": "removed-decimal",
   "metadata": {},
   "outputs": [],
   "source": [
    "vs = [0]"
   ]
  },
  {
   "cell_type": "code",
   "execution_count": 10,
   "id": "living-underground",
   "metadata": {},
   "outputs": [
    {
     "name": "stdin",
     "output_type": "stream",
     "text": [
      " 1 3\n",
      " 2 4\n",
      " 1 5\n",
      " 2 4\n",
      " 2 3\n"
     ]
    }
   ],
   "source": [
    "for i in range(N):\n",
    "    w, v = list(map(int, input().split()))\n",
    "    ws.append(w)\n",
    "    vs.append(v)"
   ]
  },
  {
   "cell_type": "code",
   "execution_count": 15,
   "id": "surgical-occurrence",
   "metadata": {},
   "outputs": [
    {
     "name": "stdout",
     "output_type": "stream",
     "text": [
      "[0, 1, 2, 1, 2, 2]\n",
      "[0, 3, 4, 5, 4, 3]\n"
     ]
    }
   ],
   "source": [
    "print(ws)\n",
    "print(vs)"
   ]
  },
  {
   "cell_type": "code",
   "execution_count": 16,
   "id": "encouraging-meeting",
   "metadata": {},
   "outputs": [],
   "source": [
    "# value[i][w]: 品物 i まで見て重さ合計 w であるときの価値の総和の最大値\n",
    "# 非常に小さい値で初期化しておく\n",
    "value = []\n",
    "for i in range(N+1):\n",
    "    value.append([-10*10] * (W+1))"
   ]
  },
  {
   "cell_type": "code",
   "execution_count": 17,
   "id": "animated-finish",
   "metadata": {},
   "outputs": [],
   "source": [
    "# 初期条件\n",
    "value[0][0] = 0"
   ]
  },
  {
   "cell_type": "code",
   "execution_count": 18,
   "id": "embedded-aside",
   "metadata": {},
   "outputs": [],
   "source": [
    "# i が小さい順に求めていく\n",
    "for i in range(1, N+1):\n",
    "    for w in range(W+1):\n",
    "        # 品物 i を使わない場合\n",
    "        value[i][w] = max(value[i][w], value[i-1][w])\n",
    "        \n",
    "        # 品物 i を使う場合\n",
    "        if w-ws[i] >= 0:\n",
    "            value[i][w] = max(value[i][w], value[i-1][w-ws[i]] + vs[i])"
   ]
  },
  {
   "cell_type": "code",
   "execution_count": 19,
   "id": "alleged-complement",
   "metadata": {},
   "outputs": [
    {
     "data": {
      "text/plain": [
       "[[0, -100, -100, -100, -100, -100, -100, -100, -100, -100, -100],\n",
       " [0, 3, -97, -97, -97, -97, -97, -97, -97, -97, -97],\n",
       " [0, 3, 4, 7, -93, -93, -93, -93, -93, -93, -93],\n",
       " [0, 5, 8, 9, 12, -88, -88, -88, -88, -88, -88],\n",
       " [0, 5, 8, 9, 12, 13, 16, -84, -84, -84, -84],\n",
       " [0, 5, 8, 9, 12, 13, 16, 16, 19, -81, -81]]"
      ]
     },
     "execution_count": 19,
     "metadata": {},
     "output_type": "execute_result"
    }
   ],
   "source": [
    "value"
   ]
  },
  {
   "cell_type": "code",
   "execution_count": 20,
   "id": "electoral-upgrade",
   "metadata": {},
   "outputs": [],
   "source": [
    "# value[N][0], ..., value[N][W] の中で一番価値の総和が大きいものを答えとする\n",
    "ans = max(value[N])"
   ]
  },
  {
   "cell_type": "code",
   "execution_count": 21,
   "id": "promising-yield",
   "metadata": {},
   "outputs": [
    {
     "name": "stdout",
     "output_type": "stream",
     "text": [
      "19\n"
     ]
    }
   ],
   "source": [
    "print(ans)"
   ]
  },
  {
   "cell_type": "code",
   "execution_count": null,
   "id": "sealed-coordinator",
   "metadata": {},
   "outputs": [],
   "source": []
  }
 ],
 "metadata": {
  "kernelspec": {
   "display_name": "Python 3",
   "language": "python",
   "name": "python3"
  },
  "language_info": {
   "codemirror_mode": {
    "name": "ipython",
    "version": 3
   },
   "file_extension": ".py",
   "mimetype": "text/x-python",
   "name": "python",
   "nbconvert_exporter": "python",
   "pygments_lexer": "ipython3",
   "version": "3.8.5"
  }
 },
 "nbformat": 4,
 "nbformat_minor": 5
}
