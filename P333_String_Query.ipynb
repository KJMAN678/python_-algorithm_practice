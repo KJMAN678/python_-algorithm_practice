{
 "cells": [
  {
   "cell_type": "code",
   "execution_count": 1,
   "id": "parliamentary-guest",
   "metadata": {},
   "outputs": [],
   "source": [
    "# S 文字列\n",
    "# Q 操作の回数\n",
    "# クエリ１　英小文字 C1 と 整数 X1 が与えられる。Sの末尾にCiをX1文字追加\n",
    "# クエリ２　整数Dが与えられる。Sの先頭からD文字削除する"
   ]
  },
  {
   "cell_type": "code",
   "execution_count": 2,
   "id": "hungry-chicago",
   "metadata": {},
   "outputs": [],
   "source": [
    "# キューを使うために読み込む\n",
    "from collections import deque"
   ]
  },
  {
   "cell_type": "code",
   "execution_count": 3,
   "id": "marine-chapter",
   "metadata": {},
   "outputs": [],
   "source": [
    "# 英小文字一覧を読み込む\n",
    "from string import ascii_lowercase"
   ]
  },
  {
   "cell_type": "code",
   "execution_count": 4,
   "id": "distant-louisiana",
   "metadata": {},
   "outputs": [
    {
     "name": "stdin",
     "output_type": "stream",
     "text": [
      " 9\n"
     ]
    }
   ],
   "source": [
    "Q = int(input())"
   ]
  },
  {
   "cell_type": "code",
   "execution_count": 5,
   "id": "southwest-princeton",
   "metadata": {},
   "outputs": [],
   "source": [
    "que = deque()"
   ]
  },
  {
   "cell_type": "code",
   "execution_count": 6,
   "id": "digital-brand",
   "metadata": {},
   "outputs": [
    {
     "name": "stdin",
     "output_type": "stream",
     "text": [
      " 1 a 5\n",
      " 2 3\n"
     ]
    },
    {
     "name": "stdout",
     "output_type": "stream",
     "text": [
      "9\n"
     ]
    },
    {
     "name": "stdin",
     "output_type": "stream",
     "text": [
      " 1 t 8\n",
      " 1 c 10\n",
      " 2 21\n"
     ]
    },
    {
     "name": "stdout",
     "output_type": "stream",
     "text": [
      "168\n"
     ]
    },
    {
     "name": "stdin",
     "output_type": "stream",
     "text": [
      " 2 4\n"
     ]
    },
    {
     "name": "stdout",
     "output_type": "stream",
     "text": [
      "0\n"
     ]
    },
    {
     "name": "stdin",
     "output_type": "stream",
     "text": [
      " \n"
     ]
    },
    {
     "ename": "IndexError",
     "evalue": "list index out of range",
     "output_type": "error",
     "traceback": [
      "\u001b[1;31m---------------------------------------------------------------------------\u001b[0m",
      "\u001b[1;31mIndexError\u001b[0m                                Traceback (most recent call last)",
      "\u001b[1;32m<ipython-input-6-9d532be74473>\u001b[0m in \u001b[0;36m<module>\u001b[1;34m\u001b[0m\n\u001b[0;32m      2\u001b[0m     \u001b[1;31m# 文字と数字が混ざっているため、いったん文字列で受ける\u001b[0m\u001b[1;33m\u001b[0m\u001b[1;33m\u001b[0m\u001b[1;33m\u001b[0m\u001b[0m\n\u001b[0;32m      3\u001b[0m     \u001b[0mvalues\u001b[0m \u001b[1;33m=\u001b[0m \u001b[0minput\u001b[0m\u001b[1;33m(\u001b[0m\u001b[1;33m)\u001b[0m\u001b[1;33m.\u001b[0m\u001b[0msplit\u001b[0m\u001b[1;33m(\u001b[0m\u001b[1;33m)\u001b[0m\u001b[1;33m\u001b[0m\u001b[1;33m\u001b[0m\u001b[0m\n\u001b[1;32m----> 4\u001b[1;33m     \u001b[1;32mif\u001b[0m \u001b[0mvalues\u001b[0m\u001b[1;33m[\u001b[0m\u001b[1;36m0\u001b[0m\u001b[1;33m]\u001b[0m \u001b[1;33m==\u001b[0m \u001b[1;34m\"1\"\u001b[0m\u001b[1;33m:\u001b[0m\u001b[1;33m\u001b[0m\u001b[1;33m\u001b[0m\u001b[0m\n\u001b[0m\u001b[0;32m      5\u001b[0m         \u001b[1;31m# クエリ１の処理\u001b[0m\u001b[1;33m\u001b[0m\u001b[1;33m\u001b[0m\u001b[1;33m\u001b[0m\u001b[0m\n\u001b[0;32m      6\u001b[0m         \u001b[0mc\u001b[0m \u001b[1;33m=\u001b[0m \u001b[0mvalues\u001b[0m\u001b[1;33m[\u001b[0m\u001b[1;36m1\u001b[0m\u001b[1;33m]\u001b[0m\u001b[1;33m\u001b[0m\u001b[1;33m\u001b[0m\u001b[0m\n",
      "\u001b[1;31mIndexError\u001b[0m: list index out of range"
     ]
    }
   ],
   "source": [
    "for q in range(Q):\n",
    "    # 文字と数字が混ざっているため、いったん文字列で受ける\n",
    "    values = input().split()\n",
    "    if values[0] == \"1\":\n",
    "        # クエリ１の処理\n",
    "        c = values[1]\n",
    "        x = int(values[2])\n",
    "        que.append([c, x])\n",
    "    else:\n",
    "        # クエリ２の処理\n",
    "        d = int(values[1])\n",
    "        # 各アルファベットが何文字消されたか、辞書型で管理する\n",
    "        cnt = {}\n",
    "        for c in ascii_lowercase:\n",
    "            cnt[c] = 0\n",
    "        # 合計 d 個取り出すか、キューが空になるまで取り出し続ける\n",
    "        while d > 0 and len(que) > 0:\n",
    "            c, x = que[0]\n",
    "            if d >= x:\n",
    "                # 全部とれるパターン\n",
    "                d -= x\n",
    "                cnt[c] += x\n",
    "                que.popleft()\n",
    "            else:\n",
    "                # 途中で切るパターン\n",
    "                cnt[c] += d\n",
    "                que[0][1] -= d\n",
    "                d = 0\n",
    "        # 答えを計算する\n",
    "        ans = 0\n",
    "        for c in ascii_lowercase:\n",
    "            ans += cnt[c] ** 2\n",
    "        print(ans)"
   ]
  },
  {
   "cell_type": "code",
   "execution_count": null,
   "id": "stuffed-flush",
   "metadata": {},
   "outputs": [],
   "source": []
  }
 ],
 "metadata": {
  "kernelspec": {
   "display_name": "Python 3",
   "language": "python",
   "name": "python3"
  },
  "language_info": {
   "codemirror_mode": {
    "name": "ipython",
    "version": 3
   },
   "file_extension": ".py",
   "mimetype": "text/x-python",
   "name": "python",
   "nbconvert_exporter": "python",
   "pygments_lexer": "ipython3",
   "version": "3.8.5"
  }
 },
 "nbformat": 4,
 "nbformat_minor": 5
}
