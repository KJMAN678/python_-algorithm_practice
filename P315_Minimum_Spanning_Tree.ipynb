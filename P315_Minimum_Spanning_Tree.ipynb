{
 "cells": [
  {
   "cell_type": "code",
   "execution_count": 1,
   "id": "subtle-honor",
   "metadata": {},
   "outputs": [],
   "source": [
    "# N 街の数\n",
    "# M 道の本数\n",
    "# c 建設費"
   ]
  },
  {
   "cell_type": "code",
   "execution_count": 43,
   "id": "military-titanium",
   "metadata": {},
   "outputs": [],
   "source": [
    "import heapq"
   ]
  },
  {
   "cell_type": "code",
   "execution_count": 44,
   "id": "congressional-writing",
   "metadata": {},
   "outputs": [
    {
     "name": "stdin",
     "output_type": "stream",
     "text": [
      " 5 7\n"
     ]
    }
   ],
   "source": [
    "N, M = map(int, input().split())"
   ]
  },
  {
   "cell_type": "code",
   "execution_count": 45,
   "id": "shared-identity",
   "metadata": {},
   "outputs": [],
   "source": [
    "# 隣接リストとしてグラフの情報を保持する配列\n",
    "G = []"
   ]
  },
  {
   "cell_type": "code",
   "execution_count": 46,
   "id": "identified-pierce",
   "metadata": {},
   "outputs": [],
   "source": [
    "for _ in range(0, N):\n",
    "    G.append([])"
   ]
  },
  {
   "cell_type": "code",
   "execution_count": 47,
   "id": "metallic-parks",
   "metadata": {},
   "outputs": [
    {
     "data": {
      "text/plain": [
       "[[], [], [], [], []]"
      ]
     },
     "execution_count": 47,
     "metadata": {},
     "output_type": "execute_result"
    }
   ],
   "source": [
    "G"
   ]
  },
  {
   "cell_type": "code",
   "execution_count": 48,
   "id": "formed-object",
   "metadata": {},
   "outputs": [
    {
     "name": "stdin",
     "output_type": "stream",
     "text": [
      " 0 1 10\n",
      " 0 4 30\n",
      " 1 2 10\n",
      " 1 4 20\n",
      " 2 3 30\n",
      " 4 2 20\n",
      " 4 3 10\n"
     ]
    }
   ],
   "source": [
    "for _ in range(0, M):\n",
    "    u, v, c = map(int, input().split())\n",
    "    \n",
    "    # 頂点 u から出て頂点 v へ向かう重み c の辺を保存する\n",
    "    G[u].append((v, c))\n",
    "    \n",
    "    # 無効グラフとなるため、反対向きにも保存しておく\n",
    "    G[v].append((u, c))"
   ]
  },
  {
   "cell_type": "code",
   "execution_count": 49,
   "id": "answering-highland",
   "metadata": {},
   "outputs": [
    {
     "data": {
      "text/plain": [
       "[[(1, 10), (4, 30)],\n",
       " [(0, 10), (2, 10), (4, 20)],\n",
       " [(1, 10), (3, 30), (4, 20)],\n",
       " [(2, 30), (4, 10)],\n",
       " [(0, 30), (1, 20), (2, 20), (3, 10)]]"
      ]
     },
     "execution_count": 49,
     "metadata": {},
     "output_type": "execute_result"
    }
   ],
   "source": [
    "G"
   ]
  },
  {
   "cell_type": "markdown",
   "id": "variable-canada",
   "metadata": {},
   "source": [
    "### プリム法で最小全域木を解く"
   ]
  },
  {
   "cell_type": "code",
   "execution_count": 50,
   "id": "differential-northern",
   "metadata": {},
   "outputs": [],
   "source": [
    "# 頂点がマークされているかどうかを管理する配列\n",
    "# 頂点 i がマークされているとき marked[i]=True となる\n",
    "# 最初はどの頂点もまーくされていないため N 個の False で埋めておく\n",
    "marked = []"
   ]
  },
  {
   "cell_type": "code",
   "execution_count": 51,
   "id": "accessible-water",
   "metadata": {},
   "outputs": [],
   "source": [
    "for _ in range(0, N):\n",
    "    marked.append(False)"
   ]
  },
  {
   "cell_type": "code",
   "execution_count": 52,
   "id": "acquired-convention",
   "metadata": {},
   "outputs": [
    {
     "data": {
      "text/plain": [
       "[False, False, False, False, False]"
      ]
     },
     "execution_count": 52,
     "metadata": {},
     "output_type": "execute_result"
    }
   ],
   "source": [
    "marked"
   ]
  },
  {
   "cell_type": "code",
   "execution_count": 53,
   "id": "excessive-nitrogen",
   "metadata": {},
   "outputs": [],
   "source": [
    "# マークされている頂点の数を保持する変数\n",
    "# 最初はどの頂点もマークされていないため 0\n",
    "# この値が N になったら終了する\n",
    "marked_count = 0"
   ]
  },
  {
   "cell_type": "code",
   "execution_count": 54,
   "id": "local-massachusetts",
   "metadata": {},
   "outputs": [],
   "source": [
    "# 最初に頂点 0 を選んでマークする\n",
    "marked[0] = True"
   ]
  },
  {
   "cell_type": "code",
   "execution_count": 55,
   "id": "concrete-sodium",
   "metadata": {},
   "outputs": [],
   "source": [
    "marked_count += 1"
   ]
  },
  {
   "cell_type": "code",
   "execution_count": 56,
   "id": "alone-learning",
   "metadata": {},
   "outputs": [
    {
     "data": {
      "text/plain": [
       "[True, False, False, False, False]"
      ]
     },
     "execution_count": 56,
     "metadata": {},
     "output_type": "execute_result"
    }
   ],
   "source": [
    "marked"
   ]
  },
  {
   "cell_type": "code",
   "execution_count": 57,
   "id": "imperial-shell",
   "metadata": {},
   "outputs": [],
   "source": [
    "# 次に選ぶ辺の候補を入れるヒープ\n",
    "Q = []"
   ]
  },
  {
   "cell_type": "code",
   "execution_count": 58,
   "id": "automotive-liverpool",
   "metadata": {},
   "outputs": [],
   "source": [
    "# 頂点 0 に隣接する辺を調べ、ヒープに入れる\n",
    "for j, c in G[0]:\n",
    "    # ヒープに選ぶ候補の辺を挿入する\n",
    "    # （辺を重み、選んだときにマークする頂点）の形式で保存する\n",
    "    heapq.heappush(Q, (c, j))"
   ]
  },
  {
   "cell_type": "code",
   "execution_count": 59,
   "id": "mechanical-dayton",
   "metadata": {},
   "outputs": [
    {
     "data": {
      "text/plain": [
       "[(10, 1), (30, 4)]"
      ]
     },
     "execution_count": 59,
     "metadata": {},
     "output_type": "execute_result"
    }
   ],
   "source": [
    "Q"
   ]
  },
  {
   "cell_type": "code",
   "execution_count": 60,
   "id": "periodic-myanmar",
   "metadata": {},
   "outputs": [],
   "source": [
    "# 最小全域木の重みの合計を保存する変数\n",
    "sum = 0"
   ]
  },
  {
   "cell_type": "code",
   "execution_count": 61,
   "id": "offshore-flexibility",
   "metadata": {},
   "outputs": [],
   "source": [
    "# 全ての頂点がマークされるまで繰り返す\n",
    "while marked_count < N:\n",
    "    \n",
    "    # ヒープから、最小の重みの辺を取り出す\n",
    "    # これは（辺の重み、い選んだときにマークする頂点）の形式になっている\n",
    "    c, i = heapq.heappop(Q)\n",
    "    \n",
    "    # 辺につながる頂点 i もすでにマークされていた場合\n",
    "    # 操作をスキップする\n",
    "    if marked[i]:\n",
    "        continue\n",
    "        \n",
    "    # 頂点 i をマークする\n",
    "    marked[i] = True\n",
    "    marked_count += 1\n",
    "    \n",
    "    # 使った辺は最小全域木となるため、重みを保存しておく\n",
    "    sum += c\n",
    "    \n",
    "    # 新たにマークした頂点 i に隣接する辺を調べる\n",
    "    for (j, c) in G[i]:\n",
    "        \n",
    "        # 辺がつなぐ頂点がすでにマークされていた場合はヒープに入れない\n",
    "        if marked[j]:\n",
    "            continue\n",
    "            \n",
    "        heapq.heappush(Q, (c, j))"
   ]
  },
  {
   "cell_type": "code",
   "execution_count": 62,
   "id": "martial-spain",
   "metadata": {},
   "outputs": [
    {
     "name": "stdout",
     "output_type": "stream",
     "text": [
      "50\n"
     ]
    }
   ],
   "source": [
    "print(sum)"
   ]
  },
  {
   "cell_type": "code",
   "execution_count": null,
   "id": "collective-sample",
   "metadata": {},
   "outputs": [],
   "source": []
  }
 ],
 "metadata": {
  "kernelspec": {
   "display_name": "Python 3",
   "language": "python",
   "name": "python3"
  },
  "language_info": {
   "codemirror_mode": {
    "name": "ipython",
    "version": 3
   },
   "file_extension": ".py",
   "mimetype": "text/x-python",
   "name": "python",
   "nbconvert_exporter": "python",
   "pygments_lexer": "ipython3",
   "version": "3.8.5"
  }
 },
 "nbformat": 4,
 "nbformat_minor": 5
}
