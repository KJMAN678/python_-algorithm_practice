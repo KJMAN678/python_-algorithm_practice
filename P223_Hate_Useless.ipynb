{
 "cells": [
  {
   "cell_type": "code",
   "execution_count": 16,
   "id": "delayed-cleaner",
   "metadata": {},
   "outputs": [],
   "source": [
    "# N 個の品物\n",
    "# wi i 番目の品物の重さ\n",
    "# X 重さ合計"
   ]
  },
  {
   "cell_type": "code",
   "execution_count": 17,
   "id": "conceptual-baseline",
   "metadata": {},
   "outputs": [],
   "source": [
    "# dict の初期化を関数にしたがって実施する事ができる\n",
    "from collections import defaultdict"
   ]
  },
  {
   "cell_type": "code",
   "execution_count": 18,
   "id": "infinite-template",
   "metadata": {},
   "outputs": [
    {
     "name": "stdin",
     "output_type": "stream",
     "text": [
      " 5 5\n"
     ]
    }
   ],
   "source": [
    "N, X = list(map(int, input().split()))"
   ]
  },
  {
   "cell_type": "code",
   "execution_count": 19,
   "id": "freelance-folks",
   "metadata": {},
   "outputs": [],
   "source": [
    "# 偶数番目と奇数番目で半分ずつに振り分けていく\n",
    "A = []\n",
    "B = []"
   ]
  },
  {
   "cell_type": "code",
   "execution_count": 20,
   "id": "color-bench",
   "metadata": {},
   "outputs": [
    {
     "name": "stdin",
     "output_type": "stream",
     "text": [
      " 1\n",
      " 1\n",
      " 2\n",
      " 3\n",
      " 4\n"
     ]
    }
   ],
   "source": [
    "for i in range(N):\n",
    "    w = int(input())\n",
    "    if i % 2 == 0:\n",
    "        A.append(w)\n",
    "    else:\n",
    "        B.append(w)"
   ]
  },
  {
   "cell_type": "code",
   "execution_count": 21,
   "id": "reflected-mercury",
   "metadata": {},
   "outputs": [
    {
     "data": {
      "text/plain": [
       "[1, 2, 4]"
      ]
     },
     "execution_count": 21,
     "metadata": {},
     "output_type": "execute_result"
    }
   ],
   "source": [
    "A"
   ]
  },
  {
   "cell_type": "code",
   "execution_count": 22,
   "id": "automatic-texture",
   "metadata": {},
   "outputs": [
    {
     "data": {
      "text/plain": [
       "[1, 3]"
      ]
     },
     "execution_count": 22,
     "metadata": {},
     "output_type": "execute_result"
    }
   ],
   "source": [
    "B"
   ]
  },
  {
   "cell_type": "code",
   "execution_count": 23,
   "id": "spiritual-patch",
   "metadata": {},
   "outputs": [],
   "source": [
    "# n で表現される集合に要素 i が含まれるかを判定して\n",
    "# True / False を返す関数\n",
    "def has_bit(n, i):\n",
    "    return (n & (i << i) > 0)"
   ]
  },
  {
   "cell_type": "code",
   "execution_count": 24,
   "id": "genetic-sensitivity",
   "metadata": {},
   "outputs": [],
   "source": [
    "# グループ B を全列挙して重さ合計ごとに集計\n",
    "dic = defaultdict(int)"
   ]
  },
  {
   "cell_type": "code",
   "execution_count": 25,
   "id": "phantom-olive",
   "metadata": {},
   "outputs": [
    {
     "data": {
      "text/plain": [
       "defaultdict(int, {})"
      ]
     },
     "execution_count": 25,
     "metadata": {},
     "output_type": "execute_result"
    }
   ],
   "source": [
    "dic"
   ]
  },
  {
   "cell_type": "code",
   "execution_count": 26,
   "id": "polished-anger",
   "metadata": {},
   "outputs": [],
   "source": [
    "for n in range(1 << len(B)):\n",
    "    s = 0\n",
    "    for i in range(N):\n",
    "        if has_bit(n, i):\n",
    "            s += B[i]\n",
    "    dic[s] += 1"
   ]
  },
  {
   "cell_type": "code",
   "execution_count": 27,
   "id": "meaning-imaging",
   "metadata": {},
   "outputs": [
    {
     "data": {
      "text/plain": [
       "defaultdict(int, {0: 2, 3: 2})"
      ]
     },
     "execution_count": 27,
     "metadata": {},
     "output_type": "execute_result"
    }
   ],
   "source": [
    "dic"
   ]
  },
  {
   "cell_type": "code",
   "execution_count": 28,
   "id": "bound-thread",
   "metadata": {},
   "outputs": [],
   "source": [
    "# グループ A を全列挙して答えを求める\n",
    "ans = 0"
   ]
  },
  {
   "cell_type": "code",
   "execution_count": 29,
   "id": "tender-linux",
   "metadata": {},
   "outputs": [],
   "source": [
    "for n in range(1 << len(A)):\n",
    "    s = 0\n",
    "    for i in range(N):\n",
    "        if has_bit(n, i):\n",
    "            s += A[i]\n",
    "    ans += dic[X - s]"
   ]
  },
  {
   "cell_type": "code",
   "execution_count": 30,
   "id": "peripheral-loading",
   "metadata": {},
   "outputs": [
    {
     "name": "stdout",
     "output_type": "stream",
     "text": [
      "8\n"
     ]
    }
   ],
   "source": [
    "print(ans)"
   ]
  },
  {
   "cell_type": "code",
   "execution_count": 31,
   "id": "floral-humidity",
   "metadata": {},
   "outputs": [],
   "source": [
    "# テキストだと4"
   ]
  },
  {
   "cell_type": "code",
   "execution_count": null,
   "id": "solar-adapter",
   "metadata": {},
   "outputs": [],
   "source": []
  }
 ],
 "metadata": {
  "kernelspec": {
   "display_name": "Python 3",
   "language": "python",
   "name": "python3"
  },
  "language_info": {
   "codemirror_mode": {
    "name": "ipython",
    "version": 3
   },
   "file_extension": ".py",
   "mimetype": "text/x-python",
   "name": "python",
   "nbconvert_exporter": "python",
   "pygments_lexer": "ipython3",
   "version": "3.8.5"
  }
 },
 "nbformat": 4,
 "nbformat_minor": 5
}
