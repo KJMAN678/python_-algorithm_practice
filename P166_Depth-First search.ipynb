{
 "cells": [
  {
   "cell_type": "code",
   "execution_count": 1,
   "id": "irish-lobby",
   "metadata": {},
   "outputs": [],
   "source": [
    "import sys\n",
    "sys.setrecursionlimit(1000000)"
   ]
  },
  {
   "cell_type": "code",
   "execution_count": 2,
   "id": "editorial-joint",
   "metadata": {},
   "outputs": [
    {
     "name": "stdin",
     "output_type": "stream",
     "text": [
      " 4 5\n"
     ]
    }
   ],
   "source": [
    "H, W = list(map(int, input().split()))"
   ]
  },
  {
   "cell_type": "code",
   "execution_count": 21,
   "id": "continued-donor",
   "metadata": {},
   "outputs": [],
   "source": [
    "S = []"
   ]
  },
  {
   "cell_type": "code",
   "execution_count": 22,
   "id": "governmental-canberra",
   "metadata": {},
   "outputs": [
    {
     "name": "stdin",
     "output_type": "stream",
     "text": [
      " s####\n",
      " ....#\n",
      " #####\n",
      " #...g\n"
     ]
    }
   ],
   "source": [
    "for i in range(H):\n",
    "    s = input()\n",
    "    S.append(s)"
   ]
  },
  {
   "cell_type": "code",
   "execution_count": 24,
   "id": "related-northwest",
   "metadata": {},
   "outputs": [],
   "source": [
    "# 始点と終点の座標を探し、それぞれ (si, sj) とする\n",
    "for i in range(H):\n",
    "    for j in range(W):\n",
    "        if S[i][j] == 's':\n",
    "            si, sj = i, j\n",
    "        if S[i][j] == 'g':\n",
    "            gi, gj = i, j"
   ]
  },
  {
   "cell_type": "code",
   "execution_count": 25,
   "id": "immune-illinois",
   "metadata": {},
   "outputs": [
    {
     "data": {
      "text/plain": [
       "['s####', '....#', '#####', '#...g']"
      ]
     },
     "execution_count": 25,
     "metadata": {},
     "output_type": "execute_result"
    }
   ],
   "source": [
    "S"
   ]
  },
  {
   "cell_type": "code",
   "execution_count": 26,
   "id": "alpha-negotiation",
   "metadata": {},
   "outputs": [
    {
     "name": "stdout",
     "output_type": "stream",
     "text": [
      "0 0\n"
     ]
    }
   ],
   "source": [
    "print(si, sj)"
   ]
  },
  {
   "cell_type": "code",
   "execution_count": 27,
   "id": "technical-cooper",
   "metadata": {},
   "outputs": [
    {
     "name": "stdout",
     "output_type": "stream",
     "text": [
      "3 4\n"
     ]
    }
   ],
   "source": [
    "print(gi, gj)"
   ]
  },
  {
   "cell_type": "code",
   "execution_count": 28,
   "id": "configured-titanium",
   "metadata": {},
   "outputs": [],
   "source": [
    "# 訪問済みかどうかを管理する2次元配列\n",
    "visited = []"
   ]
  },
  {
   "cell_type": "code",
   "execution_count": 29,
   "id": "illegal-chamber",
   "metadata": {},
   "outputs": [],
   "source": [
    "for i in range(H):\n",
    "    visited.append([False] * W)"
   ]
  },
  {
   "cell_type": "code",
   "execution_count": 30,
   "id": "liked-century",
   "metadata": {},
   "outputs": [
    {
     "data": {
      "text/plain": [
       "[[False, False, False, False, False],\n",
       " [False, False, False, False, False],\n",
       " [False, False, False, False, False],\n",
       " [False, False, False, False, False]]"
      ]
     },
     "execution_count": 30,
     "metadata": {},
     "output_type": "execute_result"
    }
   ],
   "source": [
    "visited"
   ]
  },
  {
   "cell_type": "code",
   "execution_count": 31,
   "id": "rolled-renaissance",
   "metadata": {},
   "outputs": [],
   "source": [
    "# 再評価 dfs を定義 する\n",
    "def dfs(i, j):\n",
    "    visited[i][j] = True\n",
    "    # 4方向の隣マスを探索する\n",
    "    for i2, j2 in [[i+1, j], [i-1, j], [i, j+1], [i, j-1]]:\n",
    "        # もし盤面の範囲内でなければ無視する\n",
    "        if not (0 <= i2 < H and 0 <= j2 < W):\n",
    "            continue\n",
    "        # もし壁マスであれば無視する\n",
    "        if S[i][j] == \"#\":\n",
    "            continue\n",
    "        # もし未訪問であれば再帰的に呼び出す\n",
    "        if not visited[i2][j2]:\n",
    "            dfs(i2, j2)"
   ]
  },
  {
   "cell_type": "code",
   "execution_count": 33,
   "id": "studied-water",
   "metadata": {},
   "outputs": [
    {
     "data": {
      "text/plain": [
       "[[False, False, False, False, False],\n",
       " [False, False, False, False, False],\n",
       " [False, False, False, False, False],\n",
       " [False, False, False, False, False]]"
      ]
     },
     "execution_count": 33,
     "metadata": {},
     "output_type": "execute_result"
    }
   ],
   "source": [
    "visited"
   ]
  },
  {
   "cell_type": "code",
   "execution_count": 34,
   "id": "generous-appeal",
   "metadata": {},
   "outputs": [],
   "source": [
    "dfs(si, sj)"
   ]
  },
  {
   "cell_type": "code",
   "execution_count": 35,
   "id": "proud-giving",
   "metadata": {},
   "outputs": [
    {
     "data": {
      "text/plain": [
       "[[True, True, True, True, False],\n",
       " [True, True, True, True, True],\n",
       " [True, True, True, True, False],\n",
       " [False, False, False, False, False]]"
      ]
     },
     "execution_count": 35,
     "metadata": {},
     "output_type": "execute_result"
    }
   ],
   "source": [
    "visited"
   ]
  },
  {
   "cell_type": "code",
   "execution_count": null,
   "id": "polish-arlington",
   "metadata": {},
   "outputs": [],
   "source": []
  }
 ],
 "metadata": {
  "kernelspec": {
   "display_name": "Python 3",
   "language": "python",
   "name": "python3"
  },
  "language_info": {
   "codemirror_mode": {
    "name": "ipython",
    "version": 3
   },
   "file_extension": ".py",
   "mimetype": "text/x-python",
   "name": "python",
   "nbconvert_exporter": "python",
   "pygments_lexer": "ipython3",
   "version": "3.8.5"
  }
 },
 "nbformat": 4,
 "nbformat_minor": 5
}
