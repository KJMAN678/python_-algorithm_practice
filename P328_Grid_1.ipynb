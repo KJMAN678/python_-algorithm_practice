{
 "cells": [
  {
   "cell_type": "code",
   "execution_count": 1,
   "id": "independent-enlargement",
   "metadata": {},
   "outputs": [],
   "source": [
    "# H 縦、W 横\n",
    "# 太郎君の経路は何通りか？\n",
    "# 壁は「#」"
   ]
  },
  {
   "cell_type": "code",
   "execution_count": 2,
   "id": "driven-style",
   "metadata": {},
   "outputs": [
    {
     "name": "stdin",
     "output_type": "stream",
     "text": [
      " 3 4\n"
     ]
    }
   ],
   "source": [
    "H, W = list(map(int, input().split()))"
   ]
  },
  {
   "cell_type": "code",
   "execution_count": 3,
   "id": "greek-italic",
   "metadata": {},
   "outputs": [],
   "source": [
    "A = []"
   ]
  },
  {
   "cell_type": "code",
   "execution_count": 4,
   "id": "jewish-portuguese",
   "metadata": {},
   "outputs": [
    {
     "name": "stdin",
     "output_type": "stream",
     "text": [
      " ...#\n",
      " .#..\n",
      " ....\n"
     ]
    }
   ],
   "source": [
    "for i in range(H):\n",
    "    s = input()\n",
    "    A.append(s)"
   ]
  },
  {
   "cell_type": "code",
   "execution_count": 5,
   "id": "composite-bacteria",
   "metadata": {},
   "outputs": [
    {
     "data": {
      "text/plain": [
       "['...#', '.#..', '....']"
      ]
     },
     "execution_count": 5,
     "metadata": {},
     "output_type": "execute_result"
    }
   ],
   "source": [
    "A"
   ]
  },
  {
   "cell_type": "code",
   "execution_count": 6,
   "id": "loaded-butter",
   "metadata": {},
   "outputs": [],
   "source": [
    "cnt = []"
   ]
  },
  {
   "cell_type": "code",
   "execution_count": 7,
   "id": "visible-virginia",
   "metadata": {},
   "outputs": [],
   "source": [
    "for i in range(H):\n",
    "    cnt.append([0] * W)"
   ]
  },
  {
   "cell_type": "code",
   "execution_count": 8,
   "id": "about-peoples",
   "metadata": {},
   "outputs": [
    {
     "data": {
      "text/plain": [
       "[[0, 0, 0, 0], [0, 0, 0, 0], [0, 0, 0, 0]]"
      ]
     },
     "execution_count": 8,
     "metadata": {},
     "output_type": "execute_result"
    }
   ],
   "source": [
    "cnt"
   ]
  },
  {
   "cell_type": "code",
   "execution_count": 9,
   "id": "comparative-point",
   "metadata": {},
   "outputs": [],
   "source": [
    "# 初期条件、スタート地点なら1通り\n",
    "cnt[0][0] = 1"
   ]
  },
  {
   "cell_type": "code",
   "execution_count": 10,
   "id": "handmade-audit",
   "metadata": {},
   "outputs": [
    {
     "data": {
      "text/plain": [
       "[[1, 0, 0, 0], [0, 0, 0, 0], [0, 0, 0, 0]]"
      ]
     },
     "execution_count": 10,
     "metadata": {},
     "output_type": "execute_result"
    }
   ],
   "source": [
    "cnt"
   ]
  },
  {
   "cell_type": "code",
   "execution_count": 11,
   "id": "empty-scenario",
   "metadata": {},
   "outputs": [],
   "source": [
    "MOD = 10**9+7"
   ]
  },
  {
   "cell_type": "code",
   "execution_count": 12,
   "id": "informal-daughter",
   "metadata": {},
   "outputs": [],
   "source": [
    "for i in range(H):\n",
    "    for j in range(W):\n",
    "        # 壁マスなら cnt[i][j] = 0 のままにする\n",
    "        if A[i][j] == \"#\":\n",
    "            continue\n",
    "        # 左と上から遷移する\n",
    "        if i > 0:\n",
    "            cnt[i][j] += cnt[i-1][j]\n",
    "        if j > 0:\n",
    "            cnt[i][j] += cnt[i][j-1]\n",
    "        cnt[i][j] %= MOD"
   ]
  },
  {
   "cell_type": "code",
   "execution_count": 13,
   "id": "outer-signature",
   "metadata": {},
   "outputs": [
    {
     "name": "stdout",
     "output_type": "stream",
     "text": [
      "3\n"
     ]
    }
   ],
   "source": [
    "print(cnt[H-1][W-1])"
   ]
  },
  {
   "cell_type": "code",
   "execution_count": null,
   "id": "prospective-beatles",
   "metadata": {},
   "outputs": [],
   "source": []
  }
 ],
 "metadata": {
  "kernelspec": {
   "display_name": "Python 3",
   "language": "python",
   "name": "python3"
  },
  "language_info": {
   "codemirror_mode": {
    "name": "ipython",
    "version": 3
   },
   "file_extension": ".py",
   "mimetype": "text/x-python",
   "name": "python",
   "nbconvert_exporter": "python",
   "pygments_lexer": "ipython3",
   "version": "3.8.5"
  }
 },
 "nbformat": 4,
 "nbformat_minor": 5
}
