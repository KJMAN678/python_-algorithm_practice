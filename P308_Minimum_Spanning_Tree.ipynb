{
 "cells": [
  {
   "cell_type": "markdown",
   "id": "attached-taste",
   "metadata": {},
   "source": [
    "### プリム法"
   ]
  },
  {
   "cell_type": "code",
   "execution_count": 1,
   "id": "instrumental-diabetes",
   "metadata": {},
   "outputs": [],
   "source": [
    "import heapq"
   ]
  },
  {
   "cell_type": "code",
   "execution_count": 6,
   "id": "helpful-candle",
   "metadata": {},
   "outputs": [],
   "source": [
    "# 頂点がマークされているかどうかを管理する配列\n",
    "# 頂点 i がマークされているとき marked[i]=True となる\n",
    "# 最初はどの頂点もマークされていないため N 個の False で埋めておく\n",
    "marked = []"
   ]
  },
  {
   "cell_type": "code",
   "execution_count": 3,
   "id": "featured-acoustic",
   "metadata": {},
   "outputs": [
    {
     "ename": "NameError",
     "evalue": "name 'N' is not defined",
     "output_type": "error",
     "traceback": [
      "\u001b[1;31m---------------------------------------------------------------------------\u001b[0m",
      "\u001b[1;31mNameError\u001b[0m                                 Traceback (most recent call last)",
      "\u001b[1;32m<ipython-input-3-d6bb997306a8>\u001b[0m in \u001b[0;36m<module>\u001b[1;34m\u001b[0m\n\u001b[1;32m----> 1\u001b[1;33m \u001b[1;32mfor\u001b[0m \u001b[0m_\u001b[0m \u001b[1;32min\u001b[0m \u001b[0mrange\u001b[0m\u001b[1;33m(\u001b[0m\u001b[1;36m0\u001b[0m\u001b[1;33m,\u001b[0m \u001b[0mN\u001b[0m\u001b[1;33m)\u001b[0m\u001b[1;33m:\u001b[0m\u001b[1;33m\u001b[0m\u001b[1;33m\u001b[0m\u001b[0m\n\u001b[0m\u001b[0;32m      2\u001b[0m     \u001b[0mmarked\u001b[0m\u001b[1;33m.\u001b[0m\u001b[0mappend\u001b[0m\u001b[1;33m(\u001b[0m\u001b[1;32mFalse\u001b[0m\u001b[1;33m)\u001b[0m\u001b[1;33m\u001b[0m\u001b[1;33m\u001b[0m\u001b[0m\n",
      "\u001b[1;31mNameError\u001b[0m: name 'N' is not defined"
     ]
    }
   ],
   "source": [
    "for _ in range(0, N):\n",
    "    marked.append(False)"
   ]
  },
  {
   "cell_type": "code",
   "execution_count": 4,
   "id": "better-increase",
   "metadata": {},
   "outputs": [],
   "source": [
    "# マークされている頂点の数を保存する変数\n",
    "# 最初はどの頂点もマークされていないため 0\n",
    "# この値が N になったら終了する\n",
    "marked_count = 0"
   ]
  },
  {
   "cell_type": "code",
   "execution_count": 7,
   "id": "preceding-stocks",
   "metadata": {},
   "outputs": [
    {
     "ename": "IndexError",
     "evalue": "list assignment index out of range",
     "output_type": "error",
     "traceback": [
      "\u001b[1;31m---------------------------------------------------------------------------\u001b[0m",
      "\u001b[1;31mIndexError\u001b[0m                                Traceback (most recent call last)",
      "\u001b[1;32m<ipython-input-7-0e3bb503739d>\u001b[0m in \u001b[0;36m<module>\u001b[1;34m\u001b[0m\n\u001b[0;32m      1\u001b[0m \u001b[1;31m# 最初に頂点 0 を進んでマークする\u001b[0m\u001b[1;33m\u001b[0m\u001b[1;33m\u001b[0m\u001b[1;33m\u001b[0m\u001b[0m\n\u001b[1;32m----> 2\u001b[1;33m \u001b[0mmarked\u001b[0m\u001b[1;33m[\u001b[0m\u001b[1;36m0\u001b[0m\u001b[1;33m]\u001b[0m \u001b[1;33m=\u001b[0m \u001b[1;32mTrue\u001b[0m\u001b[1;33m\u001b[0m\u001b[1;33m\u001b[0m\u001b[0m\n\u001b[0m\u001b[0;32m      3\u001b[0m \u001b[0mmarked_count\u001b[0m \u001b[1;33m+=\u001b[0m \u001b[1;36m1\u001b[0m\u001b[1;33m\u001b[0m\u001b[1;33m\u001b[0m\u001b[0m\n",
      "\u001b[1;31mIndexError\u001b[0m: list assignment index out of range"
     ]
    }
   ],
   "source": [
    "# 最初に頂点 0 を進んでマークする\n",
    "marked[0] = True\n",
    "marked_count += 1"
   ]
  },
  {
   "cell_type": "code",
   "execution_count": 8,
   "id": "intended-planet",
   "metadata": {},
   "outputs": [],
   "source": [
    "# 次に選ぶ辺の候補を入れるヒープ\n",
    "Q = []"
   ]
  },
  {
   "cell_type": "code",
   "execution_count": 9,
   "id": "heard-tackle",
   "metadata": {},
   "outputs": [
    {
     "ename": "NameError",
     "evalue": "name 'G' is not defined",
     "output_type": "error",
     "traceback": [
      "\u001b[1;31m---------------------------------------------------------------------------\u001b[0m",
      "\u001b[1;31mNameError\u001b[0m                                 Traceback (most recent call last)",
      "\u001b[1;32m<ipython-input-9-163245608c57>\u001b[0m in \u001b[0;36m<module>\u001b[1;34m\u001b[0m\n\u001b[0;32m      1\u001b[0m \u001b[1;31m# 頂点 0 に隣接する辺を調べ、ヒープに入れる\u001b[0m\u001b[1;33m\u001b[0m\u001b[1;33m\u001b[0m\u001b[1;33m\u001b[0m\u001b[0m\n\u001b[1;32m----> 2\u001b[1;33m \u001b[1;32mfor\u001b[0m \u001b[0mj\u001b[0m\u001b[1;33m,\u001b[0m \u001b[0mc\u001b[0m \u001b[1;32min\u001b[0m \u001b[0mG\u001b[0m\u001b[1;33m[\u001b[0m\u001b[1;36m0\u001b[0m\u001b[1;33m]\u001b[0m\u001b[1;33m:\u001b[0m\u001b[1;33m\u001b[0m\u001b[1;33m\u001b[0m\u001b[0m\n\u001b[0m\u001b[0;32m      3\u001b[0m     \u001b[1;31m# ヒープに選ぶ候補の辺を挿入する\u001b[0m\u001b[1;33m\u001b[0m\u001b[1;33m\u001b[0m\u001b[1;33m\u001b[0m\u001b[0m\n\u001b[0;32m      4\u001b[0m     \u001b[1;31m# (辺の重み、選んだときにマークする頂点)\u001b[0m\u001b[1;33m\u001b[0m\u001b[1;33m\u001b[0m\u001b[1;33m\u001b[0m\u001b[0m\n\u001b[0;32m      5\u001b[0m     \u001b[0mheapq\u001b[0m\u001b[1;33m.\u001b[0m\u001b[0mheappush\u001b[0m\u001b[1;33m(\u001b[0m\u001b[0mQ\u001b[0m\u001b[1;33m,\u001b[0m \u001b[1;33m(\u001b[0m\u001b[0mc\u001b[0m\u001b[1;33m,\u001b[0m \u001b[0mj\u001b[0m\u001b[1;33m)\u001b[0m\u001b[1;33m)\u001b[0m\u001b[1;33m\u001b[0m\u001b[1;33m\u001b[0m\u001b[0m\n",
      "\u001b[1;31mNameError\u001b[0m: name 'G' is not defined"
     ]
    }
   ],
   "source": [
    "# 頂点 0 に隣接する辺を調べ、ヒープに入れる\n",
    "for j, c in G[0]:\n",
    "    # ヒープに選ぶ候補の辺を挿入する\n",
    "    # (辺の重み、選んだときにマークする頂点)\n",
    "    heapq.heappush(Q, (c, j))"
   ]
  },
  {
   "cell_type": "code",
   "execution_count": 10,
   "id": "painful-memory",
   "metadata": {},
   "outputs": [],
   "source": [
    "# 最小全域木の重みの合計を保存する変数\n",
    "sum = 0"
   ]
  },
  {
   "cell_type": "code",
   "execution_count": 11,
   "id": "blond-assessment",
   "metadata": {},
   "outputs": [
    {
     "ename": "NameError",
     "evalue": "name 'N' is not defined",
     "output_type": "error",
     "traceback": [
      "\u001b[1;31m---------------------------------------------------------------------------\u001b[0m",
      "\u001b[1;31mNameError\u001b[0m                                 Traceback (most recent call last)",
      "\u001b[1;32m<ipython-input-11-d3d68118a77b>\u001b[0m in \u001b[0;36m<module>\u001b[1;34m\u001b[0m\n\u001b[0;32m      1\u001b[0m \u001b[1;31m# 全ての頂点がマークされるまで繰り返す\u001b[0m\u001b[1;33m\u001b[0m\u001b[1;33m\u001b[0m\u001b[1;33m\u001b[0m\u001b[0m\n\u001b[1;32m----> 2\u001b[1;33m \u001b[1;32mwhile\u001b[0m \u001b[0mmarked_count\u001b[0m \u001b[1;33m<\u001b[0m \u001b[0mN\u001b[0m\u001b[1;33m:\u001b[0m\u001b[1;33m\u001b[0m\u001b[1;33m\u001b[0m\u001b[0m\n\u001b[0m\u001b[0;32m      3\u001b[0m \u001b[1;33m\u001b[0m\u001b[0m\n\u001b[0;32m      4\u001b[0m     \u001b[1;31m# ヒープから、最小の重みの辺を取り出す\u001b[0m\u001b[1;33m\u001b[0m\u001b[1;33m\u001b[0m\u001b[1;33m\u001b[0m\u001b[0m\n\u001b[0;32m      5\u001b[0m     \u001b[1;31m# これは（辺の重み、選んだときにマークする頂点）の形式になっている\u001b[0m\u001b[1;33m\u001b[0m\u001b[1;33m\u001b[0m\u001b[1;33m\u001b[0m\u001b[0m\n",
      "\u001b[1;31mNameError\u001b[0m: name 'N' is not defined"
     ]
    }
   ],
   "source": [
    "# 全ての頂点がマークされるまで繰り返す\n",
    "while marked_count < N:\n",
    "    \n",
    "    # ヒープから、最小の重みの辺を取り出す\n",
    "    # これは（辺の重み、選んだときにマークする頂点）の形式になっている\n",
    "    c, i = heapq.heappop(Q)\n",
    "    \n",
    "    # 辺につながる頂点 i もすでにマークされていた場合\n",
    "    # 操作をスキップする\n",
    "    if marked[i]:\n",
    "        continue\n",
    "        \n",
    "    # 頂点 i をマークする\n",
    "    marked[i] = True\n",
    "    marked_count += 1\n",
    "    \n",
    "    # 使った辺は最小全域木となるため、重みを保存しておく\n",
    "    sum += c\n",
    "    \n",
    "    # 新たにマークした頂点 i に隣接する辺を調べる\n",
    "    for (j, c) in G[i]:\n",
    "        \n",
    "        # 辺がつなぐ頂点がすでにマークされていた場合はヒープに入れない\n",
    "        if marked[j]:\n",
    "            continue\n",
    "            \n",
    "        heapq.heappush(Q, (c, j))"
   ]
  },
  {
   "cell_type": "code",
   "execution_count": 12,
   "id": "supported-addiction",
   "metadata": {},
   "outputs": [
    {
     "name": "stdout",
     "output_type": "stream",
     "text": [
      "0\n"
     ]
    }
   ],
   "source": [
    "# 最小全域木の重みの合計\n",
    "print(sum)"
   ]
  },
  {
   "cell_type": "code",
   "execution_count": null,
   "id": "descending-antibody",
   "metadata": {},
   "outputs": [],
   "source": []
  }
 ],
 "metadata": {
  "kernelspec": {
   "display_name": "Python 3",
   "language": "python",
   "name": "python3"
  },
  "language_info": {
   "codemirror_mode": {
    "name": "ipython",
    "version": 3
   },
   "file_extension": ".py",
   "mimetype": "text/x-python",
   "name": "python",
   "nbconvert_exporter": "python",
   "pygments_lexer": "ipython3",
   "version": "3.8.5"
  }
 },
 "nbformat": 4,
 "nbformat_minor": 5
}
