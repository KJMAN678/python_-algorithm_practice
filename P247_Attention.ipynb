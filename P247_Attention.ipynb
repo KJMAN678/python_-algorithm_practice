{
 "cells": [
  {
   "cell_type": "code",
   "execution_count": 1,
   "id": "hazardous-salon",
   "metadata": {},
   "outputs": [],
   "source": [
    "# N 人数。東または西を向いている\n",
    "# 長さ N の文字列 S によってどの方向を向いているか与えられる\n",
    "# 東を向いている S = 'E', S = 'W'\n",
    "# 1人をリーダーにする\n",
    "# リーダー以外は全員リーダーを向いている\n",
    "# 向く方向を変える人数が最小になるようにリーダーを選びたい"
   ]
  },
  {
   "cell_type": "code",
   "execution_count": 2,
   "id": "warming-thickness",
   "metadata": {},
   "outputs": [
    {
     "name": "stdin",
     "output_type": "stream",
     "text": [
      " 5\n"
     ]
    }
   ],
   "source": [
    "N = int(input())"
   ]
  },
  {
   "cell_type": "code",
   "execution_count": 3,
   "id": "frozen-priority",
   "metadata": {},
   "outputs": [
    {
     "name": "stdin",
     "output_type": "stream",
     "text": [
      " WEEWW\n"
     ]
    }
   ],
   "source": [
    "S = input()"
   ]
  },
  {
   "cell_type": "code",
   "execution_count": 4,
   "id": "formal-mississippi",
   "metadata": {},
   "outputs": [],
   "source": [
    "# 向きを変える必要がある人数の最小値を保持する変数\n",
    "# 答えになりえない大きい値で初期化しておく\n",
    "min_turn = 300000"
   ]
  },
  {
   "cell_type": "code",
   "execution_count": 6,
   "id": "tight-yorkshire",
   "metadata": {},
   "outputs": [
    {
     "name": "stdout",
     "output_type": "stream",
     "text": [
      "1\n"
     ]
    }
   ],
   "source": [
    "for i in range(0, N):\n",
    "    \n",
    "    # 人 i をリーダーとしたときの\n",
    "    # 向きを変えられる人数を記録する変数\n",
    "    turn = 0\n",
    "    \n",
    "    # 人を順番に見る\n",
    "    for p in range(0, N):\n",
    "        \n",
    "        # リーダーだった場合はスキップする\n",
    "        if p == i:\n",
    "            continue\n",
    "            \n",
    "        # リーダーより西側にいる人で、西を向いているとき\n",
    "        if p < i and S[p] == \"W\":\n",
    "            turn += 1\n",
    "            \n",
    "        # リーダーより東側にいる人で、東を向いているとき\n",
    "        if p > i and S[p] == \"E\":\n",
    "            turn += 1\n",
    "            \n",
    "    # リーダー i の場合について数え終わったら\n",
    "    # 向きを変える必要がある人数の最小値を更新する\n",
    "    min_turn = min(turn, min_turn)\n",
    "    \n",
    "print(min_turn)"
   ]
  },
  {
   "cell_type": "code",
   "execution_count": 7,
   "id": "indonesian-canal",
   "metadata": {},
   "outputs": [],
   "source": [
    "### 累積和を使った高速な解法"
   ]
  },
  {
   "cell_type": "code",
   "execution_count": 8,
   "id": "casual-spokesman",
   "metadata": {},
   "outputs": [],
   "source": [
    "sum_W = [0]"
   ]
  },
  {
   "cell_type": "code",
   "execution_count": 9,
   "id": "atomic-colleague",
   "metadata": {},
   "outputs": [],
   "source": [
    "for i in range(0, N):\n",
    "    if S[i] == \"W\":\n",
    "        sum_W.append(sum_W[i] + 1)\n",
    "    else:\n",
    "        sum_W.append(sum_W[i] + 0)"
   ]
  },
  {
   "cell_type": "markdown",
   "id": "economic-ideal",
   "metadata": {},
   "source": [
    "### 愚直な解法"
   ]
  },
  {
   "cell_type": "code",
   "execution_count": 10,
   "id": "necessary-casino",
   "metadata": {},
   "outputs": [],
   "source": [
    "# 人 i をリーダーとしたときの\n",
    "# 向きを変える必要がある人数を記録する変数\n",
    "turn = 0"
   ]
  },
  {
   "cell_type": "code",
   "execution_count": 11,
   "id": "multiple-calendar",
   "metadata": {},
   "outputs": [],
   "source": [
    "# 人を順番に見る\n",
    "for p in range(0, N):\n",
    "    \n",
    "    # リーダーだった場合はスキップする\n",
    "    if p == i:\n",
    "        continue\n",
    "        \n",
    "    # リーダーにより西側にいる人で、西を向いているとき\n",
    "    if p < i and S[p] == \"W\":\n",
    "        turn += 1\n",
    "        \n",
    "    # リーダーより東側にいる人で、東を向いているとき\n",
    "    if p > i and S[p] == \"E\":\n",
    "        turn += 1"
   ]
  },
  {
   "cell_type": "markdown",
   "id": "exclusive-basic",
   "metadata": {},
   "source": [
    "### 累積和を用いた高速な解法"
   ]
  },
  {
   "cell_type": "code",
   "execution_count": 12,
   "id": "regular-hello",
   "metadata": {},
   "outputs": [],
   "source": [
    "# リーダー i より西側にいて西を向いている人の数\n",
    "w = sum_W[i]\n",
    "\n",
    "# リ－ダー i より東側にいて東を向いている人の数\n",
    "e = (N - 1 - i) - (sum_W[N] - sum_W[i + 1])"
   ]
  },
  {
   "cell_type": "code",
   "execution_count": 13,
   "id": "quarterly-symbol",
   "metadata": {},
   "outputs": [],
   "source": [
    "# 人 i をリーダーとしたときの\n",
    "# 向きを変える必要がある人数\n",
    "turn = w + e"
   ]
  },
  {
   "cell_type": "code",
   "execution_count": 14,
   "id": "coral-festival",
   "metadata": {},
   "outputs": [
    {
     "name": "stdin",
     "output_type": "stream",
     "text": [
      " 5\n"
     ]
    }
   ],
   "source": [
    "N = int(input())"
   ]
  },
  {
   "cell_type": "code",
   "execution_count": 15,
   "id": "favorite-sacrifice",
   "metadata": {},
   "outputs": [
    {
     "name": "stdin",
     "output_type": "stream",
     "text": [
      " WEEWW\n"
     ]
    }
   ],
   "source": [
    "S = input()"
   ]
  },
  {
   "cell_type": "code",
   "execution_count": 21,
   "id": "cordless-developer",
   "metadata": {},
   "outputs": [],
   "source": [
    "# 向きを変える必要がある人数の最小値を保持する変数\n",
    "# 答えになりえない大きい値で初期化しておく\n",
    "min_turn = 300000"
   ]
  },
  {
   "cell_type": "code",
   "execution_count": 22,
   "id": "expired-booth",
   "metadata": {},
   "outputs": [],
   "source": [
    "sum_W = [0]"
   ]
  },
  {
   "cell_type": "code",
   "execution_count": 23,
   "id": "outside-homework",
   "metadata": {},
   "outputs": [],
   "source": [
    "for i in range(0, N):\n",
    "    if S[i] == \"W\":\n",
    "        sum_W.append(sum_W[i] + 1)\n",
    "    else:\n",
    "        sum_W.append(sum_W[i])"
   ]
  },
  {
   "cell_type": "code",
   "execution_count": 24,
   "id": "false-moses",
   "metadata": {},
   "outputs": [],
   "source": [
    "for i in range(0, N):\n",
    "    \n",
    "    # リーダー i より西側にいて西を向いている人の数\n",
    "    w = sum_W[i]\n",
    "    \n",
    "    # リーダー i より東側にいて東を向いている人の数\n",
    "    e = (N - 1 - i) - (sum_W[N] - sum_W[i + 1])\n",
    "    \n",
    "    # 人 i をりーだーとしたときの\n",
    "    # 向きを変える必要がある人数\n",
    "    turn = w + e\n",
    "    \n",
    "    # リーダー i の場合について数え終わったら\n",
    "    # 向きを変える必要がある人数の最小値を更新する\n",
    "    min_turn = min(turn, min_turn)"
   ]
  },
  {
   "cell_type": "code",
   "execution_count": 25,
   "id": "heard-chicken",
   "metadata": {},
   "outputs": [
    {
     "name": "stdout",
     "output_type": "stream",
     "text": [
      "1\n"
     ]
    }
   ],
   "source": [
    "print(min_turn)"
   ]
  },
  {
   "cell_type": "code",
   "execution_count": null,
   "id": "proud-complexity",
   "metadata": {},
   "outputs": [],
   "source": []
  }
 ],
 "metadata": {
  "kernelspec": {
   "display_name": "Python 3",
   "language": "python",
   "name": "python3"
  },
  "language_info": {
   "codemirror_mode": {
    "name": "ipython",
    "version": 3
   },
   "file_extension": ".py",
   "mimetype": "text/x-python",
   "name": "python",
   "nbconvert_exporter": "python",
   "pygments_lexer": "ipython3",
   "version": "3.8.5"
  }
 },
 "nbformat": 4,
 "nbformat_minor": 5
}
