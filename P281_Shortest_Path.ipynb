{
 "cells": [
  {
   "cell_type": "code",
   "execution_count": 2,
   "id": "protected-corrections",
   "metadata": {},
   "outputs": [],
   "source": [
    "# N 島の数\n",
    "# M 定期便の数 i種類目の定期便を使うと、島ai と島biの間を行き来することができる\n",
    "# 今は島1にいる。島Nへの直接の定期便はない\n",
    "# 島Nに行けるか調べたい"
   ]
  },
  {
   "cell_type": "code",
   "execution_count": 3,
   "id": "strange-desktop",
   "metadata": {},
   "outputs": [],
   "source": [
    "from collections import deque"
   ]
  },
  {
   "cell_type": "code",
   "execution_count": 22,
   "id": "sporting-capability",
   "metadata": {},
   "outputs": [
    {
     "name": "stdin",
     "output_type": "stream",
     "text": [
      " 3 2\n"
     ]
    }
   ],
   "source": [
    "N, M = map(int, input().split())"
   ]
  },
  {
   "cell_type": "code",
   "execution_count": 23,
   "id": "smart-mainstream",
   "metadata": {},
   "outputs": [],
   "source": [
    "# グラフは隣接リストとして保持する\n",
    "G = []"
   ]
  },
  {
   "cell_type": "code",
   "execution_count": 24,
   "id": "demographic-weight",
   "metadata": {},
   "outputs": [],
   "source": [
    "for _ in range(0, N):\n",
    "    G.append([])"
   ]
  },
  {
   "cell_type": "code",
   "execution_count": 25,
   "id": "previous-romantic",
   "metadata": {},
   "outputs": [
    {
     "data": {
      "text/plain": [
       "[[], [], []]"
      ]
     },
     "execution_count": 25,
     "metadata": {},
     "output_type": "execute_result"
    }
   ],
   "source": [
    "G"
   ]
  },
  {
   "cell_type": "code",
   "execution_count": 26,
   "id": "chief-russell",
   "metadata": {},
   "outputs": [
    {
     "name": "stdin",
     "output_type": "stream",
     "text": [
      " 1 2\n",
      " 2 3\n"
     ]
    }
   ],
   "source": [
    "# グラフの辺を受け取る\n",
    "for _ in range(0, M):\n",
    "    ai, bi = map(int, input().split())\n",
    "    \n",
    "    # 頂点番号は -1 して 0 から始まるようにする\n",
    "    ai -= 1\n",
    "    bi -= 1\n",
    "    \n",
    "    # ai と bi の間に辺を張る\n",
    "    G[ai].append(bi)\n",
    "    G[bi].append(ai)"
   ]
  },
  {
   "cell_type": "code",
   "execution_count": 27,
   "id": "neither-treaty",
   "metadata": {},
   "outputs": [
    {
     "data": {
      "text/plain": [
       "[[1], [0, 2], [1]]"
      ]
     },
     "execution_count": 27,
     "metadata": {},
     "output_type": "execute_result"
    }
   ],
   "source": [
    "G"
   ]
  },
  {
   "cell_type": "markdown",
   "id": "italic-triumph",
   "metadata": {},
   "source": [
    "### グラフ上で幅有線探索を行い、頂点 0 から各頂点への距離を求める"
   ]
  },
  {
   "cell_type": "code",
   "execution_count": 49,
   "id": "saving-absence",
   "metadata": {},
   "outputs": [],
   "source": [
    "# 頂点 0 から各頂点への最短距離を保持する配列\n",
    "# N 個の -1 で見たしておく(-1の場合は未訪問であることを表す)"
   ]
  },
  {
   "cell_type": "code",
   "execution_count": 50,
   "id": "ranging-reflection",
   "metadata": {},
   "outputs": [],
   "source": [
    "dist = []"
   ]
  },
  {
   "cell_type": "code",
   "execution_count": 51,
   "id": "universal-gibraltar",
   "metadata": {},
   "outputs": [],
   "source": [
    "for _ in range(0, N):\n",
    "    dist.append(-1)"
   ]
  },
  {
   "cell_type": "code",
   "execution_count": 52,
   "id": "signal-broadway",
   "metadata": {},
   "outputs": [
    {
     "data": {
      "text/plain": [
       "[-1, -1, -1]"
      ]
     },
     "execution_count": 52,
     "metadata": {},
     "output_type": "execute_result"
    }
   ],
   "source": [
    "dist"
   ]
  },
  {
   "cell_type": "code",
   "execution_count": 53,
   "id": "devoted-treasure",
   "metadata": {},
   "outputs": [],
   "source": [
    "# 幅優先探索で使うキュー\n",
    "Q = deque()"
   ]
  },
  {
   "cell_type": "code",
   "execution_count": 54,
   "id": "sharp-definition",
   "metadata": {},
   "outputs": [
    {
     "data": {
      "text/plain": [
       "deque([])"
      ]
     },
     "execution_count": 54,
     "metadata": {},
     "output_type": "execute_result"
    }
   ],
   "source": [
    "Q"
   ]
  },
  {
   "cell_type": "code",
   "execution_count": 55,
   "id": "unique-muslim",
   "metadata": {},
   "outputs": [],
   "source": [
    "# 始点となる頂点 0 への最短距離は 0 とする\n",
    "dist[0] = 0"
   ]
  },
  {
   "cell_type": "code",
   "execution_count": 56,
   "id": "answering-petersburg",
   "metadata": {},
   "outputs": [
    {
     "data": {
      "text/plain": [
       "[0, -1, -1]"
      ]
     },
     "execution_count": 56,
     "metadata": {},
     "output_type": "execute_result"
    }
   ],
   "source": [
    "dist"
   ]
  },
  {
   "cell_type": "code",
   "execution_count": 57,
   "id": "advised-phrase",
   "metadata": {},
   "outputs": [],
   "source": [
    "# 始点となる頂点 0 をキューに追加しておく\n",
    "Q.append(0)"
   ]
  },
  {
   "cell_type": "code",
   "execution_count": 58,
   "id": "horizontal-miami",
   "metadata": {},
   "outputs": [
    {
     "data": {
      "text/plain": [
       "deque([0])"
      ]
     },
     "execution_count": 58,
     "metadata": {},
     "output_type": "execute_result"
    }
   ],
   "source": [
    "Q"
   ]
  },
  {
   "cell_type": "code",
   "execution_count": 59,
   "id": "configured-former",
   "metadata": {},
   "outputs": [
    {
     "name": "stdout",
     "output_type": "stream",
     "text": [
      "i: 0\n",
      "i: 1\n",
      "i: 2\n"
     ]
    }
   ],
   "source": [
    "# 幅優先探索で各頂点への最短距離を求める\n",
    "while len(Q) > 0:\n",
    "    \n",
    "    # キューの先端の頂点を取り出して i とする\n",
    "    i = Q.popleft()\n",
    "    print(f\"i: {i}\")\n",
    "    \n",
    "    # 頂点 i に隣接する頂点を順番に見る\n",
    "    # 見ている頂点を j とする\n",
    "    for j in G[i]:\n",
    "        # j が未訪問だったとき、j への最短距離を更新して、キューの末尾に追加する\n",
    "        if dist[j] == -1:\n",
    "            dist[j] = dist[i] + 1\n",
    "            Q.append(j)"
   ]
  },
  {
   "cell_type": "code",
   "execution_count": 60,
   "id": "utility-steps",
   "metadata": {},
   "outputs": [
    {
     "name": "stdout",
     "output_type": "stream",
     "text": [
      "POSSIBLE\n"
     ]
    }
   ],
   "source": [
    "if dist[N - 1] == 2:\n",
    "    print(\"POSSIBLE\")\n",
    "else:\n",
    "    print(\"IMPOSSIBLE\")"
   ]
  },
  {
   "cell_type": "markdown",
   "id": "weird-qualification",
   "metadata": {},
   "source": [
    "### ダイクストラ法"
   ]
  },
  {
   "cell_type": "code",
   "execution_count": 61,
   "id": "systematic-concert",
   "metadata": {},
   "outputs": [],
   "source": [
    "import heapq"
   ]
  },
  {
   "cell_type": "code",
   "execution_count": 127,
   "id": "active-dynamics",
   "metadata": {},
   "outputs": [
    {
     "data": {
      "text/plain": [
       "'A'"
      ]
     },
     "execution_count": 127,
     "metadata": {},
     "output_type": "execute_result"
    }
   ],
   "source": [
    "# キューを作る\n",
    "Q = deque()\n",
    "\n",
    "# キューに要素を追加する\n",
    "Q.append(\"A\")\n",
    "\n",
    "# キューから要素を取り出す\n",
    "Q.popleft()"
   ]
  },
  {
   "cell_type": "code",
   "execution_count": 128,
   "id": "designing-incidence",
   "metadata": {},
   "outputs": [
    {
     "data": {
      "text/plain": [
       "'A'"
      ]
     },
     "execution_count": 128,
     "metadata": {},
     "output_type": "execute_result"
    }
   ],
   "source": [
    "# ヒープを作る\n",
    "Q = []\n",
    "\n",
    "# ヒープに要素を追加する\n",
    "heapq.heappush(Q, \"A\")\n",
    "\n",
    "heapq.heappop(Q)"
   ]
  },
  {
   "cell_type": "code",
   "execution_count": 129,
   "id": "concerned-bottom",
   "metadata": {},
   "outputs": [],
   "source": [
    "import heapq"
   ]
  },
  {
   "cell_type": "code",
   "execution_count": 130,
   "id": "approximate-signal",
   "metadata": {},
   "outputs": [
    {
     "name": "stdin",
     "output_type": "stream",
     "text": [
      " 3 2\n"
     ]
    }
   ],
   "source": [
    "N, M = map(int, input().split())"
   ]
  },
  {
   "cell_type": "code",
   "execution_count": 131,
   "id": "miniature-mailman",
   "metadata": {},
   "outputs": [],
   "source": [
    "# グラフは隣接リストとして保持する\n",
    "G = []"
   ]
  },
  {
   "cell_type": "code",
   "execution_count": 132,
   "id": "legal-colon",
   "metadata": {},
   "outputs": [],
   "source": [
    "for _ in range(0, N):\n",
    "    G.append([])"
   ]
  },
  {
   "cell_type": "code",
   "execution_count": 133,
   "id": "dedicated-scanning",
   "metadata": {},
   "outputs": [
    {
     "data": {
      "text/plain": [
       "[[], [], []]"
      ]
     },
     "execution_count": 133,
     "metadata": {},
     "output_type": "execute_result"
    }
   ],
   "source": [
    "G"
   ]
  },
  {
   "cell_type": "code",
   "execution_count": 134,
   "id": "athletic-trace",
   "metadata": {},
   "outputs": [
    {
     "name": "stdin",
     "output_type": "stream",
     "text": [
      " 1 2\n",
      " 2 3\n"
     ]
    }
   ],
   "source": [
    "# グラフの辺を受け取る\n",
    "for _ in range(0, M):\n",
    "    ai, bi = map(int, input().split())\n",
    "    \n",
    "    # 頂点番号は -1 して 0 から始まるようにする\n",
    "    ai -= 1\n",
    "    bi -= 1\n",
    "    \n",
    "    # ai と bi の間に辺を張る\n",
    "    G[ai].append(bi)\n",
    "    G[bi].append(ai)"
   ]
  },
  {
   "cell_type": "markdown",
   "id": "driven-watson",
   "metadata": {},
   "source": [
    "### グラフ上でダイクストラ法を実行し、頂点 0 から各頂点への距離を求める"
   ]
  },
  {
   "cell_type": "code",
   "execution_count": 135,
   "id": "happy-nightmare",
   "metadata": {},
   "outputs": [],
   "source": [
    "# 頂点 0 から各頂点への最短距離を保持する配列\n",
    "# N 個の -1 で満たしておく(-1 の場合は未訪問であることを表す)\n",
    "dist = []"
   ]
  },
  {
   "cell_type": "code",
   "execution_count": 136,
   "id": "stylish-nudist",
   "metadata": {},
   "outputs": [],
   "source": [
    "for _ in range(0, N):\n",
    "    dist.append(-1)"
   ]
  },
  {
   "cell_type": "code",
   "execution_count": 137,
   "id": "structural-aggregate",
   "metadata": {},
   "outputs": [
    {
     "data": {
      "text/plain": [
       "[-1, -1, -1]"
      ]
     },
     "execution_count": 137,
     "metadata": {},
     "output_type": "execute_result"
    }
   ],
   "source": [
    "dist"
   ]
  },
  {
   "cell_type": "code",
   "execution_count": 138,
   "id": "vanilla-injection",
   "metadata": {},
   "outputs": [],
   "source": [
    "# ダイクストラ法で使うヒープ\n",
    "Q = []"
   ]
  },
  {
   "cell_type": "code",
   "execution_count": 139,
   "id": "horizontal-services",
   "metadata": {},
   "outputs": [],
   "source": [
    "# 始点となる頂点 0 をヒープに追加しておく\n",
    "# (距離、頂点) として追加する\n",
    "heapq.heappush(Q, (0, 0))"
   ]
  },
  {
   "cell_type": "code",
   "execution_count": 140,
   "id": "allied-worker",
   "metadata": {},
   "outputs": [
    {
     "data": {
      "text/plain": [
       "[(0, 0)]"
      ]
     },
     "execution_count": 140,
     "metadata": {},
     "output_type": "execute_result"
    }
   ],
   "source": [
    "Q"
   ]
  },
  {
   "cell_type": "code",
   "execution_count": 141,
   "id": "documented-disney",
   "metadata": {},
   "outputs": [],
   "source": [
    "# 始点となる頂点 0 への最短距離は 0 とする\n",
    "dist[0] = 0"
   ]
  },
  {
   "cell_type": "code",
   "execution_count": 142,
   "id": "adjustable-territory",
   "metadata": {},
   "outputs": [
    {
     "data": {
      "text/plain": [
       "[0, -1, -1]"
      ]
     },
     "execution_count": 142,
     "metadata": {},
     "output_type": "execute_result"
    }
   ],
   "source": [
    "dist"
   ]
  },
  {
   "cell_type": "code",
   "execution_count": 143,
   "id": "mature-tiger",
   "metadata": {},
   "outputs": [
    {
     "name": "stdout",
     "output_type": "stream",
     "text": [
      "elapsed_time:0.0[sec]\n"
     ]
    }
   ],
   "source": [
    "import time\n",
    "\n",
    "start = time.time()\n",
    "\n",
    "# ダイクストラ法で各頂点への最短距離を求める\n",
    "while len(Q) > 0:\n",
    "    \n",
    "    # ヒープの先頭の頂点を取り出して i とする\n",
    "    d, i = heapq.heappop(Q)\n",
    "    \n",
    "    # 頂点 i に隣接する頂点を順番に見る\n",
    "    # 見ている頂点を j とする\n",
    "    for j in G[i]:\n",
    "        # この問題では、辺の重みは常に 1\n",
    "        x = 1\n",
    "        \n",
    "        # j が未訪問だったときは、あるいは j への最短距離が更新可能だった時、\n",
    "        # j への最短距離を更新して、ヒープの末尾に追加する\n",
    "        if dist[j] == -1 or dist[j] > dist[i] + x:\n",
    "            dist[j] = dist[i] + x\n",
    "            heapq.heappush(Q, (dist[j], j))\n",
    "            \n",
    "print(f\"elapsed_time:{round((time.time() - start), 1)}[sec]\")"
   ]
  },
  {
   "cell_type": "code",
   "execution_count": 144,
   "id": "elegant-camera",
   "metadata": {},
   "outputs": [
    {
     "name": "stdout",
     "output_type": "stream",
     "text": [
      "POSSIBLE\n"
     ]
    }
   ],
   "source": [
    "if dist[N - 1] == 2:\n",
    "    print(\"POSSIBLE\")\n",
    "else:\n",
    "    print(\"IMPOSSIBLE\")"
   ]
  },
  {
   "cell_type": "markdown",
   "id": "strong-albuquerque",
   "metadata": {},
   "source": [
    "### ヒープから1度取り出したことがあるかどうかを保存する配列 done を使ったダイクストラ法"
   ]
  },
  {
   "cell_type": "code",
   "execution_count": 145,
   "id": "critical-change",
   "metadata": {},
   "outputs": [],
   "source": [
    "# 最初は N 個の False で埋めておく\n",
    "done = []"
   ]
  },
  {
   "cell_type": "code",
   "execution_count": 146,
   "id": "social-israel",
   "metadata": {},
   "outputs": [],
   "source": [
    "for _ in range(0, N):\n",
    "    done.append(False)"
   ]
  },
  {
   "cell_type": "code",
   "execution_count": 147,
   "id": "western-editing",
   "metadata": {},
   "outputs": [
    {
     "data": {
      "text/plain": [
       "[False, False, False]"
      ]
     },
     "execution_count": 147,
     "metadata": {},
     "output_type": "execute_result"
    }
   ],
   "source": [
    "done"
   ]
  },
  {
   "cell_type": "code",
   "execution_count": 148,
   "id": "regular-intersection",
   "metadata": {},
   "outputs": [],
   "source": [
    "# ダイクストラ法で各頂点への最短距離を求める\n",
    "while len(Q) > 0:\n",
    "    \n",
    "    # ヒープの先頭の頂点を取り出して i とする\n",
    "    d, i = heapq.heappop(Q)\n",
    "    \n",
    "    # もし前にヒープから取り出したことがあれば、\n",
    "    # 隣接する頂点をしらべることをスキップする\n",
    "    if done[i]:\n",
    "        continue\n",
    "        \n",
    "    # ヒープから頂点 i を取り出したことを記録しておく\n",
    "    done[i] = True\n",
    "    \n",
    "    # 頂点 i に隣接する頂点を順番に見る\n",
    "    # 見ている頂点を j とする\n",
    "    for j in G[i]:\n",
    "        # この問題では、辺の重みに常に 1\n",
    "        x = 1\n",
    "        \n",
    "        # j が未訪問だった時、あるいは j への最短距離が更新可能だったとき、\n",
    "        # j への最短距離を更新して、ヒープの末尾に追加する\n",
    "        if dist[j] == -1 or dist[j] > dist[i] + x:\n",
    "            dist[j] = dist[i] + x\n",
    "            heapq.heappush(Q, (dist[j], j))"
   ]
  },
  {
   "cell_type": "code",
   "execution_count": 149,
   "id": "authentic-david",
   "metadata": {},
   "outputs": [
    {
     "data": {
      "text/plain": [
       "[0, 1, 2]"
      ]
     },
     "execution_count": 149,
     "metadata": {},
     "output_type": "execute_result"
    }
   ],
   "source": [
    "dist"
   ]
  },
  {
   "cell_type": "code",
   "execution_count": null,
   "id": "quantitative-market",
   "metadata": {},
   "outputs": [],
   "source": []
  }
 ],
 "metadata": {
  "kernelspec": {
   "display_name": "Python 3",
   "language": "python",
   "name": "python3"
  },
  "language_info": {
   "codemirror_mode": {
    "name": "ipython",
    "version": 3
   },
   "file_extension": ".py",
   "mimetype": "text/x-python",
   "name": "python",
   "nbconvert_exporter": "python",
   "pygments_lexer": "ipython3",
   "version": "3.8.5"
  }
 },
 "nbformat": 4,
 "nbformat_minor": 5
}
