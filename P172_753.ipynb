{
 "cells": [
  {
   "cell_type": "code",
   "execution_count": 6,
   "id": "thirty-transcript",
   "metadata": {},
   "outputs": [
    {
     "name": "stdin",
     "output_type": "stream",
     "text": [
      " 575\n"
     ]
    }
   ],
   "source": [
    "N = int(input())"
   ]
  },
  {
   "cell_type": "code",
   "execution_count": 7,
   "id": "young-bachelor",
   "metadata": {},
   "outputs": [],
   "source": [
    "ans = 0"
   ]
  },
  {
   "cell_type": "code",
   "execution_count": 8,
   "id": "given-genome",
   "metadata": {},
   "outputs": [],
   "source": [
    "# 数 n について調べ、末尾に数字を追加した数を再帰的に調べる関数\n",
    "# use3, use5, use7 は それぞれ 3, 5, 7 を使ったかというフラグ\n",
    "def dfs(n, use3, use5, use7):\n",
    "    global ans\n",
    "    # N を超えていたら打ち切って終了する\n",
    "    if n > N:\n",
    "        return\n",
    "    # 3種類全てを使っていたら答えに加算する\n",
    "    if use3 and use5 and use7:\n",
    "        ans += 1\n",
    "    # 末尾に3, 5, 7 を付けた数を再帰的に調べる\n",
    "    dfs(10*n+3, True, use5, use7)\n",
    "    dfs(10*n+5, use3, True, use7)\n",
    "    dfs(10*n+7, use3, use5, True)"
   ]
  },
  {
   "cell_type": "code",
   "execution_count": 9,
   "id": "naughty-columbia",
   "metadata": {},
   "outputs": [],
   "source": [
    "# 何もない状態 (値としては 0) から呼び出す\n",
    "dfs(0, False, False, False)"
   ]
  },
  {
   "cell_type": "code",
   "execution_count": 10,
   "id": "pointed-uncle",
   "metadata": {},
   "outputs": [
    {
     "name": "stdout",
     "output_type": "stream",
     "text": [
      "4\n"
     ]
    }
   ],
   "source": [
    "# 答えを出力する\n",
    "print(ans)"
   ]
  },
  {
   "cell_type": "code",
   "execution_count": null,
   "id": "invisible-punch",
   "metadata": {},
   "outputs": [],
   "source": []
  }
 ],
 "metadata": {
  "kernelspec": {
   "display_name": "Python 3",
   "language": "python",
   "name": "python3"
  },
  "language_info": {
   "codemirror_mode": {
    "name": "ipython",
    "version": 3
   },
   "file_extension": ".py",
   "mimetype": "text/x-python",
   "name": "python",
   "nbconvert_exporter": "python",
   "pygments_lexer": "ipython3",
   "version": "3.8.5"
  }
 },
 "nbformat": 4,
 "nbformat_minor": 5
}
