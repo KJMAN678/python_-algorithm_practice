{
 "cells": [
  {
   "cell_type": "code",
   "execution_count": 1,
   "id": "proper-clause",
   "metadata": {},
   "outputs": [],
   "source": [
    "### 3つの正の整数 A, B, C\n",
    "### 998244353 で割った余り"
   ]
  },
  {
   "cell_type": "code",
   "execution_count": 2,
   "id": "laden-press",
   "metadata": {},
   "outputs": [
    {
     "name": "stdin",
     "output_type": "stream",
     "text": [
      " 1 2 3\n"
     ]
    }
   ],
   "source": [
    "A, B, C = map(int, input().split())"
   ]
  },
  {
   "cell_type": "code",
   "execution_count": 3,
   "id": "annoying-personal",
   "metadata": {},
   "outputs": [],
   "source": [
    "sum = 0"
   ]
  },
  {
   "cell_type": "code",
   "execution_count": 4,
   "id": "organized-overhead",
   "metadata": {},
   "outputs": [],
   "source": [
    "for a in range(1, A + 1):\n",
    "    for b in range(1, B + 1):\n",
    "        for c in range(1, C + 1):\n",
    "            sum += a * b * c\n",
    "            sum %= 998244353"
   ]
  },
  {
   "cell_type": "code",
   "execution_count": 5,
   "id": "smart-romance",
   "metadata": {},
   "outputs": [
    {
     "name": "stdout",
     "output_type": "stream",
     "text": [
      "18\n"
     ]
    }
   ],
   "source": [
    "print(sum)"
   ]
  },
  {
   "cell_type": "code",
   "execution_count": 6,
   "id": "varying-anderson",
   "metadata": {},
   "outputs": [
    {
     "name": "stdin",
     "output_type": "stream",
     "text": [
      " 1 2 3\n"
     ]
    }
   ],
   "source": [
    "A, B, C = map(int, input().split())"
   ]
  },
  {
   "cell_type": "code",
   "execution_count": 10,
   "id": "representative-group",
   "metadata": {},
   "outputs": [],
   "source": [
    "D = A * (A + 1) // 2\n",
    "E = B * (B + 1) // 2\n",
    "F = C * (C + 1) // 2"
   ]
  },
  {
   "cell_type": "code",
   "execution_count": 11,
   "id": "spoken-gilbert",
   "metadata": {},
   "outputs": [],
   "source": [
    "ans = (D * E * F) % 998244343"
   ]
  },
  {
   "cell_type": "code",
   "execution_count": 12,
   "id": "transparent-concrete",
   "metadata": {},
   "outputs": [
    {
     "name": "stdout",
     "output_type": "stream",
     "text": [
      "18\n"
     ]
    }
   ],
   "source": [
    "print(ans)"
   ]
  }
 ],
 "metadata": {
  "kernelspec": {
   "display_name": "Python 3",
   "language": "python",
   "name": "python3"
  },
  "language_info": {
   "codemirror_mode": {
    "name": "ipython",
    "version": 3
   },
   "file_extension": ".py",
   "mimetype": "text/x-python",
   "name": "python",
   "nbconvert_exporter": "python",
   "pygments_lexer": "ipython3",
   "version": "3.8.5"
  }
 },
 "nbformat": 4,
 "nbformat_minor": 5
}
