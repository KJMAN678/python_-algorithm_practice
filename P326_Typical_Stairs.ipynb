{
 "cells": [
  {
   "cell_type": "code",
   "execution_count": 1,
   "id": "representative-optics",
   "metadata": {},
   "outputs": [],
   "source": [
    "# N 階段の段数\n",
    "# 高橋君は1段か2段上ることができる\n",
    "# ai...am 段目の床はこわれている"
   ]
  },
  {
   "cell_type": "code",
   "execution_count": 2,
   "id": "grave-gothic",
   "metadata": {},
   "outputs": [
    {
     "name": "stdin",
     "output_type": "stream",
     "text": [
      " 6 1\n"
     ]
    }
   ],
   "source": [
    "N, M = list(map(int, input().split()))"
   ]
  },
  {
   "cell_type": "code",
   "execution_count": 3,
   "id": "checked-repeat",
   "metadata": {},
   "outputs": [],
   "source": [
    "# ok[i] = True であれば i 段目が使える\n",
    "ok = [True] * (N+1)"
   ]
  },
  {
   "cell_type": "code",
   "execution_count": 4,
   "id": "bored-century",
   "metadata": {},
   "outputs": [
    {
     "data": {
      "text/plain": [
       "[True, True, True, True, True, True, True]"
      ]
     },
     "execution_count": 4,
     "metadata": {},
     "output_type": "execute_result"
    }
   ],
   "source": [
    "ok"
   ]
  },
  {
   "cell_type": "code",
   "execution_count": 5,
   "id": "wrong-mixture",
   "metadata": {},
   "outputs": [
    {
     "name": "stdin",
     "output_type": "stream",
     "text": [
      " 3\n"
     ]
    }
   ],
   "source": [
    "for i in range(M):\n",
    "    a = int(input())\n",
    "    ok[a] = False"
   ]
  },
  {
   "cell_type": "code",
   "execution_count": 6,
   "id": "liked-webmaster",
   "metadata": {},
   "outputs": [
    {
     "data": {
      "text/plain": [
       "[True, True, True, False, True, True, True]"
      ]
     },
     "execution_count": 6,
     "metadata": {},
     "output_type": "execute_result"
    }
   ],
   "source": [
    "ok"
   ]
  },
  {
   "cell_type": "code",
   "execution_count": 7,
   "id": "structured-chain",
   "metadata": {},
   "outputs": [],
   "source": [
    "MOD = 10 ** 9 + 7"
   ]
  },
  {
   "cell_type": "code",
   "execution_count": 8,
   "id": "overall-darkness",
   "metadata": {},
   "outputs": [
    {
     "data": {
      "text/plain": [
       "1000000007"
      ]
     },
     "execution_count": 8,
     "metadata": {},
     "output_type": "execute_result"
    }
   ],
   "source": [
    "MOD"
   ]
  },
  {
   "cell_type": "code",
   "execution_count": 9,
   "id": "adolescent-label",
   "metadata": {},
   "outputs": [],
   "source": [
    "# cnt[i]:i段目までたどりつく移動方法の数\n",
    "cnt = [0]*(N+1)"
   ]
  },
  {
   "cell_type": "code",
   "execution_count": 10,
   "id": "prepared-enlargement",
   "metadata": {},
   "outputs": [
    {
     "data": {
      "text/plain": [
       "[0, 0, 0, 0, 0, 0, 0]"
      ]
     },
     "execution_count": 10,
     "metadata": {},
     "output_type": "execute_result"
    }
   ],
   "source": [
    "cnt"
   ]
  },
  {
   "cell_type": "code",
   "execution_count": 11,
   "id": "arranged-victim",
   "metadata": {},
   "outputs": [],
   "source": [
    "# 初期条件\n",
    "cnt[0] = 1"
   ]
  },
  {
   "cell_type": "code",
   "execution_count": 12,
   "id": "thermal-earth",
   "metadata": {},
   "outputs": [],
   "source": [
    "for i in range(1, N+1):\n",
    "    if ok[i]:\n",
    "        if i == 1:\n",
    "            cnt[i] = cnt[i-1]\n",
    "        else:\n",
    "            cnt[i] = (cnt[i-1] + cnt[i-2]) % MOD"
   ]
  },
  {
   "cell_type": "code",
   "execution_count": 13,
   "id": "pretty-rings",
   "metadata": {},
   "outputs": [
    {
     "name": "stdout",
     "output_type": "stream",
     "text": [
      "4\n"
     ]
    }
   ],
   "source": [
    "print(cnt[N])"
   ]
  },
  {
   "cell_type": "code",
   "execution_count": null,
   "id": "heated-tribe",
   "metadata": {},
   "outputs": [],
   "source": []
  }
 ],
 "metadata": {
  "kernelspec": {
   "display_name": "Python 3",
   "language": "python",
   "name": "python3"
  },
  "language_info": {
   "codemirror_mode": {
    "name": "ipython",
    "version": 3
   },
   "file_extension": ".py",
   "mimetype": "text/x-python",
   "name": "python",
   "nbconvert_exporter": "python",
   "pygments_lexer": "ipython3",
   "version": "3.8.5"
  }
 },
 "nbformat": 4,
 "nbformat_minor": 5
}
