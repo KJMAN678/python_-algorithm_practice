{
 "cells": [
  {
   "cell_type": "code",
   "execution_count": 15,
   "id": "burning-palestinian",
   "metadata": {},
   "outputs": [],
   "source": [
    "# N 皿の枚数\n",
    "# 料理 i を食べると高橋君は A ポイントの幸福度を得る\n",
    "# 料理 i を食べると青木君は B ポイントの幸福度を得る\n",
    "# ともに幸福度を最大化させようとする\n",
    "# A - B を最大化\n",
    "# 自分が相手よりどれだけ幸福度を得ているか、を相対的な幸福度 とする"
   ]
  },
  {
   "cell_type": "code",
   "execution_count": 16,
   "id": "american-session",
   "metadata": {},
   "outputs": [],
   "source": [
    "# 青木さんが全部の料理を持っていると仮定すると\n",
    "# 高橋君が i の料理を食べると、青木さんの満足度は -Bi、高橋君は +Ai となり、相対的な幸福度は Ai+Biとなる"
   ]
  },
  {
   "cell_type": "code",
   "execution_count": 17,
   "id": "understood-ozone",
   "metadata": {},
   "outputs": [
    {
     "name": "stdin",
     "output_type": "stream",
     "text": [
      " 3\n"
     ]
    }
   ],
   "source": [
    "N = int(input())"
   ]
  },
  {
   "cell_type": "code",
   "execution_count": 18,
   "id": "broadband-effect",
   "metadata": {},
   "outputs": [],
   "source": [
    "# A[i] + B[i] の大きい準にソートする\n",
    "# -A[i] - B[i] を先頭に入れておく\n",
    "arr = []"
   ]
  },
  {
   "cell_type": "code",
   "execution_count": 19,
   "id": "metallic-perry",
   "metadata": {},
   "outputs": [
    {
     "name": "stdin",
     "output_type": "stream",
     "text": [
      " 10 10\n",
      " 20 20\n",
      " 30 30\n"
     ]
    }
   ],
   "source": [
    "for i in range(N):\n",
    "    a, b = list(map(int, input().split()))\n",
    "    arr.append([a+b, a, b])"
   ]
  },
  {
   "cell_type": "code",
   "execution_count": 20,
   "id": "known-dryer",
   "metadata": {},
   "outputs": [],
   "source": [
    "arr.sort(reverse=True)"
   ]
  },
  {
   "cell_type": "code",
   "execution_count": 21,
   "id": "international-medline",
   "metadata": {},
   "outputs": [
    {
     "data": {
      "text/plain": [
       "[[60, 30, 30], [40, 20, 20], [20, 10, 10]]"
      ]
     },
     "execution_count": 21,
     "metadata": {},
     "output_type": "execute_result"
    }
   ],
   "source": [
    "arr"
   ]
  },
  {
   "cell_type": "code",
   "execution_count": 22,
   "id": "mental-kernel",
   "metadata": {},
   "outputs": [],
   "source": [
    "ans = 0"
   ]
  },
  {
   "cell_type": "code",
   "execution_count": 23,
   "id": "verbal-rugby",
   "metadata": {},
   "outputs": [],
   "source": [
    "for i in range(N):\n",
    "    c, a, b = arr[i]\n",
    "    if i % 2 == 0:\n",
    "        ans += a\n",
    "    else:\n",
    "        ans -= b"
   ]
  },
  {
   "cell_type": "code",
   "execution_count": 24,
   "id": "accessory-verse",
   "metadata": {},
   "outputs": [
    {
     "name": "stdout",
     "output_type": "stream",
     "text": [
      "20\n"
     ]
    }
   ],
   "source": [
    "print(ans)"
   ]
  }
 ],
 "metadata": {
  "kernelspec": {
   "display_name": "Python 3",
   "language": "python",
   "name": "python3"
  },
  "language_info": {
   "codemirror_mode": {
    "name": "ipython",
    "version": 3
   },
   "file_extension": ".py",
   "mimetype": "text/x-python",
   "name": "python",
   "nbconvert_exporter": "python",
   "pygments_lexer": "ipython3",
   "version": "3.8.5"
  }
 },
 "nbformat": 4,
 "nbformat_minor": 5
}
