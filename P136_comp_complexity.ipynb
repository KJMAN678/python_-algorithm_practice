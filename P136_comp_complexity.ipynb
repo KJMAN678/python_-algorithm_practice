{
 "cells": [
  {
   "cell_type": "markdown",
   "id": "colonial-slope",
   "metadata": {},
   "source": [
    "### 計算量"
   ]
  },
  {
   "cell_type": "code",
   "execution_count": 3,
   "id": "happy-marine",
   "metadata": {},
   "outputs": [
    {
     "name": "stdin",
     "output_type": "stream",
     "text": [
      " 100\n"
     ]
    },
    {
     "name": "stdout",
     "output_type": "stream",
     "text": [
      "200\n"
     ]
    }
   ],
   "source": [
    "N = int(input())\n",
    "\n",
    "ans = 2 * N\n",
    "print(ans)"
   ]
  },
  {
   "cell_type": "code",
   "execution_count": 6,
   "id": "chubby-lingerie",
   "metadata": {},
   "outputs": [
    {
     "name": "stdin",
     "output_type": "stream",
     "text": [
      " 10 5 20 9 13 3\n"
     ]
    },
    {
     "name": "stdout",
     "output_type": "stream",
     "text": [
      "60\n"
     ]
    }
   ],
   "source": [
    "sum = 0\n",
    "\n",
    "A = list(map(int, input().split()))\n",
    "\n",
    "N = len(A)\n",
    "\n",
    "for i in range(0, N):\n",
    "    sum += A[i]\n",
    "    \n",
    "print(sum)"
   ]
  },
  {
   "cell_type": "code",
   "execution_count": null,
   "id": "coordinate-haiti",
   "metadata": {},
   "outputs": [],
   "source": []
  }
 ],
 "metadata": {
  "kernelspec": {
   "display_name": "Python 3",
   "language": "python",
   "name": "python3"
  },
  "language_info": {
   "codemirror_mode": {
    "name": "ipython",
    "version": 3
   },
   "file_extension": ".py",
   "mimetype": "text/x-python",
   "name": "python",
   "nbconvert_exporter": "python",
   "pygments_lexer": "ipython3",
   "version": "3.8.5"
  }
 },
 "nbformat": 4,
 "nbformat_minor": 5
}
