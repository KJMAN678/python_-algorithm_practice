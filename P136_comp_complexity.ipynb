{
 "cells": [
  {
   "cell_type": "markdown",
   "id": "small-modern",
   "metadata": {},
   "source": [
    "### 計算量"
   ]
  },
  {
   "cell_type": "code",
   "execution_count": 1,
   "id": "selective-serve",
   "metadata": {},
   "outputs": [
    {
     "name": "stdin",
     "output_type": "stream",
     "text": [
      " 100\n"
     ]
    },
    {
     "name": "stdout",
     "output_type": "stream",
     "text": [
      "200\n"
     ]
    }
   ],
   "source": [
    "N = int(input())\n",
    "\n",
    "ans = 2 * N\n",
    "print(ans)"
   ]
  },
  {
   "cell_type": "code",
   "execution_count": 2,
   "id": "subjective-globe",
   "metadata": {},
   "outputs": [
    {
     "name": "stdin",
     "output_type": "stream",
     "text": [
      " 10 5 8 19 21 40\n"
     ]
    },
    {
     "name": "stdout",
     "output_type": "stream",
     "text": [
      "103\n"
     ]
    }
   ],
   "source": [
    "sum = 0\n",
    "\n",
    "A = list(map(int, input().split()))\n",
    "\n",
    "N = len(A)\n",
    "\n",
    "for i in range(0, N):\n",
    "    sum += A[i]\n",
    "    \n",
    "print(sum)"
   ]
  },
  {
   "cell_type": "code",
   "execution_count": 3,
   "id": "computational-standard",
   "metadata": {},
   "outputs": [],
   "source": [
    "# 各数が含まれている個数を保持する辞書\n",
    "count = {}\n",
    "\n",
    "for i in range(0, N):\n",
    "    \n",
    "    # もし count に A[i] の個数がなければ 0 で初期化する\n",
    "    if A[i] not in count:\n",
    "        count[A[i]] = 0\n",
    "        \n",
    "    # A[i]の個数を加算する\n",
    "    count[A[i]] += 1"
   ]
  },
  {
   "cell_type": "code",
   "execution_count": 4,
   "id": "perceived-hampton",
   "metadata": {},
   "outputs": [
    {
     "data": {
      "text/plain": [
       "{10: 1, 5: 1, 8: 1, 19: 1, 21: 1, 40: 1}"
      ]
     },
     "execution_count": 4,
     "metadata": {},
     "output_type": "execute_result"
    }
   ],
   "source": [
    "count"
   ]
  },
  {
   "cell_type": "code",
   "execution_count": 13,
   "id": "linear-sherman",
   "metadata": {},
   "outputs": [
    {
     "name": "stdout",
     "output_type": "stream",
     "text": [
      "0:0  1:0  2:0  3:0  4:0  5:1  6:0  7:0  8:1  9:0  10:1  11:0  12:0  13:0  14:0  15:0  16:0  17:0  18:0  19:1  "
     ]
    }
   ],
   "source": [
    "M = 20\n",
    "# 1以上 M 未満の各 i について数えた個数を出力する\n",
    "for i in range(0, M):\n",
    "    \n",
    "    if i not in count:\n",
    "        # もし count に i の個数がなければ 0 を出力する\n",
    "        print(f\"{i}:0\", end=\"  \")\n",
    "    else:\n",
    "        # もし count に i の個数があれば、その個数を出力する\n",
    "        print(f\"{i}:{count[i]}\", end=\"  \")"
   ]
  },
  {
   "cell_type": "code",
   "execution_count": null,
   "id": "expanded-consortium",
   "metadata": {},
   "outputs": [],
   "source": []
  }
 ],
 "metadata": {
  "kernelspec": {
   "display_name": "Python 3",
   "language": "python",
   "name": "python3"
  },
  "language_info": {
   "codemirror_mode": {
    "name": "ipython",
    "version": 3
   },
   "file_extension": ".py",
   "mimetype": "text/x-python",
   "name": "python",
   "nbconvert_exporter": "python",
   "pygments_lexer": "ipython3",
   "version": "3.8.5"
  }
 },
 "nbformat": 4,
 "nbformat_minor": 5
}
