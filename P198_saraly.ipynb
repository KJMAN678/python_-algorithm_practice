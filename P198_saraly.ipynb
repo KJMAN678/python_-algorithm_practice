{
 "cells": [
  {
   "cell_type": "code",
   "execution_count": null,
   "id": "historic-field",
   "metadata": {},
   "outputs": [],
   "source": [
    "# N 社員の人数\n",
    "# 高橋君は社長（高橋君以外は高橋君の全員部下）で社員番号1\n",
    "# 高橋君以外の社員iには社員番号が小さい上司 Bi が必ず一人いる\n",
    "# 部下のいない社員の給料 1\n",
    "# 直属の部下がいる社員の給料は max(直属の部下の給料) + min(直属の部下の給料) + 1\n",
    "# 部下が一人の場合は 部下の給料の2倍 + 1"
   ]
  },
  {
   "cell_type": "code",
   "execution_count": 1,
   "id": "constant-kansas",
   "metadata": {},
   "outputs": [],
   "source": [
    "# 再帰上限を増やす\n",
    "import sys\n",
    "sys.setrecursionlimit(1000000)"
   ]
  },
  {
   "cell_type": "code",
   "execution_count": 2,
   "id": "superior-joseph",
   "metadata": {},
   "outputs": [
    {
     "name": "stdin",
     "output_type": "stream",
     "text": [
      " 7\n"
     ]
    }
   ],
   "source": [
    "N = int(input())"
   ]
  },
  {
   "cell_type": "code",
   "execution_count": 3,
   "id": "renewable-expense",
   "metadata": {},
   "outputs": [],
   "source": [
    "# child[i]:頂点 i の子(部下)となる頂点たち\n",
    "child = []"
   ]
  },
  {
   "cell_type": "code",
   "execution_count": 4,
   "id": "thousand-chest",
   "metadata": {},
   "outputs": [],
   "source": [
    "for i in range(N):\n",
    "    child.append([])"
   ]
  },
  {
   "cell_type": "code",
   "execution_count": 5,
   "id": "ignored-noise",
   "metadata": {},
   "outputs": [
    {
     "name": "stdin",
     "output_type": "stream",
     "text": [
      " 1\n",
      " 1\n",
      " 2\n",
      " 2\n",
      " 3\n",
      " 3\n"
     ]
    }
   ],
   "source": [
    "# この数字は「上司は社員番号何番の人か？を表す」\n",
    "# 1 ということは 上司は社員番号1の高橋君、となる\n",
    "for i in range(1, N):\n",
    "    b = int(input())\n",
    "    child[b-1].append(i)"
   ]
  },
  {
   "cell_type": "code",
   "execution_count": 6,
   "id": "juvenile-destruction",
   "metadata": {},
   "outputs": [
    {
     "data": {
      "text/plain": [
       "[[1, 2], [3, 4], [5, 6], [], [], [], []]"
      ]
     },
     "execution_count": 6,
     "metadata": {},
     "output_type": "execute_result"
    }
   ],
   "source": [
    "child"
   ]
  },
  {
   "cell_type": "code",
   "execution_count": 8,
   "id": "ranging-wyoming",
   "metadata": {},
   "outputs": [],
   "source": [
    "# 再帰関数を定義する\n",
    "# dfs(i):頂点 i の子の給料をすべて求め、自信の給料を計算して返す\n",
    "def dfs(i):\n",
    "    # 子がいなければ 1\n",
    "    if len(child[i]) == 0:\n",
    "        return 1\n",
    "    \n",
    "    else:\n",
    "        values = []\n",
    "        for j in child[i]:\n",
    "            values.append(dfs(j))\n",
    "        return max(values) + min(values) + 1"
   ]
  },
  {
   "cell_type": "code",
   "execution_count": 9,
   "id": "willing-niagara",
   "metadata": {},
   "outputs": [
    {
     "name": "stdout",
     "output_type": "stream",
     "text": [
      "7\n"
     ]
    }
   ],
   "source": [
    "# 答えは頂点 0 の給料\n",
    "print(dfs(0))"
   ]
  },
  {
   "cell_type": "code",
   "execution_count": null,
   "id": "funky-basic",
   "metadata": {},
   "outputs": [],
   "source": []
  }
 ],
 "metadata": {
  "kernelspec": {
   "display_name": "Python 3",
   "language": "python",
   "name": "python3"
  },
  "language_info": {
   "codemirror_mode": {
    "name": "ipython",
    "version": 3
   },
   "file_extension": ".py",
   "mimetype": "text/x-python",
   "name": "python",
   "nbconvert_exporter": "python",
   "pygments_lexer": "ipython3",
   "version": "3.8.5"
  }
 },
 "nbformat": 4,
 "nbformat_minor": 5
}
