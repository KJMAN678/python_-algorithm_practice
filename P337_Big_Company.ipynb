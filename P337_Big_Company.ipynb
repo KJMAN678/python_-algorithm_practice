{
 "cells": [
  {
   "cell_type": "code",
   "execution_count": 1,
   "id": "developmental-tennis",
   "metadata": {},
   "outputs": [],
   "source": [
    "# N 社員の人数\n",
    "# 一人は社長で上司がいない\n",
    "# 社員 i の直属の上司は 社員 pi"
   ]
  },
  {
   "cell_type": "code",
   "execution_count": 2,
   "id": "settled-clock",
   "metadata": {},
   "outputs": [],
   "source": [
    "# 再帰上限を増やす\n",
    "import sys"
   ]
  },
  {
   "cell_type": "code",
   "execution_count": 3,
   "id": "alternative-german",
   "metadata": {},
   "outputs": [],
   "source": [
    "sys.setrecursionlimit(100000)"
   ]
  },
  {
   "cell_type": "code",
   "execution_count": 4,
   "id": "breeding-employer",
   "metadata": {},
   "outputs": [
    {
     "name": "stdin",
     "output_type": "stream",
     "text": [
      " 7\n"
     ]
    }
   ],
   "source": [
    "N = int(input())"
   ]
  },
  {
   "cell_type": "code",
   "execution_count": 5,
   "id": "incorporate-practice",
   "metadata": {},
   "outputs": [],
   "source": [
    "# 根(社長)の頂点番号\n",
    "R = -1"
   ]
  },
  {
   "cell_type": "code",
   "execution_count": 6,
   "id": "particular-separate",
   "metadata": {},
   "outputs": [],
   "source": [
    "# edges[i]:頂点 i の子（部下）の頂点番号たち\n",
    "edges = []"
   ]
  },
  {
   "cell_type": "code",
   "execution_count": 7,
   "id": "robust-friday",
   "metadata": {},
   "outputs": [],
   "source": [
    "for i in range(N):\n",
    "    edges.append([])"
   ]
  },
  {
   "cell_type": "raw",
   "id": "radio-escape",
   "metadata": {},
   "source": [
    "edges"
   ]
  },
  {
   "cell_type": "code",
   "execution_count": 11,
   "id": "super-technical",
   "metadata": {},
   "outputs": [
    {
     "name": "stdin",
     "output_type": "stream",
     "text": [
      " -1\n",
      " 1\n",
      " 1\n",
      " 2\n",
      " 2\n",
      " 3\n",
      " 3\n"
     ]
    }
   ],
   "source": [
    "for i in range(N):\n",
    "    p = int(input())\n",
    "    if p == -1:\n",
    "        R = i\n",
    "    else:\n",
    "        edges[p-1].append(i)"
   ]
  },
  {
   "cell_type": "code",
   "execution_count": 12,
   "id": "legitimate-raise",
   "metadata": {},
   "outputs": [
    {
     "data": {
      "text/plain": [
       "[[1, 2], [3, 4], [5, 6], [], [], [], []]"
      ]
     },
     "execution_count": 12,
     "metadata": {},
     "output_type": "execute_result"
    }
   ],
   "source": [
    "edges"
   ]
  },
  {
   "cell_type": "code",
   "execution_count": 13,
   "id": "intimate-sugar",
   "metadata": {},
   "outputs": [],
   "source": [
    "# クエリを受け取り、a の値で分類する\n",
    "# queries[a]:a の値に対応する、[クエリ番号、bの値]を並べた配列\n",
    "queries = []"
   ]
  },
  {
   "cell_type": "code",
   "execution_count": 14,
   "id": "dimensional-association",
   "metadata": {},
   "outputs": [],
   "source": [
    "for i in range(N):\n",
    "    queries.append([])"
   ]
  },
  {
   "cell_type": "code",
   "execution_count": 15,
   "id": "bright-skirt",
   "metadata": {},
   "outputs": [
    {
     "data": {
      "text/plain": [
       "[[], [], [], [], [], [], []]"
      ]
     },
     "execution_count": 15,
     "metadata": {},
     "output_type": "execute_result"
    }
   ],
   "source": [
    "queries"
   ]
  },
  {
   "cell_type": "code",
   "execution_count": 17,
   "id": "bacterial-behavior",
   "metadata": {},
   "outputs": [
    {
     "name": "stdin",
     "output_type": "stream",
     "text": [
      " 6\n"
     ]
    }
   ],
   "source": [
    "Q = int(input())"
   ]
  },
  {
   "cell_type": "code",
   "execution_count": 18,
   "id": "reliable-sullivan",
   "metadata": {},
   "outputs": [
    {
     "name": "stdin",
     "output_type": "stream",
     "text": [
      " 7 1\n",
      " 4 1\n",
      " 2 3\n",
      " 5 1\n",
      " 5 2\n",
      " 2 5\n"
     ]
    }
   ],
   "source": [
    "for q in range(Q):\n",
    "    a, b = list(map(int, input().split()))\n",
    "    queries[a-1].append([q, b-1])"
   ]
  },
  {
   "cell_type": "code",
   "execution_count": 19,
   "id": "figured-yemen",
   "metadata": {},
   "outputs": [
    {
     "data": {
      "text/plain": [
       "[[], [[2, 2], [5, 4]], [], [[1, 0]], [[3, 0], [4, 1]], [], [[0, 0]]]"
      ]
     },
     "execution_count": 19,
     "metadata": {},
     "output_type": "execute_result"
    }
   ],
   "source": [
    "queries"
   ]
  },
  {
   "cell_type": "code",
   "execution_count": 20,
   "id": "mighty-potato",
   "metadata": {},
   "outputs": [],
   "source": [
    "# 答えとなる値。True/Falseで格納する\n",
    "ans = [False]*Q\n",
    "# boss[i]:頂点 i が今見ている頂点の上司ならTrue\n",
    "boss = [False]*N"
   ]
  },
  {
   "cell_type": "code",
   "execution_count": 21,
   "id": "general-wichita",
   "metadata": {},
   "outputs": [],
   "source": [
    "# 再帰関数で深さ優先探索を実装する\n",
    "def dfs(i):\n",
    "    # クエリを処理する\n",
    "    for q, b in queries[i]:\n",
    "        ans[q] = boss[b]\n",
    "    # 自身を上司に設定する\n",
    "    boss[i] = True\n",
    "    # 再帰的に子を見ていく\n",
    "    for j in edges[i]:\n",
    "        dfs(j)\n",
    "    # 抜けるときに自信を上司から外す\n",
    "    boss[i] = False"
   ]
  },
  {
   "cell_type": "code",
   "execution_count": 22,
   "id": "recognized-baghdad",
   "metadata": {},
   "outputs": [],
   "source": [
    "# 根に対して呼び出す\n",
    "dfs(R)"
   ]
  },
  {
   "cell_type": "code",
   "execution_count": 23,
   "id": "authorized-school",
   "metadata": {},
   "outputs": [
    {
     "name": "stdout",
     "output_type": "stream",
     "text": [
      "Yes\n",
      "Yes\n",
      "No\n",
      "Yes\n",
      "Yes\n",
      "No\n"
     ]
    }
   ],
   "source": [
    "# 答えを全部まとめて出力する\n",
    "for q in range(Q):\n",
    "    if ans[q]:\n",
    "        print(\"Yes\")\n",
    "    else:\n",
    "        print(\"No\")"
   ]
  },
  {
   "cell_type": "code",
   "execution_count": null,
   "id": "about-joyce",
   "metadata": {},
   "outputs": [],
   "source": []
  }
 ],
 "metadata": {
  "kernelspec": {
   "display_name": "Python 3",
   "language": "python",
   "name": "python3"
  },
  "language_info": {
   "codemirror_mode": {
    "name": "ipython",
    "version": 3
   },
   "file_extension": ".py",
   "mimetype": "text/x-python",
   "name": "python",
   "nbconvert_exporter": "python",
   "pygments_lexer": "ipython3",
   "version": "3.8.5"
  }
 },
 "nbformat": 4,
 "nbformat_minor": 5
}
