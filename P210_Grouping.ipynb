{
 "cells": [
  {
   "cell_type": "code",
   "execution_count": 1,
   "id": "irish-slide",
   "metadata": {},
   "outputs": [],
   "source": [
    "# N 社員の人数\n",
    "# これを3つ以下のグループに最適に分割する"
   ]
  },
  {
   "cell_type": "code",
   "execution_count": 2,
   "id": "running-finding",
   "metadata": {},
   "outputs": [],
   "source": [
    "# 社員のペア i, j\n",
    "# 幸福度 A"
   ]
  },
  {
   "cell_type": "code",
   "execution_count": 3,
   "id": "greater-westminster",
   "metadata": {},
   "outputs": [
    {
     "name": "stdin",
     "output_type": "stream",
     "text": [
      " 6\n"
     ]
    }
   ],
   "source": [
    "N = int(input())\n",
    "A = []"
   ]
  },
  {
   "cell_type": "code",
   "execution_count": 4,
   "id": "hungarian-hundred",
   "metadata": {},
   "outputs": [
    {
     "name": "stdin",
     "output_type": "stream",
     "text": [
      " 10 10 -10 -10 -10\n",
      " 10 -10 -10 -10\n",
      " -10 -10 -10\n",
      " 10 -10\n",
      " -10\n"
     ]
    }
   ],
   "source": [
    "for i in range(N-1):\n",
    "    # A[i] は A[i][i+1] からスタートするため、0 から i までの (i+1) 側はダミーで埋める\n",
    "    lst = list(map(int, input().split()))\n",
    "    A.append([0] * (i+1) + lst)"
   ]
  },
  {
   "cell_type": "code",
   "execution_count": 8,
   "id": "proud-locking",
   "metadata": {},
   "outputs": [
    {
     "data": {
      "text/plain": [
       "[[0, 10, 10, -10, -10, -10],\n",
       " [0, 0, 10, -10, -10, -10],\n",
       " [0, 0, 0, -10, -10, -10],\n",
       " [0, 0, 0, 0, 10, -10],\n",
       " [0, 0, 0, 0, 0, -10]]"
      ]
     },
     "execution_count": 8,
     "metadata": {},
     "output_type": "execute_result"
    }
   ],
   "source": [
    "A"
   ]
  },
  {
   "cell_type": "markdown",
   "id": "legendary-coupon",
   "metadata": {},
   "source": [
    "左シフトは左辺の値を右辺の値だけ左へシフトします。  \n",
    "x << n  \n",
    "例として 11 を左へ 2 ビットシフトしてみます。  \n",
    "11 << 2  \n",
    "001011  = 11  \n",
    "------------  \n",
    "101100  = 44  \n",
    "各ビットを指定した数だけ左へシフトします。シフトしたことによって空いた右端には 0 が格納されます。結果として 11 << 2 は 44 となります。  \n",
    "左シフトを 1 ビット行うと値は 2 倍になり、 2 ビット行うと 4 倍となります。  "
   ]
  },
  {
   "cell_type": "code",
   "execution_count": 5,
   "id": "usual-generic",
   "metadata": {},
   "outputs": [],
   "source": [
    "# 集合としてあり得るものの個数、2**N でも同じ\n",
    "# 1 を 左へ6ビットシフト\n",
    "# 1(1) -> 1000000 (64)\n",
    "ALL = 1<<N"
   ]
  },
  {
   "cell_type": "code",
   "execution_count": 7,
   "id": "practical-folks",
   "metadata": {},
   "outputs": [
    {
     "data": {
      "text/plain": [
       "64"
      ]
     },
     "execution_count": 7,
     "metadata": {},
     "output_type": "execute_result"
    }
   ],
   "source": [
    "ALL"
   ]
  },
  {
   "cell_type": "code",
   "execution_count": 6,
   "id": "otherwise-highland",
   "metadata": {},
   "outputs": [],
   "source": [
    "# happy[n]:n で表現される集合をグループにしたときの幸福度\n",
    "happy = [0]*ALL"
   ]
  },
  {
   "cell_type": "code",
   "execution_count": 10,
   "id": "based-billion",
   "metadata": {},
   "outputs": [],
   "source": [
    "import pprint"
   ]
  },
  {
   "cell_type": "code",
   "execution_count": 12,
   "id": "large-perry",
   "metadata": {
    "collapsed": true,
    "jupyter": {
     "outputs_hidden": true
    },
    "tags": []
   },
   "outputs": [
    {
     "data": {
      "text/plain": [
       "[0,\n",
       " 0,\n",
       " 0,\n",
       " 0,\n",
       " 0,\n",
       " 0,\n",
       " 0,\n",
       " 0,\n",
       " 0,\n",
       " 0,\n",
       " 0,\n",
       " 0,\n",
       " 0,\n",
       " 0,\n",
       " 0,\n",
       " 0,\n",
       " 0,\n",
       " 0,\n",
       " 0,\n",
       " 0,\n",
       " 0,\n",
       " 0,\n",
       " 0,\n",
       " 0,\n",
       " 0,\n",
       " 0,\n",
       " 0,\n",
       " 0,\n",
       " 0,\n",
       " 0,\n",
       " 0,\n",
       " 0,\n",
       " 0,\n",
       " 0,\n",
       " 0,\n",
       " 0,\n",
       " 0,\n",
       " 0,\n",
       " 0,\n",
       " 0,\n",
       " 0,\n",
       " 0,\n",
       " 0,\n",
       " 0,\n",
       " 0,\n",
       " 0,\n",
       " 0,\n",
       " 0,\n",
       " 0,\n",
       " 0,\n",
       " 0,\n",
       " 0,\n",
       " 0,\n",
       " 0,\n",
       " 0,\n",
       " 0,\n",
       " 0,\n",
       " 0,\n",
       " 0,\n",
       " 0,\n",
       " 0,\n",
       " 0,\n",
       " 0,\n",
       " 0]"
      ]
     },
     "execution_count": 12,
     "metadata": {},
     "output_type": "execute_result"
    }
   ],
   "source": [
    "happy"
   ]
  },
  {
   "cell_type": "code",
   "execution_count": 13,
   "id": "designing-proposition",
   "metadata": {},
   "outputs": [],
   "source": [
    "# n で表現される集合に要素 i が含まれるかを判定して True/False を返す関数\n",
    "def has_bit(n, i):\n",
    "    return (n & (1<<i) > 0)"
   ]
  },
  {
   "cell_type": "code",
   "execution_count": 14,
   "id": "traditional-superintendent",
   "metadata": {},
   "outputs": [],
   "source": [
    "# happy の値を前もって計算する\n",
    "for n in range(ALL):\n",
    "    for i in range(N):\n",
    "        for j in range(i+1, N):\n",
    "            if has_bit(n, i) and has_bit(n, j):\n",
    "                happy[n] += A[i][j]"
   ]
  },
  {
   "cell_type": "code",
   "execution_count": 15,
   "id": "geographic-virginia",
   "metadata": {},
   "outputs": [
    {
     "data": {
      "text/plain": [
       "[0,\n",
       " 0,\n",
       " 0,\n",
       " 10,\n",
       " 0,\n",
       " 10,\n",
       " 10,\n",
       " 30,\n",
       " 0,\n",
       " -10,\n",
       " -10,\n",
       " -10,\n",
       " -10,\n",
       " -10,\n",
       " -10,\n",
       " 0,\n",
       " 0,\n",
       " -10,\n",
       " -10,\n",
       " -10,\n",
       " -10,\n",
       " -10,\n",
       " -10,\n",
       " 0,\n",
       " 10,\n",
       " -10,\n",
       " -10,\n",
       " -20,\n",
       " -10,\n",
       " -20,\n",
       " -20,\n",
       " -20,\n",
       " 0,\n",
       " -10,\n",
       " -10,\n",
       " -10,\n",
       " -10,\n",
       " -10,\n",
       " -10,\n",
       " 0,\n",
       " -10,\n",
       " -30,\n",
       " -30,\n",
       " -40,\n",
       " -30,\n",
       " -40,\n",
       " -40,\n",
       " -40,\n",
       " -10,\n",
       " -30,\n",
       " -30,\n",
       " -40,\n",
       " -30,\n",
       " -40,\n",
       " -40,\n",
       " -40,\n",
       " -10,\n",
       " -40,\n",
       " -40,\n",
       " -60,\n",
       " -40,\n",
       " -60,\n",
       " -60,\n",
       " -70]"
      ]
     },
     "execution_count": 15,
     "metadata": {},
     "output_type": "execute_result"
    }
   ],
   "source": [
    "happy"
   ]
  },
  {
   "cell_type": "code",
   "execution_count": 16,
   "id": "sunrise-break",
   "metadata": {},
   "outputs": [],
   "source": [
    "# 答えの値。非常に小さい値で初期化して、maxで更新する\n",
    "ans = -10**100"
   ]
  },
  {
   "cell_type": "code",
   "execution_count": 17,
   "id": "conscious-major",
   "metadata": {},
   "outputs": [
    {
     "data": {
      "text/plain": [
       "-10000000000000000000000000000000000000000000000000000000000000000000000000000000000000000000000000000"
      ]
     },
     "execution_count": 17,
     "metadata": {},
     "output_type": "execute_result"
    }
   ],
   "source": [
    "ans"
   ]
  },
  {
   "cell_type": "code",
   "execution_count": 19,
   "id": "valued-johnston",
   "metadata": {},
   "outputs": [],
   "source": [
    "for n1 in range(ALL):\n",
    "    for n2 in range(ALL):\n",
    "        # n1 と n2 で重複があれば無視する\n",
    "        if n1 & n2 > 0:\n",
    "            continue\n",
    "            \n",
    "        # n3 を補集合として求めて答えを更新する\n",
    "        n3 = ALL - 1 - (n1|n2)\n",
    "        \n",
    "        ans = max(ans, happy[n1] + happy[n2] + happy[n3])"
   ]
  },
  {
   "cell_type": "code",
   "execution_count": 20,
   "id": "earned-assurance",
   "metadata": {},
   "outputs": [
    {
     "name": "stdout",
     "output_type": "stream",
     "text": [
      "40\n"
     ]
    }
   ],
   "source": [
    "print(ans)"
   ]
  },
  {
   "cell_type": "code",
   "execution_count": null,
   "id": "honest-surveillance",
   "metadata": {},
   "outputs": [],
   "source": []
  }
 ],
 "metadata": {
  "kernelspec": {
   "display_name": "Python 3",
   "language": "python",
   "name": "python3"
  },
  "language_info": {
   "codemirror_mode": {
    "name": "ipython",
    "version": 3
   },
   "file_extension": ".py",
   "mimetype": "text/x-python",
   "name": "python",
   "nbconvert_exporter": "python",
   "pygments_lexer": "ipython3",
   "version": "3.8.5"
  }
 },
 "nbformat": 4,
 "nbformat_minor": 5
}
