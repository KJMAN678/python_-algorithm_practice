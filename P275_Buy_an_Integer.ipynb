{
 "cells": [
  {
   "cell_type": "code",
   "execution_count": 1,
   "id": "unauthorized-matrix",
   "metadata": {},
   "outputs": [],
   "source": [
    "# X 所持金\n",
    "# N 整数屋さんで売られている整数\n",
    "# AxN-Bxd(N)　代金\n",
    "# 変える最も大きな整数を求めよ、ない場合は0"
   ]
  },
  {
   "cell_type": "code",
   "execution_count": 2,
   "id": "agreed-custody",
   "metadata": {},
   "outputs": [],
   "source": [
    "# ok X円で買える整数のうち、最大のもの\n",
    "# ng x円で買える整数のうち、最小のもの"
   ]
  },
  {
   "cell_type": "code",
   "execution_count": 3,
   "id": "equivalent-isaac",
   "metadata": {},
   "outputs": [
    {
     "name": "stdin",
     "output_type": "stream",
     "text": [
      " 10 7 100\n"
     ]
    }
   ],
   "source": [
    "A, B, X = list(map(int, input().split()))"
   ]
  },
  {
   "cell_type": "code",
   "execution_count": 10,
   "id": "irish-sunrise",
   "metadata": {},
   "outputs": [],
   "source": [
    "ok = 0"
   ]
  },
  {
   "cell_type": "code",
   "execution_count": 11,
   "id": "detailed-arena",
   "metadata": {},
   "outputs": [],
   "source": [
    "ng = 10**9+1"
   ]
  },
  {
   "cell_type": "code",
   "execution_count": 12,
   "id": "champion-french",
   "metadata": {},
   "outputs": [
    {
     "data": {
      "text/plain": [
       "1000000001"
      ]
     },
     "execution_count": 12,
     "metadata": {},
     "output_type": "execute_result"
    }
   ],
   "source": [
    "ng"
   ]
  },
  {
   "cell_type": "code",
   "execution_count": 13,
   "id": "cloudy-optimization",
   "metadata": {},
   "outputs": [
    {
     "name": "stdout",
     "output_type": "stream",
     "text": [
      "d :9\n",
      "d :9\n",
      "d :9\n",
      "d :8\n",
      "d :8\n",
      "d :8\n",
      "d :7\n",
      "d :7\n",
      "d :7\n",
      "d :6\n",
      "d :6\n",
      "d :6\n",
      "d :6\n",
      "d :5\n",
      "d :5\n",
      "d :5\n",
      "d :4\n",
      "d :4\n",
      "d :4\n",
      "d :3\n",
      "d :3\n",
      "d :3\n",
      "d :3\n",
      "d :2\n",
      "d :2\n",
      "d :2\n",
      "d :1\n",
      "d :2\n",
      "d :1\n",
      "d :1\n"
     ]
    }
   ],
   "source": [
    "while abs(ok - ng) > 1:\n",
    "    mid = (ok + ng) // 2\n",
    "    d = len(str(mid))\n",
    "    print(f\"d :{d}\")\n",
    "    price = A * mid + B*d\n",
    "    if price <= X:\n",
    "        ok = mid\n",
    "    else:\n",
    "        ng = mid"
   ]
  },
  {
   "cell_type": "code",
   "execution_count": 8,
   "id": "automatic-thunder",
   "metadata": {},
   "outputs": [
    {
     "name": "stdout",
     "output_type": "stream",
     "text": [
      "9\n"
     ]
    }
   ],
   "source": [
    "print(ok)"
   ]
  },
  {
   "cell_type": "code",
   "execution_count": null,
   "id": "saving-warner",
   "metadata": {},
   "outputs": [],
   "source": []
  }
 ],
 "metadata": {
  "kernelspec": {
   "display_name": "Python 3",
   "language": "python",
   "name": "python3"
  },
  "language_info": {
   "codemirror_mode": {
    "name": "ipython",
    "version": 3
   },
   "file_extension": ".py",
   "mimetype": "text/x-python",
   "name": "python",
   "nbconvert_exporter": "python",
   "pygments_lexer": "ipython3",
   "version": "3.8.5"
  }
 },
 "nbformat": 4,
 "nbformat_minor": 5
}
