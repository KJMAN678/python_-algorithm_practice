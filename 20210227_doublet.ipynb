{
 "cells": [
  {
   "cell_type": "code",
   "execution_count": 20,
   "id": "ahead-albert",
   "metadata": {},
   "outputs": [],
   "source": [
    "import math\n",
    "import time"
   ]
  },
  {
   "cell_type": "markdown",
   "id": "scenic-passport",
   "metadata": {},
   "source": [
    "### 数学的に算定"
   ]
  },
  {
   "cell_type": "code",
   "execution_count": 21,
   "id": "contained-knife",
   "metadata": {},
   "outputs": [
    {
     "name": "stdin",
     "output_type": "stream",
     "text": [
      " 50\n"
     ]
    },
    {
     "name": "stdout",
     "output_type": "stream",
     "text": [
      "50番目のぞろ目は555555です\n",
      "elapsed_time:2.324392795562744[sec]\n"
     ]
    }
   ],
   "source": [
    "start = time.time()\n",
    "\n",
    "# N番目の数字\n",
    "N = int(input())\n",
    "\n",
    "# N番目のぞろ目の数字の桁数\n",
    "number_of_digits = math.ceil(N / 9)\n",
    "\n",
    "# N番目のぞろ目の数字\n",
    "num = N % 9\n",
    "\n",
    "if num == 0:\n",
    "    num = 9\n",
    "\n",
    "# 解答\n",
    "answer = int(str(num) * number_of_digits)\n",
    "print(f\"{N}番目のぞろ目は{answer}です\")\n",
    "\n",
    "\n",
    "elapsed_time = time.time() - start\n",
    "print (\"elapsed_time:{0}\".format(elapsed_time) + \"[sec]\")"
   ]
  },
  {
   "cell_type": "markdown",
   "id": "aware-charity",
   "metadata": {},
   "source": [
    "### 全探索"
   ]
  },
  {
   "cell_type": "code",
   "execution_count": 29,
   "id": "heated-embassy",
   "metadata": {},
   "outputs": [
    {
     "name": "stdin",
     "output_type": "stream",
     "text": [
      " 50\n"
     ]
    },
    {
     "name": "stdout",
     "output_type": "stream",
     "text": [
      "50番目のぞろ目は555555です\n",
      "elapsed_time:4.077911615371704[sec]\n"
     ]
    }
   ],
   "source": [
    "start = time.time()\n",
    "\n",
    "# N番目の数字\n",
    "N = int(input())\n",
    "\n",
    "# 今までに出てきたぞろ目の数\n",
    "\n",
    "count = 0\n",
    "\n",
    "### 1から555555までの整数をすべて調べる\n",
    "for i in range(1, 1000000 + 1):\n",
    "    \n",
    "    # i がぞろ目かどうか調べるために、i を文字列に変換する\n",
    "    s_i = str(i)\n",
    "    \n",
    "    # ぞろ目だったかどうかの判定を保存する変数\n",
    "    judge = True\n",
    "    \n",
    "    # すべての文字列が、1桁目の文字列と同じかどうかを調べる\n",
    "    for s in s_i:\n",
    "        if s != s_i[-1]:\n",
    "            judge = False\n",
    "            \n",
    "    # ぞろ目だったらカウンターを+1する\n",
    "    \n",
    "    count += 1\n",
    "    \n",
    "    if judge and count == N:\n",
    "        answer = i\n",
    "        break\n",
    "\n",
    "print(f\"{N}番目のぞろ目は{answer}です\")\n",
    "\n",
    "elapsed_time = time.time() - start\n",
    "print (\"elapsed_time:{0}\".format(elapsed_time) + \"[sec]\")"
   ]
  },
  {
   "cell_type": "code",
   "execution_count": 24,
   "id": "dominant-original",
   "metadata": {},
   "outputs": [
    {
     "data": {
      "text/plain": [
       "'e'"
      ]
     },
     "execution_count": 24,
     "metadata": {},
     "output_type": "execute_result"
    }
   ],
   "source": [
    "\"abcde\"[-1]"
   ]
  },
  {
   "cell_type": "code",
   "execution_count": null,
   "id": "surprised-refrigerator",
   "metadata": {},
   "outputs": [],
   "source": []
  }
 ],
 "metadata": {
  "kernelspec": {
   "display_name": "Python 3",
   "language": "python",
   "name": "python3"
  },
  "language_info": {
   "codemirror_mode": {
    "name": "ipython",
    "version": 3
   },
   "file_extension": ".py",
   "mimetype": "text/x-python",
   "name": "python",
   "nbconvert_exporter": "python",
   "pygments_lexer": "ipython3",
   "version": "3.8.5"
  }
 },
 "nbformat": 4,
 "nbformat_minor": 5
}
