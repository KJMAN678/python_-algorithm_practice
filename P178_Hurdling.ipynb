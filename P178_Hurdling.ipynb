{
 "cells": [
  {
   "cell_type": "code",
   "execution_count": 1,
   "id": "hazardous-listening",
   "metadata": {},
   "outputs": [
    {
     "name": "stdin",
     "output_type": "stream",
     "text": [
      " 2 5\n"
     ]
    }
   ],
   "source": [
    "N, L = list(map(int, input().split()))"
   ]
  },
  {
   "cell_type": "code",
   "execution_count": 2,
   "id": "collaborative-income",
   "metadata": {},
   "outputs": [
    {
     "name": "stdin",
     "output_type": "stream",
     "text": [
      " 1 4\n"
     ]
    }
   ],
   "source": [
    "X = list(map(int, input().split()))"
   ]
  },
  {
   "cell_type": "code",
   "execution_count": 3,
   "id": "alive-century",
   "metadata": {},
   "outputs": [
    {
     "name": "stdin",
     "output_type": "stream",
     "text": [
      " 2 2 20\n"
     ]
    }
   ],
   "source": [
    "T1, T2, T3 = list(map(int, input().split()))"
   ]
  },
  {
   "cell_type": "code",
   "execution_count": 4,
   "id": "hearing-mercy",
   "metadata": {},
   "outputs": [],
   "source": [
    "# ハードルがある座標において True となるような配列\n",
    "H = [False] * (L+1)\n",
    "for x in X:\n",
    "    H[x] = True"
   ]
  },
  {
   "cell_type": "code",
   "execution_count": 5,
   "id": "pressing-airline",
   "metadata": {},
   "outputs": [
    {
     "data": {
      "text/plain": [
       "[False, True, False, False, True, False]"
      ]
     },
     "execution_count": 5,
     "metadata": {},
     "output_type": "execute_result"
    }
   ],
   "source": [
    "H"
   ]
  },
  {
   "cell_type": "code",
   "execution_count": 6,
   "id": "adopted-roberts",
   "metadata": {},
   "outputs": [],
   "source": [
    "# cost[i]:座標 i で行動を終了するまでの最小所要時間\n",
    "# 非常に大きな値で初期化しておき、min を用いて更新する"
   ]
  },
  {
   "cell_type": "code",
   "execution_count": 7,
   "id": "meaning-delivery",
   "metadata": {},
   "outputs": [],
   "source": [
    "cost = [10**100] * (L+1)"
   ]
  },
  {
   "cell_type": "code",
   "execution_count": 8,
   "id": "secret-sperm",
   "metadata": {},
   "outputs": [
    {
     "data": {
      "text/plain": [
       "[10000000000000000000000000000000000000000000000000000000000000000000000000000000000000000000000000000,\n",
       " 10000000000000000000000000000000000000000000000000000000000000000000000000000000000000000000000000000,\n",
       " 10000000000000000000000000000000000000000000000000000000000000000000000000000000000000000000000000000,\n",
       " 10000000000000000000000000000000000000000000000000000000000000000000000000000000000000000000000000000,\n",
       " 10000000000000000000000000000000000000000000000000000000000000000000000000000000000000000000000000000,\n",
       " 10000000000000000000000000000000000000000000000000000000000000000000000000000000000000000000000000000]"
      ]
     },
     "execution_count": 8,
     "metadata": {},
     "output_type": "execute_result"
    }
   ],
   "source": [
    "cost"
   ]
  },
  {
   "cell_type": "code",
   "execution_count": 9,
   "id": "floppy-equation",
   "metadata": {},
   "outputs": [],
   "source": [
    "# 初期条件\n",
    "cost[0] = 0"
   ]
  },
  {
   "cell_type": "code",
   "execution_count": 10,
   "id": "sustainable-equivalent",
   "metadata": {},
   "outputs": [],
   "source": [
    "# 順番に求めていく\n",
    "for i in range(1, L+1):\n",
    "    # 行動 1\n",
    "    cost[i] = min(cost[i], cost[i-1] + T1)\n",
    "    \n",
    "    # 行動 2\n",
    "    if i >= 2:\n",
    "        cost[i] = min(cost[i], cost[i-2] + T1 + T2)\n",
    "        \n",
    "    # 行動 3\n",
    "    if i >= 4:\n",
    "        cost[i] = min(cost[i], cost[i-4] + T1 + 3*T2)\n",
    "    \n",
    "    # もしハードルがあれば加算\n",
    "    if H[i]:\n",
    "        cost[i] += T3"
   ]
  },
  {
   "cell_type": "code",
   "execution_count": 11,
   "id": "excited-reynolds",
   "metadata": {},
   "outputs": [
    {
     "data": {
      "text/plain": [
       "[0, 22, 4, 6, 28, 10]"
      ]
     },
     "execution_count": 11,
     "metadata": {},
     "output_type": "execute_result"
    }
   ],
   "source": [
    "cost"
   ]
  },
  {
   "cell_type": "code",
   "execution_count": 12,
   "id": "industrial-tuner",
   "metadata": {},
   "outputs": [],
   "source": [
    "# 答えは座標 L にぴったり止まるか、座標(L-3) ~ (L-1) からジャンプ中にゴールしたもの\n",
    "ans = cost[L]\n",
    "for i in [L-3, L-2, L-1]:\n",
    "    if i >= 0:\n",
    "        ans = min(ans, cost[i] + T1//2 + T2*(2*(L-i)-1)//2)"
   ]
  },
  {
   "cell_type": "code",
   "execution_count": 13,
   "id": "comic-welsh",
   "metadata": {},
   "outputs": [
    {
     "name": "stdout",
     "output_type": "stream",
     "text": [
      "10\n"
     ]
    }
   ],
   "source": [
    "print(ans)"
   ]
  },
  {
   "cell_type": "code",
   "execution_count": null,
   "id": "powered-nicholas",
   "metadata": {},
   "outputs": [],
   "source": []
  }
 ],
 "metadata": {
  "kernelspec": {
   "display_name": "Python 3",
   "language": "python",
   "name": "python3"
  },
  "language_info": {
   "codemirror_mode": {
    "name": "ipython",
    "version": 3
   },
   "file_extension": ".py",
   "mimetype": "text/x-python",
   "name": "python",
   "nbconvert_exporter": "python",
   "pygments_lexer": "ipython3",
   "version": "3.8.5"
  }
 },
 "nbformat": 4,
 "nbformat_minor": 5
}
