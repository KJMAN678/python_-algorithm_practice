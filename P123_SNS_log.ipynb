{
 "cells": [
  {
   "cell_type": "code",
   "execution_count": 1,
   "id": "micro-pitch",
   "metadata": {},
   "outputs": [
    {
     "name": "stdin",
     "output_type": "stream",
     "text": [
      " 6 7\n"
     ]
    }
   ],
   "source": [
    "N, Q = map(int, input().split())"
   ]
  },
  {
   "cell_type": "code",
   "execution_count": 2,
   "id": "premier-picture",
   "metadata": {},
   "outputs": [],
   "source": [
    "# False の N x N の 2次元配列を作る\n",
    "graph = []"
   ]
  },
  {
   "cell_type": "code",
   "execution_count": 3,
   "id": "described-development",
   "metadata": {},
   "outputs": [],
   "source": [
    "for i in range(0, N):\n",
    "    \n",
    "    # 長さ N の False の1次元配列を作る\n",
    "    row = []\n",
    "    for j in range(0, N):\n",
    "        row.append(False)\n",
    "        \n",
    "    # 長さ N の False の 1次元配列を graph に追加する\n",
    "    graph.append(row)"
   ]
  },
  {
   "cell_type": "markdown",
   "id": "collaborative-connection",
   "metadata": {},
   "source": [
    "有向グラフの場合は、graph[a][b]はTrue、graph[b][a]はFalseにすると、a → b という有向グラフに出来る"
   ]
  },
  {
   "cell_type": "code",
   "execution_count": 4,
   "id": "behavioral-greeting",
   "metadata": {},
   "outputs": [
    {
     "ename": "NameError",
     "evalue": "name 'a' is not defined",
     "output_type": "error",
     "traceback": [
      "\u001b[1;31m---------------------------------------------------------------------------\u001b[0m",
      "\u001b[1;31mNameError\u001b[0m                                 Traceback (most recent call last)",
      "\u001b[1;32m<ipython-input-4-cd70fcad3f45>\u001b[0m in \u001b[0;36m<module>\u001b[1;34m\u001b[0m\n\u001b[0;32m      3\u001b[0m \u001b[1;33m\u001b[0m\u001b[0m\n\u001b[0;32m      4\u001b[0m     \u001b[1;31m# 頂点 v から頂点 a へと辺があるとき\u001b[0m\u001b[1;33m\u001b[0m\u001b[1;33m\u001b[0m\u001b[1;33m\u001b[0m\u001b[0m\n\u001b[1;32m----> 5\u001b[1;33m     \u001b[1;32mif\u001b[0m \u001b[0mgraph\u001b[0m\u001b[1;33m[\u001b[0m\u001b[0mv\u001b[0m\u001b[1;33m]\u001b[0m\u001b[1;33m[\u001b[0m\u001b[0ma\u001b[0m\u001b[1;33m]\u001b[0m\u001b[1;33m:\u001b[0m\u001b[1;33m\u001b[0m\u001b[1;33m\u001b[0m\u001b[0m\n\u001b[0m\u001b[0;32m      6\u001b[0m \u001b[1;33m\u001b[0m\u001b[0m\n\u001b[0;32m      7\u001b[0m         \u001b[1;31m# 頂点 a から頂点 v へと辺を張る\u001b[0m\u001b[1;33m\u001b[0m\u001b[1;33m\u001b[0m\u001b[1;33m\u001b[0m\u001b[0m\n",
      "\u001b[1;31mNameError\u001b[0m: name 'a' is not defined"
     ]
    }
   ],
   "source": [
    "# すべての頂点を順番に見る。見ている頂点を v とする\n",
    "for v in range(0, N):\n",
    "    \n",
    "    # 頂点 v から頂点 a へと辺があるとき\n",
    "    if graph[v][a]:\n",
    "        \n",
    "        # 頂点 a から頂点 v へと辺を張る\n",
    "        graph[a][v] = True"
   ]
  },
  {
   "cell_type": "code",
   "execution_count": 5,
   "id": "alien-domain",
   "metadata": {},
   "outputs": [
    {
     "ename": "NameError",
     "evalue": "name 'a' is not defined",
     "output_type": "error",
     "traceback": [
      "\u001b[1;31m---------------------------------------------------------------------------\u001b[0m",
      "\u001b[1;31mNameError\u001b[0m                                 Traceback (most recent call last)",
      "\u001b[1;32m<ipython-input-5-5692c149d8f7>\u001b[0m in \u001b[0;36m<module>\u001b[1;34m\u001b[0m\n\u001b[0;32m      3\u001b[0m \u001b[1;33m\u001b[0m\u001b[0m\n\u001b[0;32m      4\u001b[0m     \u001b[1;31m# 頂点 a から頂点 v へと向かう辺があるとき\u001b[0m\u001b[1;33m\u001b[0m\u001b[1;33m\u001b[0m\u001b[1;33m\u001b[0m\u001b[0m\n\u001b[1;32m----> 5\u001b[1;33m     \u001b[1;32mif\u001b[0m \u001b[0mgraph\u001b[0m\u001b[1;33m[\u001b[0m\u001b[0ma\u001b[0m\u001b[1;33m]\u001b[0m\u001b[1;33m[\u001b[0m\u001b[0mv\u001b[0m\u001b[1;33m]\u001b[0m\u001b[1;33m:\u001b[0m\u001b[1;33m\u001b[0m\u001b[1;33m\u001b[0m\u001b[0m\n\u001b[0m\u001b[0;32m      6\u001b[0m \u001b[1;33m\u001b[0m\u001b[0m\n\u001b[0;32m      7\u001b[0m         \u001b[1;31m# さらにすべての頂点を順番に見る。見ている頂点を w とする\u001b[0m\u001b[1;33m\u001b[0m\u001b[1;33m\u001b[0m\u001b[1;33m\u001b[0m\u001b[0m\n",
      "\u001b[1;31mNameError\u001b[0m: name 'a' is not defined"
     ]
    }
   ],
   "source": [
    "# すべての頂点を順番に見る。見ている頂点を v とする\n",
    "for v in range(0, N):\n",
    "    \n",
    "    # 頂点 a から頂点 v へと向かう辺があるとき\n",
    "    if graph[a][v]:\n",
    "        \n",
    "        # さらにすべての頂点を順番に見る。見ている頂点を w とする\n",
    "        for w in range(0, N):\n",
    "            \n",
    "            # 頂点 v から頂点 w へと辺があり、かつ w が a でないとき\n",
    "            if graph[v][w] and w != a:\n",
    "                \n",
    "                # 頂点 a から頂点 w へと辺を張る\n",
    "                graph[a][w] = True"
   ]
  },
  {
   "cell_type": "markdown",
   "id": "apparent-works",
   "metadata": {},
   "source": [
    "### 修正版"
   ]
  },
  {
   "cell_type": "code",
   "execution_count": 6,
   "id": "governmental-reliance",
   "metadata": {},
   "outputs": [
    {
     "ename": "NameError",
     "evalue": "name 'a' is not defined",
     "output_type": "error",
     "traceback": [
      "\u001b[1;31m---------------------------------------------------------------------------\u001b[0m",
      "\u001b[1;31mNameError\u001b[0m                                 Traceback (most recent call last)",
      "\u001b[1;32m<ipython-input-6-b0f03aedcb34>\u001b[0m in \u001b[0;36m<module>\u001b[1;34m\u001b[0m\n\u001b[0;32m      6\u001b[0m \u001b[1;33m\u001b[0m\u001b[0m\n\u001b[0;32m      7\u001b[0m     \u001b[1;31m# 頂点 a から 頂点 v へと辺があるとき\u001b[0m\u001b[1;33m\u001b[0m\u001b[1;33m\u001b[0m\u001b[1;33m\u001b[0m\u001b[0m\n\u001b[1;32m----> 8\u001b[1;33m     \u001b[1;32mif\u001b[0m \u001b[0mgraph\u001b[0m\u001b[1;33m[\u001b[0m\u001b[0ma\u001b[0m\u001b[1;33m]\u001b[0m\u001b[1;33m[\u001b[0m\u001b[0mv\u001b[0m\u001b[1;33m]\u001b[0m\u001b[1;33m:\u001b[0m\u001b[1;33m\u001b[0m\u001b[1;33m\u001b[0m\u001b[0m\n\u001b[0m\u001b[0;32m      9\u001b[0m \u001b[1;33m\u001b[0m\u001b[0m\n\u001b[0;32m     10\u001b[0m         \u001b[1;31m# さらにすべての頂点を順番に見る。見ている頂点を w とする\u001b[0m\u001b[1;33m\u001b[0m\u001b[1;33m\u001b[0m\u001b[1;33m\u001b[0m\u001b[0m\n",
      "\u001b[1;31mNameError\u001b[0m: name 'a' is not defined"
     ]
    }
   ],
   "source": [
    "# 頂点 a から辺を張る予定の頂点のリスト\n",
    "to_follow = []\n",
    "\n",
    "# すべての頂点を順番に見る。見ている頂点を v とする\n",
    "for v in range(0, N):\n",
    "    \n",
    "    # 頂点 a から 頂点 v へと辺があるとき\n",
    "    if graph[a][v]:\n",
    "        \n",
    "        # さらにすべての頂点を順番に見る。見ている頂点を w とする\n",
    "        for w in range(0, N):\n",
    "            \n",
    "            # 頂点 v から頂点 w へと辺があり、かつ w が a ではないとき\n",
    "            if graph[v][w] and w != a:\n",
    "                \n",
    "                # あとで頂点 a から辺を張るために記録しておく\n",
    "                to_follow.append(w)\n",
    "                \n",
    "# 頂点 a から辺を張る\n",
    "for w in to_follow:\n",
    "    graph[a][w] = True"
   ]
  },
  {
   "cell_type": "code",
   "execution_count": 7,
   "id": "aggregate-prior",
   "metadata": {},
   "outputs": [
    {
     "name": "stdout",
     "output_type": "stream",
     "text": [
      "NNNNNN\n",
      "NNNNNN\n",
      "NNNNNN\n",
      "NNNNNN\n",
      "NNNNNN\n",
      "NNNNNN\n"
     ]
    }
   ],
   "source": [
    "# 隣接行列をすべて出力する\n",
    "for i in range(0, N):\n",
    "    for j in range(0, N):\n",
    "        \n",
    "        # i から j へと辺がある場合は Y を、辺がない場合は N を出力する。改行はしない。\n",
    "        if graph[i][j]:\n",
    "            print('Y', end=\"\")\n",
    "        else:\n",
    "            print('N', end=\"\")\n",
    "            \n",
    "    # N 文字出力するごとに改行する\n",
    "    print()"
   ]
  },
  {
   "cell_type": "markdown",
   "id": "critical-thesis",
   "metadata": {},
   "source": [
    "### まとめ"
   ]
  },
  {
   "cell_type": "code",
   "execution_count": 14,
   "id": "authentic-samuel",
   "metadata": {},
   "outputs": [
    {
     "name": "stdin",
     "output_type": "stream",
     "text": [
      " 6 7\n"
     ]
    }
   ],
   "source": [
    "N, Q = map(int, input().split())"
   ]
  },
  {
   "cell_type": "code",
   "execution_count": 15,
   "id": "super-ivory",
   "metadata": {},
   "outputs": [],
   "source": [
    "# False の N x N の2次元配列を作る\n",
    "graph = []"
   ]
  },
  {
   "cell_type": "code",
   "execution_count": 16,
   "id": "ahead-alberta",
   "metadata": {},
   "outputs": [],
   "source": [
    "for i in range(0, N):\n",
    "    \n",
    "    # 長さ N の False の1次元配列を作る\n",
    "    row = []\n",
    "    for j in range(0, N):\n",
    "        row.append(False)\n",
    "        \n",
    "    # 長さ N の False の1次元配列を graph に追加する\n",
    "    graph.append(row)"
   ]
  },
  {
   "cell_type": "code",
   "execution_count": 17,
   "id": "proper-southeast",
   "metadata": {},
   "outputs": [
    {
     "data": {
      "text/plain": [
       "[[False, False, False, False, False, False],\n",
       " [False, False, False, False, False, False],\n",
       " [False, False, False, False, False, False],\n",
       " [False, False, False, False, False, False],\n",
       " [False, False, False, False, False, False],\n",
       " [False, False, False, False, False, False]]"
      ]
     },
     "execution_count": 17,
     "metadata": {},
     "output_type": "execute_result"
    }
   ],
   "source": [
    "graph"
   ]
  },
  {
   "cell_type": "code",
   "execution_count": 18,
   "id": "conservative-biography",
   "metadata": {},
   "outputs": [
    {
     "name": "stdin",
     "output_type": "stream",
     "text": [
      " 1 1 2\n",
      " 1 2 3\n",
      " 1 3 4\n",
      " 1 1 5\n",
      " 1 5 6\n",
      " 3 1\n",
      " 2 6\n"
     ]
    }
   ],
   "source": [
    "# Q 個の操作を受け取る\n",
    "for i in range(0, Q):\n",
    "    query = list(map(int, input().split()))\n",
    "    \n",
    "    # 頂点番号は-1する\n",
    "    a = query[1]-1\n",
    "    \n",
    "    # 「フォロー」の操作の場合\n",
    "    if query[0] == 1:\n",
    "    \n",
    "        # 頂点番号は-1する\n",
    "        b = query[2]-1\n",
    "        \n",
    "        # a から b へと辺を張る\n",
    "        graph[a][b] = True\n",
    "        \n",
    "    # 「フォロー全返し」の操作の場合\n",
    "    if query[0] == 2:\n",
    "        \n",
    "        # すべての頂点を順番に見る。見ている頂点を v とする\n",
    "        for v in range(0, N):\n",
    "            \n",
    "            # 頂点を v から頂点 a へと辺があるとき\n",
    "            if graph[v][a]:\n",
    "                \n",
    "                # 頂点 a から頂点 v へと辺を張る\n",
    "                graph[a][v] = True\n",
    "                \n",
    "    # 「フォローフォロー」の操作の場合\n",
    "    if query[0] == 3:\n",
    "        \n",
    "        # 頂点 a から辺を張る予定の頂点のリスト\n",
    "        to_follow = []\n",
    "        \n",
    "        # すべての頂点を順番に見る。見ている頂点を v とする\n",
    "        for v in range(0, N):\n",
    "            \n",
    "            # 頂点 a から頂点 v へと辺があるとき\n",
    "            if graph[a][v]:\n",
    "                \n",
    "                # さらにすべての頂点を順番に見る。見ている頂点を w とする\n",
    "                for w in range(0, N):\n",
    "                    \n",
    "                    # 頂点 v から頂点 w へと辺があり、かつ w が a でないとき\n",
    "                    if graph[v][w] and w != a:\n",
    "                        \n",
    "                        # あとで頂点 a から辺を張るために記録しておく\n",
    "                        to_follow.append(w)\n",
    "                        \n",
    "        # 頂点 a から辺を張る\n",
    "        for w in to_follow:\n",
    "            graph[a][w] = True"
   ]
  },
  {
   "cell_type": "code",
   "execution_count": 19,
   "id": "anticipated-roman",
   "metadata": {},
   "outputs": [
    {
     "name": "stdout",
     "output_type": "stream",
     "text": [
      "NYYNYY\n",
      "NNYNNN\n",
      "NNNYNN\n",
      "NNNNNN\n",
      "NNNNNY\n",
      "YNNNYN\n"
     ]
    }
   ],
   "source": [
    "# 隣接行列をすべて出力する\n",
    "for i in range(0, N):\n",
    "    for j in range(0, N):\n",
    "        \n",
    "        # i から j へと辺がある場合は Y を、辺がない場合は N を出力する。改行はしない\n",
    "        if graph[i][j]:\n",
    "            print(\"Y\", end=\"\")\n",
    "        else:\n",
    "            print(\"N\", end=\"\")\n",
    "            \n",
    "    # N 文字出力するごとに改行する\n",
    "    print()"
   ]
  },
  {
   "cell_type": "code",
   "execution_count": null,
   "id": "vocal-forward",
   "metadata": {},
   "outputs": [],
   "source": []
  }
 ],
 "metadata": {
  "kernelspec": {
   "display_name": "Python 3",
   "language": "python",
   "name": "python3"
  },
  "language_info": {
   "codemirror_mode": {
    "name": "ipython",
    "version": 3
   },
   "file_extension": ".py",
   "mimetype": "text/x-python",
   "name": "python",
   "nbconvert_exporter": "python",
   "pygments_lexer": "ipython3",
   "version": "3.8.5"
  }
 },
 "nbformat": 4,
 "nbformat_minor": 5
}
